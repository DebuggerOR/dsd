{
 "cells": [
  {
   "cell_type": "code",
   "execution_count": 10,
   "metadata": {
    "collapsed": true
   },
   "outputs": [
    {
     "data": {
      "text/plain": "<Figure size 1332x756 with 0 Axes>"
     },
     "metadata": {},
     "output_type": "display_data"
    }
   ],
   "source": [
    "import pandas as pd\n",
    "import matplotlib.pyplot as plt\n",
    "import numpy as np\n",
    "fig = plt.gcf()\n",
    "fig.set_size_inches(18.5, 10.5)"
   ]
  },
  {
   "cell_type": "markdown",
   "source": [
    "## Full-Blockage Static-Line"
   ],
   "metadata": {
    "collapsed": false
   }
  },
  {
   "cell_type": "code",
   "execution_count": 11,
   "outputs": [
    {
     "name": "stdout",
     "output_type": "stream",
     "text": [
      "20\n"
     ]
    },
    {
     "data": {
      "text/plain": "   num_agents  num_robots    f  active_time  planner_time        damage  \\\n0          50         5.0  2.0    70.906200      0.004579   6687.717384   \n1         100         5.0  2.0    81.705510      0.017212  13644.122628   \n2         150         5.0  2.0    76.526427      0.035673  20416.472895   \n3         200         5.0  2.0    76.508817      0.065282  28150.472300   \n4         250         5.0  2.0    80.648042      0.100440  34991.871010   \n\n   num_disabled  \n0     13.333333  \n1     19.666667  \n2     35.666667  \n3     58.000000  \n4     60.000000  ",
      "text/html": "<div>\n<style scoped>\n    .dataframe tbody tr th:only-of-type {\n        vertical-align: middle;\n    }\n\n    .dataframe tbody tr th {\n        vertical-align: top;\n    }\n\n    .dataframe thead th {\n        text-align: right;\n    }\n</style>\n<table border=\"1\" class=\"dataframe\">\n  <thead>\n    <tr style=\"text-align: right;\">\n      <th></th>\n      <th>num_agents</th>\n      <th>num_robots</th>\n      <th>f</th>\n      <th>active_time</th>\n      <th>planner_time</th>\n      <th>damage</th>\n      <th>num_disabled</th>\n    </tr>\n  </thead>\n  <tbody>\n    <tr>\n      <th>0</th>\n      <td>50</td>\n      <td>5.0</td>\n      <td>2.0</td>\n      <td>70.906200</td>\n      <td>0.004579</td>\n      <td>6687.717384</td>\n      <td>13.333333</td>\n    </tr>\n    <tr>\n      <th>1</th>\n      <td>100</td>\n      <td>5.0</td>\n      <td>2.0</td>\n      <td>81.705510</td>\n      <td>0.017212</td>\n      <td>13644.122628</td>\n      <td>19.666667</td>\n    </tr>\n    <tr>\n      <th>2</th>\n      <td>150</td>\n      <td>5.0</td>\n      <td>2.0</td>\n      <td>76.526427</td>\n      <td>0.035673</td>\n      <td>20416.472895</td>\n      <td>35.666667</td>\n    </tr>\n    <tr>\n      <th>3</th>\n      <td>200</td>\n      <td>5.0</td>\n      <td>2.0</td>\n      <td>76.508817</td>\n      <td>0.065282</td>\n      <td>28150.472300</td>\n      <td>58.000000</td>\n    </tr>\n    <tr>\n      <th>4</th>\n      <td>250</td>\n      <td>5.0</td>\n      <td>2.0</td>\n      <td>80.648042</td>\n      <td>0.100440</td>\n      <td>34991.871010</td>\n      <td>60.000000</td>\n    </tr>\n  </tbody>\n</table>\n</div>"
     },
     "execution_count": 11,
     "metadata": {},
     "output_type": "execute_result"
    }
   ],
   "source": [
    "static_planner_results = pd.read_csv ('./expirements/full_blockage_static_line/results.csv')\n",
    "static_planner_results = static_planner_results.groupby('num_agents', as_index=False).mean()\n",
    "print(static_planner_results.shape[0])\n",
    "static_planner_results.head(5)"
   ],
   "metadata": {
    "collapsed": false,
    "pycharm": {
     "name": "#%%\n"
    }
   }
  },
  {
   "cell_type": "markdown",
   "source": [
    "## Full-Blockage Traveling-Line"
   ],
   "metadata": {
    "collapsed": false
   }
  },
  {
   "cell_type": "code",
   "execution_count": 12,
   "outputs": [
    {
     "name": "stdout",
     "output_type": "stream",
     "text": [
      "9\n"
     ]
    },
    {
     "data": {
      "text/plain": "   num_agents  num_robots    f  active_time  planner_time       damage  \\\n0          10         2.0  2.0     6.818560      0.000981   316.249632   \n1          50         2.0  2.0   151.237499      0.109976  2094.443680   \n2         100         2.0  2.0   152.260543      1.064313  4196.507438   \n3         150         2.0  2.0   154.339295      3.972176  6218.977046   \n4         200         2.0  2.0   161.192237     10.309025  8928.755417   \n\n   num_disabled  \n0           9.0  \n1          50.0  \n2         100.0  \n3         150.0  \n4         200.0  ",
      "text/html": "<div>\n<style scoped>\n    .dataframe tbody tr th:only-of-type {\n        vertical-align: middle;\n    }\n\n    .dataframe tbody tr th {\n        vertical-align: top;\n    }\n\n    .dataframe thead th {\n        text-align: right;\n    }\n</style>\n<table border=\"1\" class=\"dataframe\">\n  <thead>\n    <tr style=\"text-align: right;\">\n      <th></th>\n      <th>num_agents</th>\n      <th>num_robots</th>\n      <th>f</th>\n      <th>active_time</th>\n      <th>planner_time</th>\n      <th>damage</th>\n      <th>num_disabled</th>\n    </tr>\n  </thead>\n  <tbody>\n    <tr>\n      <th>0</th>\n      <td>10</td>\n      <td>2.0</td>\n      <td>2.0</td>\n      <td>6.818560</td>\n      <td>0.000981</td>\n      <td>316.249632</td>\n      <td>9.0</td>\n    </tr>\n    <tr>\n      <th>1</th>\n      <td>50</td>\n      <td>2.0</td>\n      <td>2.0</td>\n      <td>151.237499</td>\n      <td>0.109976</td>\n      <td>2094.443680</td>\n      <td>50.0</td>\n    </tr>\n    <tr>\n      <th>2</th>\n      <td>100</td>\n      <td>2.0</td>\n      <td>2.0</td>\n      <td>152.260543</td>\n      <td>1.064313</td>\n      <td>4196.507438</td>\n      <td>100.0</td>\n    </tr>\n    <tr>\n      <th>3</th>\n      <td>150</td>\n      <td>2.0</td>\n      <td>2.0</td>\n      <td>154.339295</td>\n      <td>3.972176</td>\n      <td>6218.977046</td>\n      <td>150.0</td>\n    </tr>\n    <tr>\n      <th>4</th>\n      <td>200</td>\n      <td>2.0</td>\n      <td>2.0</td>\n      <td>161.192237</td>\n      <td>10.309025</td>\n      <td>8928.755417</td>\n      <td>200.0</td>\n    </tr>\n  </tbody>\n</table>\n</div>"
     },
     "execution_count": 12,
     "metadata": {},
     "output_type": "execute_result"
    }
   ],
   "source": [
    "traveling_planner_results = pd.read_csv ('./expirements/full_blockage_traveling_line/results.csv')\n",
    "traveling_planner_results = traveling_planner_results.groupby('num_agents', as_index=False).mean()\n",
    "print(traveling_planner_results.shape[0])\n",
    "traveling_planner_results.head(5)"
   ],
   "metadata": {
    "collapsed": false,
    "pycharm": {
     "name": "#%%\n"
    }
   }
  },
  {
   "cell_type": "markdown",
   "source": [
    "## Full-Blockage Iterative-Assignment"
   ],
   "metadata": {
    "collapsed": false
   }
  },
  {
   "cell_type": "code",
   "execution_count": 13,
   "outputs": [
    {
     "name": "stdout",
     "output_type": "stream",
     "text": [
      "20\n"
     ]
    },
    {
     "data": {
      "text/plain": "   num_agents  num_robots    f  active_time  planner_time        damage  \\\n0          50         5.0  2.0   117.946830      0.037055   2384.791760   \n1         100         5.0  2.0   157.324752      0.128207   6214.895861   \n2         150         5.0  2.0   169.128608      0.289821  10953.761968   \n3         200         5.0  2.0   193.003866      0.532875  16007.236995   \n4         250         5.0  2.0   219.734945      0.793083  23504.923816   \n\n   num_disabled  \n0          50.0  \n1         100.0  \n2         150.0  \n3         200.0  \n4         250.0  ",
      "text/html": "<div>\n<style scoped>\n    .dataframe tbody tr th:only-of-type {\n        vertical-align: middle;\n    }\n\n    .dataframe tbody tr th {\n        vertical-align: top;\n    }\n\n    .dataframe thead th {\n        text-align: right;\n    }\n</style>\n<table border=\"1\" class=\"dataframe\">\n  <thead>\n    <tr style=\"text-align: right;\">\n      <th></th>\n      <th>num_agents</th>\n      <th>num_robots</th>\n      <th>f</th>\n      <th>active_time</th>\n      <th>planner_time</th>\n      <th>damage</th>\n      <th>num_disabled</th>\n    </tr>\n  </thead>\n  <tbody>\n    <tr>\n      <th>0</th>\n      <td>50</td>\n      <td>5.0</td>\n      <td>2.0</td>\n      <td>117.946830</td>\n      <td>0.037055</td>\n      <td>2384.791760</td>\n      <td>50.0</td>\n    </tr>\n    <tr>\n      <th>1</th>\n      <td>100</td>\n      <td>5.0</td>\n      <td>2.0</td>\n      <td>157.324752</td>\n      <td>0.128207</td>\n      <td>6214.895861</td>\n      <td>100.0</td>\n    </tr>\n    <tr>\n      <th>2</th>\n      <td>150</td>\n      <td>5.0</td>\n      <td>2.0</td>\n      <td>169.128608</td>\n      <td>0.289821</td>\n      <td>10953.761968</td>\n      <td>150.0</td>\n    </tr>\n    <tr>\n      <th>3</th>\n      <td>200</td>\n      <td>5.0</td>\n      <td>2.0</td>\n      <td>193.003866</td>\n      <td>0.532875</td>\n      <td>16007.236995</td>\n      <td>200.0</td>\n    </tr>\n    <tr>\n      <th>4</th>\n      <td>250</td>\n      <td>5.0</td>\n      <td>2.0</td>\n      <td>219.734945</td>\n      <td>0.793083</td>\n      <td>23504.923816</td>\n      <td>250.0</td>\n    </tr>\n  </tbody>\n</table>\n</div>"
     },
     "execution_count": 13,
     "metadata": {},
     "output_type": "execute_result"
    }
   ],
   "source": [
    "iterative_planner_results = pd.read_csv ('./expirements/full_blockage_iterative_assigment/results.csv')\n",
    "iterative_planner_results = iterative_planner_results.groupby('num_agents', as_index=False).mean()\n",
    "print(iterative_planner_results.shape[0])\n",
    "iterative_planner_results.head(5)"
   ],
   "metadata": {
    "collapsed": false,
    "pycharm": {
     "name": "#%%\n"
    }
   }
  },
  {
   "cell_type": "markdown",
   "source": [
    "## Full-Blockage Separate-Traveling"
   ],
   "metadata": {
    "collapsed": false
   }
  },
  {
   "cell_type": "code",
   "execution_count": 15,
   "outputs": [
    {
     "name": "stdout",
     "output_type": "stream",
     "text": [
      "5\n"
     ]
    },
    {
     "data": {
      "text/plain": "   num_agents  num_robots    f  active_time  planner_time      damage  \\\n0          50         5.0  2.0   137.367218      0.022126  137.367218   \n1         100         5.0  2.0   153.534597      0.151456  153.534597   \n2         150         5.0  2.0   159.505494      0.525916  159.505494   \n3         200         5.0  2.0   160.711952      1.331864  160.711952   \n4         250         5.0  2.0   163.830876      2.641375  163.830876   \n\n   num_disabled  \n0     38.333333  \n1     73.666667  \n2    111.333333  \n3    142.000000  \n4    168.333333  ",
      "text/html": "<div>\n<style scoped>\n    .dataframe tbody tr th:only-of-type {\n        vertical-align: middle;\n    }\n\n    .dataframe tbody tr th {\n        vertical-align: top;\n    }\n\n    .dataframe thead th {\n        text-align: right;\n    }\n</style>\n<table border=\"1\" class=\"dataframe\">\n  <thead>\n    <tr style=\"text-align: right;\">\n      <th></th>\n      <th>num_agents</th>\n      <th>num_robots</th>\n      <th>f</th>\n      <th>active_time</th>\n      <th>planner_time</th>\n      <th>damage</th>\n      <th>num_disabled</th>\n    </tr>\n  </thead>\n  <tbody>\n    <tr>\n      <th>0</th>\n      <td>50</td>\n      <td>5.0</td>\n      <td>2.0</td>\n      <td>137.367218</td>\n      <td>0.022126</td>\n      <td>137.367218</td>\n      <td>38.333333</td>\n    </tr>\n    <tr>\n      <th>1</th>\n      <td>100</td>\n      <td>5.0</td>\n      <td>2.0</td>\n      <td>153.534597</td>\n      <td>0.151456</td>\n      <td>153.534597</td>\n      <td>73.666667</td>\n    </tr>\n    <tr>\n      <th>2</th>\n      <td>150</td>\n      <td>5.0</td>\n      <td>2.0</td>\n      <td>159.505494</td>\n      <td>0.525916</td>\n      <td>159.505494</td>\n      <td>111.333333</td>\n    </tr>\n    <tr>\n      <th>3</th>\n      <td>200</td>\n      <td>5.0</td>\n      <td>2.0</td>\n      <td>160.711952</td>\n      <td>1.331864</td>\n      <td>160.711952</td>\n      <td>142.000000</td>\n    </tr>\n    <tr>\n      <th>4</th>\n      <td>250</td>\n      <td>5.0</td>\n      <td>2.0</td>\n      <td>163.830876</td>\n      <td>2.641375</td>\n      <td>163.830876</td>\n      <td>168.333333</td>\n    </tr>\n  </tbody>\n</table>\n</div>"
     },
     "execution_count": 15,
     "metadata": {},
     "output_type": "execute_result"
    }
   ],
   "source": [
    "separate_planner_results = pd.read_csv ('./expirements/full_blockage_separate_traveling/results.csv')\n",
    "separate_planner_results = separate_planner_results.groupby('num_agents', as_index=False).mean()\n",
    "print(separate_planner_results.shape[0])\n",
    "separate_planner_results.head(5)"
   ],
   "metadata": {
    "collapsed": false,
    "pycharm": {
     "name": "#%%\n"
    }
   }
  },
  {
   "cell_type": "code",
   "execution_count": 17,
   "outputs": [
    {
     "data": {
      "text/plain": "<Figure size 432x288 with 1 Axes>",
      "image/png": "[encoded data removed]"
     },
     "metadata": {
      "needs_background": "light"
     },
     "output_type": "display_data"
    }
   ],
   "source": [
    "title = 'damage as function of #agents'\n",
    "plt.title(title)\n",
    "plt.xlabel('#agents')\n",
    "plt.ylabel('damage')\n",
    "plt.plot(list(static_planner_results['num_agents']),list(static_planner_results['damage']))\n",
    "plt.plot(list(traveling_planner_results['num_agents']),list(traveling_planner_results['damage']))\n",
    "plt.plot(list(iterative_planner_results['num_agents']),list(iterative_planner_results['damage']))\n",
    "plt.plot(list(separate_planner_results['num_agents']),list(separate_planner_results['damage']))\n",
    "plt.legend(['static line', 'traveling line', 'iterative assignment','separate traveling'])\n",
    "plt.savefig('./plots/'+title+'.png')\n",
    "plt.show()"
   ],
   "metadata": {
    "collapsed": false,
    "pycharm": {
     "name": "#%%\n"
    }
   }
  },
  {
   "cell_type": "code",
   "execution_count": null,
   "outputs": [],
   "source": [
    "title = 'active time as function of #agents'\n",
    "plt.title(title)\n",
    "plt.xlabel('#agents')\n",
    "plt.ylabel('active time')\n",
    "plt.plot(list(static_planner_results['num_agents']),list(static_planner_results['active_time']))\n",
    "plt.plot(list(traveling_planner_results['num_agents']),list(traveling_planner_results['active_time']))\n",
    "plt.plot(list(iterative_planner_results['num_agents']),list(iterative_planner_results['active_time']))\n",
    "plt.legend(['static line', 'traveling line', 'iterative assignment'])\n",
    "plt.savefig('./plots/'+title+'.png')\n",
    "plt.show()"
   ],
   "metadata": {
    "collapsed": false,
    "pycharm": {
     "name": "#%%\n"
    }
   }
  },
  {
   "cell_type": "code",
   "execution_count": null,
   "outputs": [],
   "source": [
    "title = 'planner time as function of #agents'\n",
    "plt.title(title)\n",
    "plt.xlabel('#agents')\n",
    "plt.ylabel('planner time')\n",
    "plt.plot(list(static_planner_results['num_agents']),list(static_planner_results['planner_time']))\n",
    "plt.plot(list(traveling_planner_results['num_agents']),list(traveling_planner_results['planner_time']))\n",
    "plt.plot(list(iterative_planner_results['num_agents']),list(iterative_planner_results['planner_time']))\n",
    "plt.legend(['static line', 'traveling line', 'iterative assignment'])\n",
    "plt.savefig('./plots/'+title+'.png')\n",
    "plt.show()"
   ],
   "metadata": {
    "collapsed": false,
    "pycharm": {
     "name": "#%%\n"
    }
   }
  },
  {
   "cell_type": "code",
   "execution_count": null,
   "outputs": [],
   "source": [
    "title = '#disabled time as function of #agents'\n",
    "plt.title(title)\n",
    "plt.xlabel('#agents')\n",
    "plt.ylabel('#disabled')\n",
    "plt.plot(list(static_planner_results['num_agents']),list(static_planner_results['num_disabled']))\n",
    "plt.plot(list(traveling_planner_results['num_agents']),list(traveling_planner_results['num_disabled']))\n",
    "plt.plot(list(iterative_planner_results['num_agents']),list(iterative_planner_results['num_disabled']))\n",
    "plt.legend(['static line', 'traveling line', 'iterative assignment'])\n",
    "plt.savefig('./plots/'+title+'.png')\n",
    "plt.show()\n"
   ],
   "metadata": {
    "collapsed": false,
    "pycharm": {
     "name": "#%%\n"
    }
   }
  }
 ],
 "metadata": {
  "kernelspec": {
   "display_name": "Python 3",
   "language": "python",
   "name": "python3"
  },
  "language_info": {
   "codemirror_mode": {
    "name": "ipython",
    "version": 2
   },
   "file_extension": ".py",
   "mimetype": "text/x-python",
   "name": "python",
   "nbconvert_exporter": "python",
   "pygments_lexer": "ipython2",
   "version": "2.7.6"
  }
 },
 "nbformat": 4,
 "nbformat_minor": 0
}
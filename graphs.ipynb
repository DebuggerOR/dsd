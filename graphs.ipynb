{
 "cells": [
  {
   "cell_type": "code",
   "execution_count": 19,
   "metadata": {
    "collapsed": true
   },
   "outputs": [],
   "source": [
    "import pandas as pd"
   ]
  },
  {
   "cell_type": "markdown",
   "source": [
    "## Full-Blockage Static-Line"
   ],
   "metadata": {
    "collapsed": false
   }
  },
  {
   "cell_type": "code",
   "execution_count": 20,
   "outputs": [
    {
     "data": {
      "text/plain": "              planner  num_agents  num_robots    f  overall_time  \\\n0   StaticLinePlanner          10          20  2.0            70   \n1   StaticLinePlanner          10          18  2.0            71   \n2   StaticLinePlanner          10          14  2.0            61   \n3   StaticLinePlanner          10          19  2.0            59   \n4   StaticLinePlanner          10          21  2.0            63   \n5   StaticLinePlanner          20          23  2.0            62   \n6   StaticLinePlanner          20          24  2.0            65   \n7   StaticLinePlanner          20          23  2.0            67   \n8   StaticLinePlanner          20          24  2.0            70   \n9   StaticLinePlanner          20          20  2.0            58   \n10  StaticLinePlanner          50          25  2.0            67   \n11  StaticLinePlanner          50          25  2.0            69   \n12  StaticLinePlanner          50          25  2.0            76   \n13  StaticLinePlanner          50          25  2.0            72   \n14  StaticLinePlanner          50          25  2.0            73   \n\n    completion_time  planner_time  damage  num_disabled  num_escaped  \n0         21.249469      0.000964     361             6            4  \n1         28.206564      0.000708     411             5            5  \n2         31.144755      0.000521     385             8            2  \n3         34.952142      0.000748     406             8            2  \n4         27.946402      0.000892     367             5            5  \n5         36.465855      0.001275     758            15            5  \n6         34.013859      0.004571     806            10           10  \n7         33.307489      0.006012     800            12            8  \n8         31.086226      0.006424     826             9           11  \n9         32.778462      0.007391     602            15            5  \n10        28.368836      0.003715    1882            30           20  \n11        27.612203      0.006562    1836            27           23  \n12        22.660393      0.008601    2029            22           28  \n13        27.767442      0.003730    1871            28           22  \n14        32.367354      0.003784    2168            22           28  ",
      "text/html": "<div>\n<style scoped>\n    .dataframe tbody tr th:only-of-type {\n        vertical-align: middle;\n    }\n\n    .dataframe tbody tr th {\n        vertical-align: top;\n    }\n\n    .dataframe thead th {\n        text-align: right;\n    }\n</style>\n<table border=\"1\" class=\"dataframe\">\n  <thead>\n    <tr style=\"text-align: right;\">\n      <th></th>\n      <th>planner</th>\n      <th>num_agents</th>\n      <th>num_robots</th>\n      <th>f</th>\n      <th>overall_time</th>\n      <th>completion_time</th>\n      <th>planner_time</th>\n      <th>damage</th>\n      <th>num_disabled</th>\n      <th>num_escaped</th>\n    </tr>\n  </thead>\n  <tbody>\n    <tr>\n      <th>0</th>\n      <td>StaticLinePlanner</td>\n      <td>10</td>\n      <td>20</td>\n      <td>2.0</td>\n      <td>70</td>\n      <td>21.249469</td>\n      <td>0.000964</td>\n      <td>361</td>\n      <td>6</td>\n      <td>4</td>\n    </tr>\n    <tr>\n      <th>1</th>\n      <td>StaticLinePlanner</td>\n      <td>10</td>\n      <td>18</td>\n      <td>2.0</td>\n      <td>71</td>\n      <td>28.206564</td>\n      <td>0.000708</td>\n      <td>411</td>\n      <td>5</td>\n      <td>5</td>\n    </tr>\n    <tr>\n      <th>2</th>\n      <td>StaticLinePlanner</td>\n      <td>10</td>\n      <td>14</td>\n      <td>2.0</td>\n      <td>61</td>\n      <td>31.144755</td>\n      <td>0.000521</td>\n      <td>385</td>\n      <td>8</td>\n      <td>2</td>\n    </tr>\n    <tr>\n      <th>3</th>\n      <td>StaticLinePlanner</td>\n      <td>10</td>\n      <td>19</td>\n      <td>2.0</td>\n      <td>59</td>\n      <td>34.952142</td>\n      <td>0.000748</td>\n      <td>406</td>\n      <td>8</td>\n      <td>2</td>\n    </tr>\n    <tr>\n      <th>4</th>\n      <td>StaticLinePlanner</td>\n      <td>10</td>\n      <td>21</td>\n      <td>2.0</td>\n      <td>63</td>\n      <td>27.946402</td>\n      <td>0.000892</td>\n      <td>367</td>\n      <td>5</td>\n      <td>5</td>\n    </tr>\n    <tr>\n      <th>5</th>\n      <td>StaticLinePlanner</td>\n      <td>20</td>\n      <td>23</td>\n      <td>2.0</td>\n      <td>62</td>\n      <td>36.465855</td>\n      <td>0.001275</td>\n      <td>758</td>\n      <td>15</td>\n      <td>5</td>\n    </tr>\n    <tr>\n      <th>6</th>\n      <td>StaticLinePlanner</td>\n      <td>20</td>\n      <td>24</td>\n      <td>2.0</td>\n      <td>65</td>\n      <td>34.013859</td>\n      <td>0.004571</td>\n      <td>806</td>\n      <td>10</td>\n      <td>10</td>\n    </tr>\n    <tr>\n      <th>7</th>\n      <td>StaticLinePlanner</td>\n      <td>20</td>\n      <td>23</td>\n      <td>2.0</td>\n      <td>67</td>\n      <td>33.307489</td>\n      <td>0.006012</td>\n      <td>800</td>\n      <td>12</td>\n      <td>8</td>\n    </tr>\n    <tr>\n      <th>8</th>\n      <td>StaticLinePlanner</td>\n      <td>20</td>\n      <td>24</td>\n      <td>2.0</td>\n      <td>70</td>\n      <td>31.086226</td>\n      <td>0.006424</td>\n      <td>826</td>\n      <td>9</td>\n      <td>11</td>\n    </tr>\n    <tr>\n      <th>9</th>\n      <td>StaticLinePlanner</td>\n      <td>20</td>\n      <td>20</td>\n      <td>2.0</td>\n      <td>58</td>\n      <td>32.778462</td>\n      <td>0.007391</td>\n      <td>602</td>\n      <td>15</td>\n      <td>5</td>\n    </tr>\n    <tr>\n      <th>10</th>\n      <td>StaticLinePlanner</td>\n      <td>50</td>\n      <td>25</td>\n      <td>2.0</td>\n      <td>67</td>\n      <td>28.368836</td>\n      <td>0.003715</td>\n      <td>1882</td>\n      <td>30</td>\n      <td>20</td>\n    </tr>\n    <tr>\n      <th>11</th>\n      <td>StaticLinePlanner</td>\n      <td>50</td>\n      <td>25</td>\n      <td>2.0</td>\n      <td>69</td>\n      <td>27.612203</td>\n      <td>0.006562</td>\n      <td>1836</td>\n      <td>27</td>\n      <td>23</td>\n    </tr>\n    <tr>\n      <th>12</th>\n      <td>StaticLinePlanner</td>\n      <td>50</td>\n      <td>25</td>\n      <td>2.0</td>\n      <td>76</td>\n      <td>22.660393</td>\n      <td>0.008601</td>\n      <td>2029</td>\n      <td>22</td>\n      <td>28</td>\n    </tr>\n    <tr>\n      <th>13</th>\n      <td>StaticLinePlanner</td>\n      <td>50</td>\n      <td>25</td>\n      <td>2.0</td>\n      <td>72</td>\n      <td>27.767442</td>\n      <td>0.003730</td>\n      <td>1871</td>\n      <td>28</td>\n      <td>22</td>\n    </tr>\n    <tr>\n      <th>14</th>\n      <td>StaticLinePlanner</td>\n      <td>50</td>\n      <td>25</td>\n      <td>2.0</td>\n      <td>73</td>\n      <td>32.367354</td>\n      <td>0.003784</td>\n      <td>2168</td>\n      <td>22</td>\n      <td>28</td>\n    </tr>\n  </tbody>\n</table>\n</div>"
     },
     "execution_count": 20,
     "metadata": {},
     "output_type": "execute_result"
    }
   ],
   "source": [
    "results = pd.read_csv ('./expirements/full_blockage_static_line/results.csv')\n",
    "results.head(15)"
   ],
   "metadata": {
    "collapsed": false,
    "pycharm": {
     "name": "#%%\n"
    }
   }
  },
  {
   "cell_type": "markdown",
   "source": [
    "## Full-Blockage Traveling-Line"
   ],
   "metadata": {
    "collapsed": false
   }
  },
  {
   "cell_type": "code",
   "execution_count": 21,
   "outputs": [
    {
     "data": {
      "text/plain": "                 planner  num_agents  num_robots    f  overall_time  \\\n0   TravelingLinePlanner          10          23  2.0            57   \n1   TravelingLinePlanner          10          22  2.0            71   \n2   TravelingLinePlanner          10          22  2.0            88   \n3   TravelingLinePlanner          10          23  2.0            55   \n4   TravelingLinePlanner          10          22  2.0            73   \n5   TravelingLinePlanner          20          25  2.0           155   \n6   TravelingLinePlanner          20          24  2.0            62   \n7   TravelingLinePlanner          20          20  2.0            75   \n8   TravelingLinePlanner          20          24  2.0            85   \n9   TravelingLinePlanner          20          24  2.0            80   \n10  TravelingLinePlanner          50          24  2.0            72   \n11  TravelingLinePlanner          50          24  2.0            73   \n12  TravelingLinePlanner          50          25  2.0            73   \n13  TravelingLinePlanner          50          24  2.0            73   \n14  TravelingLinePlanner          50          25  2.0            71   \n\n    completion_time  planner_time  damage  num_disabled  num_escaped  \n0         30.133114      0.001975     300            10            0  \n1         37.818406      0.006676     447            10            0  \n2         23.091270      0.004333     364            10            0  \n3         18.539766      0.005835     287            10            0  \n4         41.335258      0.002310     394            10            0  \n5         40.531724      0.006842    1007            20            0  \n6         37.331152      0.009369     721            20            0  \n7         41.002986      0.010758     761            20            0  \n8         46.796769      0.009604     985            20            0  \n9         42.891737      0.009371     817            20            0  \n10        42.651530      0.129620    2056            50            0  \n11        44.290279      0.170962    2058            50            0  \n12        43.427063      0.126255    2319            50            0  \n13        41.320529      0.104452    2134            50            0  \n14        42.634639      0.138241    2274            50            0  ",
      "text/html": "<div>\n<style scoped>\n    .dataframe tbody tr th:only-of-type {\n        vertical-align: middle;\n    }\n\n    .dataframe tbody tr th {\n        vertical-align: top;\n    }\n\n    .dataframe thead th {\n        text-align: right;\n    }\n</style>\n<table border=\"1\" class=\"dataframe\">\n  <thead>\n    <tr style=\"text-align: right;\">\n      <th></th>\n      <th>planner</th>\n      <th>num_agents</th>\n      <th>num_robots</th>\n      <th>f</th>\n      <th>overall_time</th>\n      <th>completion_time</th>\n      <th>planner_time</th>\n      <th>damage</th>\n      <th>num_disabled</th>\n      <th>num_escaped</th>\n    </tr>\n  </thead>\n  <tbody>\n    <tr>\n      <th>0</th>\n      <td>TravelingLinePlanner</td>\n      <td>10</td>\n      <td>23</td>\n      <td>2.0</td>\n      <td>57</td>\n      <td>30.133114</td>\n      <td>0.001975</td>\n      <td>300</td>\n      <td>10</td>\n      <td>0</td>\n    </tr>\n    <tr>\n      <th>1</th>\n      <td>TravelingLinePlanner</td>\n      <td>10</td>\n      <td>22</td>\n      <td>2.0</td>\n      <td>71</td>\n      <td>37.818406</td>\n      <td>0.006676</td>\n      <td>447</td>\n      <td>10</td>\n      <td>0</td>\n    </tr>\n    <tr>\n      <th>2</th>\n      <td>TravelingLinePlanner</td>\n      <td>10</td>\n      <td>22</td>\n      <td>2.0</td>\n      <td>88</td>\n      <td>23.091270</td>\n      <td>0.004333</td>\n      <td>364</td>\n      <td>10</td>\n      <td>0</td>\n    </tr>\n    <tr>\n      <th>3</th>\n      <td>TravelingLinePlanner</td>\n      <td>10</td>\n      <td>23</td>\n      <td>2.0</td>\n      <td>55</td>\n      <td>18.539766</td>\n      <td>0.005835</td>\n      <td>287</td>\n      <td>10</td>\n      <td>0</td>\n    </tr>\n    <tr>\n      <th>4</th>\n      <td>TravelingLinePlanner</td>\n      <td>10</td>\n      <td>22</td>\n      <td>2.0</td>\n      <td>73</td>\n      <td>41.335258</td>\n      <td>0.002310</td>\n      <td>394</td>\n      <td>10</td>\n      <td>0</td>\n    </tr>\n    <tr>\n      <th>5</th>\n      <td>TravelingLinePlanner</td>\n      <td>20</td>\n      <td>25</td>\n      <td>2.0</td>\n      <td>155</td>\n      <td>40.531724</td>\n      <td>0.006842</td>\n      <td>1007</td>\n      <td>20</td>\n      <td>0</td>\n    </tr>\n    <tr>\n      <th>6</th>\n      <td>TravelingLinePlanner</td>\n      <td>20</td>\n      <td>24</td>\n      <td>2.0</td>\n      <td>62</td>\n      <td>37.331152</td>\n      <td>0.009369</td>\n      <td>721</td>\n      <td>20</td>\n      <td>0</td>\n    </tr>\n    <tr>\n      <th>7</th>\n      <td>TravelingLinePlanner</td>\n      <td>20</td>\n      <td>20</td>\n      <td>2.0</td>\n      <td>75</td>\n      <td>41.002986</td>\n      <td>0.010758</td>\n      <td>761</td>\n      <td>20</td>\n      <td>0</td>\n    </tr>\n    <tr>\n      <th>8</th>\n      <td>TravelingLinePlanner</td>\n      <td>20</td>\n      <td>24</td>\n      <td>2.0</td>\n      <td>85</td>\n      <td>46.796769</td>\n      <td>0.009604</td>\n      <td>985</td>\n      <td>20</td>\n      <td>0</td>\n    </tr>\n    <tr>\n      <th>9</th>\n      <td>TravelingLinePlanner</td>\n      <td>20</td>\n      <td>24</td>\n      <td>2.0</td>\n      <td>80</td>\n      <td>42.891737</td>\n      <td>0.009371</td>\n      <td>817</td>\n      <td>20</td>\n      <td>0</td>\n    </tr>\n    <tr>\n      <th>10</th>\n      <td>TravelingLinePlanner</td>\n      <td>50</td>\n      <td>24</td>\n      <td>2.0</td>\n      <td>72</td>\n      <td>42.651530</td>\n      <td>0.129620</td>\n      <td>2056</td>\n      <td>50</td>\n      <td>0</td>\n    </tr>\n    <tr>\n      <th>11</th>\n      <td>TravelingLinePlanner</td>\n      <td>50</td>\n      <td>24</td>\n      <td>2.0</td>\n      <td>73</td>\n      <td>44.290279</td>\n      <td>0.170962</td>\n      <td>2058</td>\n      <td>50</td>\n      <td>0</td>\n    </tr>\n    <tr>\n      <th>12</th>\n      <td>TravelingLinePlanner</td>\n      <td>50</td>\n      <td>25</td>\n      <td>2.0</td>\n      <td>73</td>\n      <td>43.427063</td>\n      <td>0.126255</td>\n      <td>2319</td>\n      <td>50</td>\n      <td>0</td>\n    </tr>\n    <tr>\n      <th>13</th>\n      <td>TravelingLinePlanner</td>\n      <td>50</td>\n      <td>24</td>\n      <td>2.0</td>\n      <td>73</td>\n      <td>41.320529</td>\n      <td>0.104452</td>\n      <td>2134</td>\n      <td>50</td>\n      <td>0</td>\n    </tr>\n    <tr>\n      <th>14</th>\n      <td>TravelingLinePlanner</td>\n      <td>50</td>\n      <td>25</td>\n      <td>2.0</td>\n      <td>71</td>\n      <td>42.634639</td>\n      <td>0.138241</td>\n      <td>2274</td>\n      <td>50</td>\n      <td>0</td>\n    </tr>\n  </tbody>\n</table>\n</div>"
     },
     "execution_count": 21,
     "metadata": {},
     "output_type": "execute_result"
    }
   ],
   "source": [
    "results = pd.read_csv ('./expirements/full_blockage_traveling_line/results.csv')\n",
    "results.head(15)\n",
    "\n",
    "\n"
   ],
   "metadata": {
    "collapsed": false,
    "pycharm": {
     "name": "#%%\n"
    }
   }
  }
 ],
 "metadata": {
  "kernelspec": {
   "display_name": "Python 3",
   "language": "python",
   "name": "python3"
  },
  "language_info": {
   "codemirror_mode": {
    "name": "ipython",
    "version": 2
   },
   "file_extension": ".py",
   "mimetype": "text/x-python",
   "name": "python",
   "nbconvert_exporter": "python",
   "pygments_lexer": "ipython2",
   "version": "2.7.6"
  }
 },
 "nbformat": 4,
 "nbformat_minor": 0
}
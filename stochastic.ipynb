{
 "cells": [
  {
   "cell_type": "markdown",
   "metadata": {
    "collapsed": true,
    "pycharm": {
     "name": "#%% md\n"
    }
   },
   "source": [
    "# Stochastic Discrete Model"
   ]
  },
  {
   "cell_type": "code",
   "execution_count": 35,
   "outputs": [],
   "source": [
    "import copy\n",
    "import numpy as np\n",
    "import sys\n",
    "import seaborn as sb\n",
    "import random as random\n",
    "import matplotlib.pyplot as plt\n",
    "from utils.point import Point\n",
    "from environment.agents.fixed_velocity_agent import FixedVelocityAgent"
   ],
   "metadata": {
    "collapsed": false,
    "pycharm": {
     "name": "#%%\n"
    }
   }
  },
  {
   "cell_type": "code",
   "execution_count": 36,
   "outputs": [],
   "source": [
    "def show_grid(M):\n",
    "    min_val = np.min(M)\n",
    "    max_val = np.max(M)\n",
    "    sum_val = np.sum(M)\n",
    "\n",
    "    fig, ax = plt.subplots(figsize=(20,6))\n",
    "    sb.heatmap(M, annot=True, fmt=\".4f\", cmap='Blues',\n",
    "           vmin=np.min(M), vmax=np.max(M), cbar_kws={\"shrink\": .8})\n",
    "    plt.show()\n",
    "\n",
    "    print(f'sum of mat cells: {sum_val}')\n",
    "    print(f'max value is: {max_val}')\n",
    "    print(f'min value is: {min_val}')"
   ],
   "metadata": {
    "collapsed": false,
    "pycharm": {
     "name": "#%%\n"
    }
   }
  },
  {
   "cell_type": "code",
   "execution_count": 37,
   "outputs": [],
   "source": [
    "def sum_mats(mats):\n",
    "    total = np.zeros((size,size))\n",
    "    for mat in mats:\n",
    "        total += mat\n",
    "    return total"
   ],
   "metadata": {
    "collapsed": false,
    "pycharm": {
     "name": "#%%\n"
    }
   }
  },
  {
   "cell_type": "markdown",
   "source": [
    "## initial state (lowest layer of the 3d position matrix PM)"
   ],
   "metadata": {
    "collapsed": false,
    "pycharm": {
     "name": "#%% md\n"
    }
   }
  },
  {
   "cell_type": "code",
   "execution_count": 38,
   "outputs": [],
   "source": [
    "random.seed(6)\n",
    "size = 16\n",
    "probs = [0.2, 0.6, 0.2]\n",
    "agents = [FixedVelocityAgent(Point(6,1),1),\n",
    "          FixedVelocityAgent(Point(8,2),1),\n",
    "          FixedVelocityAgent(Point(9,1),1),\n",
    "          FixedVelocityAgent(Point(11,3),1)]\n",
    "max_damage = [size for agent in agents]\n",
    "\n",
    "agents_probs = [np.zeros((size,size)) for _ in agents]\n",
    "for i in range(len(agents)):\n",
    "    agent = agents[i]\n",
    "    c,r = agent.xy\n",
    "    agents_probs[i][r][c] = 1"
   ],
   "metadata": {
    "collapsed": false,
    "pycharm": {
     "name": "#%%\n"
    }
   }
  },
  {
   "cell_type": "code",
   "execution_count": 39,
   "outputs": [
    {
     "data": {
      "text/plain": "<Figure size 1440x432 with 2 Axes>",
      "image/png": "[encoded data removed]"
     },
     "metadata": {
      "needs_background": "light"
     },
     "output_type": "display_data"
    },
    {
     "name": "stdout",
     "output_type": "stream",
     "text": [
      "sum of mat cells: 4.0\n",
      "max value is: 1.0\n",
      "min value is: 0.0\n"
     ]
    }
   ],
   "source": [
    "PM0 = sum_mats(agents_probs)\n",
    "show_grid(PM0)"
   ],
   "metadata": {
    "collapsed": false,
    "pycharm": {
     "name": "#%%\n"
    }
   }
  },
  {
   "cell_type": "markdown",
   "source": [
    "## calculating the position matrix PM"
   ],
   "metadata": {
    "collapsed": false,
    "pycharm": {
     "name": "#%% md\n"
    }
   }
  },
  {
   "cell_type": "code",
   "execution_count": 43,
   "outputs": [],
   "source": [
    "def advance(M):\n",
    "    for i in range(len(M)-1):\n",
    "        for j in range(1,len(M)-1):\n",
    "            left = M[i+1][j-1]\n",
    "            under = M[i+1][j]\n",
    "            right = M[i+1][j+1]\n",
    "            M[i][j] = probs[0] * left + probs[1] * under + probs[2] * right\n",
    "    for i in range(1,len(M)-1):\n",
    "        M[len(M)-1][i] = 0\n",
    "    return M"
   ],
   "metadata": {
    "collapsed": false,
    "pycharm": {
     "name": "#%%\n"
    }
   }
  },
  {
   "cell_type": "code",
   "execution_count": 44,
   "outputs": [
    {
     "name": "stdout",
     "output_type": "stream",
     "text": [
      "[1, 2, 1, 3]\n"
     ]
    },
    {
     "data": {
      "text/plain": "15"
     },
     "execution_count": 44,
     "metadata": {},
     "output_type": "execute_result"
    }
   ],
   "source": [
    "T = size - min([a.y for a in agents])\n",
    "T"
   ],
   "metadata": {
    "collapsed": false,
    "pycharm": {
     "name": "#%%\n"
    }
   }
  },
  {
   "cell_type": "code",
   "execution_count": null,
   "outputs": [],
   "source": [
    "agents_probs = copy.deepcopy(agents_probs)\n",
    "PM = copy.deepcopy(agents_probs)\n",
    "for _ in range(T):\n",
    "    for i in range(len(agents)):\n",
    "        agents_probs[i] = advance(agents_probs[i])"
   ],
   "metadata": {
    "collapsed": false,
    "pycharm": {
     "name": "#%%\n"
    }
   }
  },
  {
   "cell_type": "code",
   "execution_count": null,
   "outputs": [],
   "source": [
    "show_grid()"
   ],
   "metadata": {
    "collapsed": false,
    "pycharm": {
     "name": "#%%\n"
    }
   }
  },
  {
   "cell_type": "code",
   "execution_count": 42,
   "outputs": [],
   "source": [
    "## calculating the utility matrix"
   ],
   "metadata": {
    "collapsed": false,
    "pycharm": {
     "name": "#%%\n"
    }
   }
  },
  {
   "cell_type": "code",
   "execution_count": 42,
   "outputs": [],
   "source": [],
   "metadata": {
    "collapsed": false,
    "pycharm": {
     "name": "#%%\n"
    }
   }
  },
  {
   "cell_type": "code",
   "execution_count": 42,
   "outputs": [],
   "source": [],
   "metadata": {
    "collapsed": false,
    "pycharm": {
     "name": "#%%\n"
    }
   }
  },
  {
   "cell_type": "code",
   "execution_count": 42,
   "outputs": [],
   "source": [],
   "metadata": {
    "collapsed": false,
    "pycharm": {
     "name": "#%%\n"
    }
   }
  },
  {
   "cell_type": "code",
   "execution_count": 42,
   "outputs": [],
   "source": [],
   "metadata": {
    "collapsed": false,
    "pycharm": {
     "name": "#%%\n"
    }
   }
  },
  {
   "cell_type": "code",
   "execution_count": 42,
   "outputs": [],
   "source": [],
   "metadata": {
    "collapsed": false,
    "pycharm": {
     "name": "#%%\n"
    }
   }
  }
 ],
 "metadata": {
  "kernelspec": {
   "display_name": "Python 3",
   "language": "python",
   "name": "python3"
  },
  "language_info": {
   "codemirror_mode": {
    "name": "ipython",
    "version": 2
   },
   "file_extension": ".py",
   "mimetype": "text/x-python",
   "name": "python",
   "nbconvert_exporter": "python",
   "pygments_lexer": "ipython2",
   "version": "2.7.6"
  }
 },
 "nbformat": 4,
 "nbformat_minor": 0
}
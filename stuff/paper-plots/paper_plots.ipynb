{
 "cells": [
  {
   "cell_type": "code",
   "execution_count": 1,
   "metadata": {
    "collapsed": true
   },
   "outputs": [
    {
     "ename": "ModuleNotFoundError",
     "evalue": "No module named 'dataframe_image'",
     "output_type": "error",
     "traceback": [
      "\u001B[0;31m---------------------------------------------------------------------------\u001B[0m",
      "\u001B[0;31mModuleNotFoundError\u001B[0m                       Traceback (most recent call last)",
      "Input \u001B[0;32mIn [1]\u001B[0m, in \u001B[0;36m<module>\u001B[0;34m\u001B[0m\n\u001B[1;32m      1\u001B[0m \u001B[38;5;28;01mimport\u001B[39;00m \u001B[38;5;21;01mmatplotlib\u001B[39;00m\u001B[38;5;21;01m.\u001B[39;00m\u001B[38;5;21;01mpyplot\u001B[39;00m \u001B[38;5;28;01mas\u001B[39;00m \u001B[38;5;21;01mplt\u001B[39;00m\n\u001B[1;32m      2\u001B[0m \u001B[38;5;28;01mimport\u001B[39;00m \u001B[38;5;21;01mpandas\u001B[39;00m \u001B[38;5;28;01mas\u001B[39;00m \u001B[38;5;21;01mpd\u001B[39;00m\n\u001B[0;32m----> 3\u001B[0m \u001B[38;5;28;01mimport\u001B[39;00m \u001B[38;5;21;01mdataframe_image\u001B[39;00m \u001B[38;5;28;01mas\u001B[39;00m \u001B[38;5;21;01mdfi\u001B[39;00m\n\u001B[1;32m      4\u001B[0m \u001B[38;5;28;01mfrom\u001B[39;00m \u001B[38;5;21;01mrandom\u001B[39;00m \u001B[38;5;28;01mimport\u001B[39;00m random, uniform\n\u001B[1;32m      5\u001B[0m \u001B[38;5;28;01mfrom\u001B[39;00m \u001B[38;5;21;01mrandom\u001B[39;00m \u001B[38;5;28;01mimport\u001B[39;00m randint, seed\n",
      "\u001B[0;31mModuleNotFoundError\u001B[0m: No module named 'dataframe_image'"
     ]
    }
   ],
   "source": [
    "import matplotlib.pyplot as plt\n",
    "import pandas as pd\n",
    "import dataframe_image as dfi\n",
    "from random import random, uniform\n",
    "from random import randint, seed"
   ]
  },
  {
   "cell_type": "code",
   "execution_count": null,
   "outputs": [],
   "source": [
    "salesman = [(2,0)]\n",
    "P = [(0,1), (3,5), (1,3), (4,2)]\n",
    "Q = [(uniform(95,100),uniform(95,100)) for _ in range(40)]\n",
    "\n",
    "plt.scatter(*zip(*salesman), c='blue')\n",
    "plt.scatter(*zip(*P), c='red')\n",
    "plt.scatter(*zip(*Q), c='black')\n",
    "plt.legend(['salesman','P','Q'])\n",
    "\n",
    "plt.savefig('tsp-reduction.png')\n",
    "plt.show()"
   ],
   "metadata": {
    "collapsed": false,
    "pycharm": {
     "name": "#%%\n"
    }
   }
  },
  {
   "cell_type": "code",
   "execution_count": null,
   "outputs": [],
   "source": [
    "solutions = pd.read_csv ('solutions.csv')\n",
    "solutions = solutions.style.set_properties(**{'text-align': 'left'})\n",
    "solutions"
   ],
   "metadata": {
    "collapsed": false,
    "pycharm": {
     "name": "#%%\n"
    }
   }
  },
  {
   "cell_type": "code",
   "execution_count": null,
   "outputs": [],
   "source": [
    "dfi.export(solutions, 'solutions-table.png')"
   ],
   "metadata": {
    "collapsed": false,
    "pycharm": {
     "name": "#%%\n"
    }
   }
  },
  {
   "cell_type": "code",
   "execution_count": null,
   "outputs": [],
   "source": [
    "seed(6)\n",
    "\n",
    "robots = [(randint(1,9),randint(1,3)) for _ in range(5)]\n",
    "agents = [(uniform(0.1,8.9),uniform(3,8.9)) for _ in range(50)]\n",
    "locations = [(x,6) for x in range(1,10,2)]\n",
    "\n",
    "plt.scatter(*zip(*agents), c='red')\n",
    "plt.scatter(*zip(*robots), c='blue')\n",
    "plt.scatter(*zip(*locations), c='black')\n",
    "\n",
    "plt.legend(['agents','robots','locations'])\n",
    "\n",
    "plt.plot([0,10],[6,6],color='black',linestyle='dashed')\n",
    "plt.plot([0,10],[9,9],color='black',linestyle='dashed')\n",
    "\n",
    "plt.annotate('h', (10, 5.9))\n",
    "plt.annotate('b', (10, 8.9))\n",
    "\n",
    "plt.savefig('static-line.png')\n",
    "plt.show()"
   ],
   "metadata": {
    "collapsed": false,
    "pycharm": {
     "name": "#%%\n"
    }
   }
  },
  {
   "cell_type": "code",
   "execution_count": null,
   "outputs": [],
   "source": [
    "P = [(2,1),(8,2)]\n",
    "Q = [(3,4),(3,8),(7,4),(7,8)]\n",
    "\n",
    "plt.plot([0,10],[4,4],color='black',linestyle='dashed')\n",
    "plt.plot([0,10],[8,8],color='black',linestyle='dashed')\n",
    "\n",
    "plt.plot([2,3],[1,4],color='black',linestyle='dotted')\n",
    "plt.plot([2,3],[1,8],color='black',linestyle='dotted')\n",
    "plt.plot([8,7],[2,4],color='black',linestyle='dotted')\n",
    "plt.plot([8,7],[2,8],color='black',linestyle='dotted')\n",
    "\n",
    "plt.scatter(*zip(*P), c='red')\n",
    "plt.scatter(*zip(*Q), c='blue')\n",
    "\n",
    "annotations1 = ['p1','p2']\n",
    "for i, label in enumerate(annotations1):\n",
    "    x,y = P[i]\n",
    "    plt.annotate(label, (x+0.1, y-0.2))\n",
    "\n",
    "annotations2 = ['q1','q1','q2','q2']\n",
    "for i, label in enumerate(annotations2):\n",
    "    x,y = Q[i]\n",
    "    plt.annotate(label, (x+0.3, y-0.4))\n",
    "\n",
    "\n",
    "plt.savefig('assignment-preservation.png')\n",
    "plt.show()"
   ],
   "metadata": {
    "collapsed": false,
    "pycharm": {
     "name": "#%%\n"
    }
   }
  },
  {
   "cell_type": "code",
   "execution_count": null,
   "outputs": [],
   "source": [
    "R = [(8,2),(8,8)]\n",
    "P = [(3,6),(7,6)]\n",
    "Q = [(3,4),(7,4)]\n",
    "\n",
    "plt.plot([0,10],[4,4],color='black',linestyle='dashed')\n",
    "plt.plot([0,10],[6,6],color='black',linestyle='dashed')\n",
    "\n",
    "plt.scatter(*zip(*R), c='red')\n",
    "plt.scatter(*zip(*P), c='blue')\n",
    "plt.scatter(*zip(*Q), c='blue')\n",
    "\n",
    "annotations1 = ['r1','r2']\n",
    "for i, label in enumerate(annotations1):\n",
    "    x,y = R[i]\n",
    "    plt.annotate(label, (x+0.1, y-0.2))\n",
    "\n",
    "annotations2 = ['p1','p2']\n",
    "for i, label in enumerate(annotations2):\n",
    "    x,y = P[i]\n",
    "    plt.annotate(label, (x+0.1, y-0.2))\n",
    "\n",
    "annotations3 = ['q1','q2']\n",
    "for i, label in enumerate(annotations3):\n",
    "    x,y = Q[i]\n",
    "    plt.annotate(label, (x+0.1, y-0.2))\n",
    "\n",
    "plt.annotate('h1', (10, 5.9))\n",
    "plt.annotate('h2', (10, 3.9))\n",
    "\n",
    "plt.savefig('assignment-violation.png')\n",
    "plt.show()"
   ],
   "metadata": {
    "collapsed": false,
    "pycharm": {
     "name": "#%%\n"
    }
   }
  },
  {
   "cell_type": "code",
   "execution_count": null,
   "outputs": [],
   "source": [
    "seed(6)\n",
    "\n",
    "robots = [(6,1),(6,3)]\n",
    "agents = [(uniform(0.1,9.9),2) for _ in range(50)]\n",
    "\n",
    "plt.xlabel('vertical')\n",
    "plt.ylabel('horizontal')\n",
    "\n",
    "plt.scatter(*zip(*agents), c='red')\n",
    "plt.scatter(*zip(*robots), c='blue')\n",
    "\n",
    "plt.legend(['agents','robots'])\n",
    "\n",
    "plt.plot([6,6],[0,4],color='black',linestyle='dashed')\n",
    "\n",
    "plt.annotate('h', (6.1, 3.9))\n",
    "\n",
    "plt.savefig('traveling-line.png')\n",
    "plt.show()"
   ],
   "metadata": {
    "collapsed": false,
    "pycharm": {
     "name": "#%%\n"
    }
   }
  },
  {
   "cell_type": "code",
   "execution_count": null,
   "outputs": [],
   "source": [
    "A = [(4,6), (4,7)]\n",
    "\n",
    "plt.plot([0,10],[4,4],color='black',linestyle='dashed')\n",
    "plt.plot([0,10],[6,6],color='black',linestyle='dashed')\n",
    "\n",
    "plt.scatter(*zip(*A), c='red')\n",
    "\n",
    "annotations = ['agent meets h1','agent meets h2']\n",
    "for i, label in enumerate(annotations):\n",
    "    x,y = A[i]\n",
    "    plt.annotate(label, (x + 0.2, y + 0.2))\n",
    "\n",
    "plt.annotate('h1', (10, 5.9))\n",
    "plt.annotate('h2', (10, 3.9))\n",
    "plt.annotate('delta', (9.65, 4.9))\n",
    "\n",
    "plt.gca().set_ylim([2,8])\n",
    "plt.savefig('traveling-triangle.png')\n",
    "plt.show()"
   ],
   "metadata": {
    "collapsed": false,
    "pycharm": {
     "name": "#%%\n"
    }
   }
  },
  {
   "cell_type": "code",
   "execution_count": null,
   "outputs": [],
   "source": [
    "seed(6)\n",
    "\n",
    "X = [(6,1),(7,1),(8.5,1),(9,1)]\n",
    "Y = [(4,1),(3.5,1),(2,1)]\n",
    "\n",
    "plt.scatter(*zip(*X), c='red')\n",
    "plt.scatter(*zip(*Y), c='red')\n",
    "plt.scatter([5],[1], c='blue')\n",
    "\n",
    "\n",
    "annotations1 = ['x1','x2','x3','x4']\n",
    "for i, label in enumerate(annotations1):\n",
    "    x,y = X[i]\n",
    "    plt.annotate(label, (x, 1.004))\n",
    "\n",
    "annotations2 = ['y1','y2','y3']\n",
    "for i, label in enumerate(annotations2):\n",
    "    x,y = Y[i]\n",
    "    plt.annotate(label, (x, 1.004))\n",
    "\n",
    "plt.annotate('repairman', (4.5, 1.004))\n",
    "\n",
    "plt.savefig('trp.png')\n",
    "plt.show()"
   ],
   "metadata": {
    "collapsed": false,
    "pycharm": {
     "name": "#%%\n"
    }
   }
  },
  {
   "cell_type": "code",
   "execution_count": null,
   "outputs": [],
   "source": [
    "xy = pd.read_csv('xy.csv',index_col=' ')\n",
    "yx = pd.read_csv('yx.csv',index_col=' ')\n",
    "xy.head()\n",
    "\n",
    "dfi.export(xy, 'xy-table.png')\n",
    "dfi.export(yx, 'yx-table.png')"
   ],
   "metadata": {
    "collapsed": false,
    "pycharm": {
     "name": "#%%\n"
    }
   }
  },
  {
   "cell_type": "code",
   "execution_count": null,
   "outputs": [],
   "source": [
    "seed(6)\n",
    "\n",
    "agents = [(uniform(1,9),uniform(4,7)) for _ in range(50)]\n",
    "agents += [(5,10), (6,1)]\n",
    "\n",
    "plt.scatter(*zip(*agents), c='red')\n",
    "\n",
    "plt.plot([0,10],[1,1],color='black',linestyle='dashed')\n",
    "plt.plot([0,10],[10,10],color='black',linestyle='dashed')\n",
    "\n",
    "plt.annotate('top-down scanner', (6, 9.5))\n",
    "plt.annotate('bottom-up scanner', (6, 1.4))\n",
    "\n",
    "plt.savefig('scanner-fails.png')\n",
    "plt.show()"
   ],
   "metadata": {
    "collapsed": false,
    "pycharm": {
     "name": "#%%\n"
    }
   }
  },
  {
   "cell_type": "code",
   "execution_count": null,
   "outputs": [],
   "source": [
    "seed(6)\n",
    "\n",
    "robots = [(randint(1,9),randint(1,3)) for _ in range(5)]\n",
    "agents = [(uniform(0.1,9.9),uniform(3,9.9)) for _ in range(50)]\n",
    "locations = [(1,5),(3,8),(5,6),(7,7),(9,5)]\n",
    "\n",
    "plt.scatter(*zip(*agents), c='red')\n",
    "plt.scatter(*zip(*robots), c='blue')\n",
    "plt.scatter(*zip(*locations), c='black')\n",
    "\n",
    "plt.legend(['agents','robots','locations'])\n",
    "\n",
    "plt.plot([0,2],[5,5],color='black',linestyle='dashed')\n",
    "plt.plot([2,4],[8,8],color='black',linestyle='dashed')\n",
    "plt.plot([4,6],[6,6],color='black',linestyle='dashed')\n",
    "plt.plot([6,8],[7,7],color='black',linestyle='dashed')\n",
    "plt.plot([8,10],[5,5],color='black',linestyle='dashed')\n",
    "\n",
    "plt.annotate('B1', (1-0.1, 5.5))\n",
    "plt.annotate('B2', (3-0.1, 8.5))\n",
    "plt.annotate('B3', (5-0.1, 6.5))\n",
    "plt.annotate('B4', (7-0.1, 7.5))\n",
    "plt.annotate('B5', (9-0.1, 5.5))\n",
    "\n",
    "plt.savefig('separate-traveling.png')\n",
    "plt.show()"
   ],
   "metadata": {
    "collapsed": false,
    "pycharm": {
     "name": "#%%\n"
    }
   }
  },
  {
   "cell_type": "code",
   "execution_count": null,
   "outputs": [],
   "source": [
    "seed(6)\n",
    "\n",
    "robots = [(randint(1,9),randint(1,3)) for _ in range(5)]\n",
    "agents = [(uniform(0.1,8.9),uniform(3,8.9)) for _ in range(50)]\n",
    "locations = [(2,6), (5,6), (7,6)]\n",
    "\n",
    "plt.scatter(*zip(*agents), c='red')\n",
    "plt.scatter(*zip(*robots), c='blue')\n",
    "plt.scatter(*zip(*locations), c='black')\n",
    "\n",
    "plt.legend(['agents','robots','locations'])\n",
    "\n",
    "plt.plot([0,10],[6,6],color='black',linestyle='dashed')\n",
    "plt.plot([0,10],[9,9],color='black',linestyle='dashed')\n",
    "\n",
    "plt.annotate('h', (10, 5.9))\n",
    "plt.annotate('b', (10, 8.9))\n",
    "\n",
    "plt.savefig('static-lack.png')\n",
    "plt.show()"
   ],
   "metadata": {
    "collapsed": false,
    "pycharm": {
     "name": "#%%\n"
    }
   }
  },
  {
   "cell_type": "code",
   "execution_count": null,
   "outputs": [],
   "source": [
    "robots = [(2,2), (5,1), (8,3)]\n",
    "agents = [(1,6),(2,5),(4,6),(5,7),(9,5),(8,7)]\n",
    "\n",
    "plt.scatter(*zip(*agents), c='red')\n",
    "plt.scatter(*zip(*robots), c='blue')\n",
    "\n",
    "plt.plot([2,2,1],[2,5,6],color='black',linestyle='dotted')\n",
    "plt.plot([5,4,5],[1,6,7],color='black',linestyle='dotted')\n",
    "plt.plot([8,9,8],[3,5,7],color='black',linestyle='dotted')\n",
    "\n",
    "plt.legend(['agents','robots'])\n",
    "plt.savefig('iterative-good.png')\n",
    "plt.show()"
   ],
   "metadata": {
    "collapsed": false,
    "pycharm": {
     "name": "#%%\n"
    }
   }
  },
  {
   "cell_type": "code",
   "execution_count": null,
   "outputs": [],
   "source": [
    "robots = [(2,2), (5,1), (8,3)]\n",
    "agents = [(1,6),(2,5),(4,6),(7.5,7),(9,5),(8,7)]\n",
    "\n",
    "plt.scatter(*zip(*agents), c='red')\n",
    "plt.scatter(*zip(*robots), c='blue')\n",
    "\n",
    "plt.plot([2,2,1],[2,5,6],color='black',linestyle='dotted')\n",
    "plt.plot([5,4,7.5],[1,6,7],color='black',linestyle='dotted')\n",
    "plt.plot([8,9,8],[3,5,7],color='black',linestyle='dotted')\n",
    "\n",
    "plt.legend(['agents','robots'])\n",
    "plt.savefig('iterative-bad.png')\n",
    "plt.show()"
   ],
   "metadata": {
    "collapsed": false,
    "pycharm": {
     "name": "#%%\n"
    }
   }
  },
  {
   "cell_type": "code",
   "execution_count": null,
   "outputs": [],
   "source": [
    "robots = [(2,2), (5,1), (8,3)]\n",
    "agents = [(1,6),(2,5),(4,6),(5,7),(9,5),(8,7)]\n",
    "\n",
    "plt.scatter(*zip(*agents), c='red')\n",
    "plt.scatter(*zip(*robots), c='blue')\n",
    "\n",
    "plt.plot([2,2,1],[2,5,6],color='black',linestyle='dotted')\n",
    "plt.plot([5,4,5],[1,6,7],color='black',linestyle='dotted')\n",
    "plt.plot([8,9,8],[3,5,7],color='black',linestyle='dotted')\n",
    "\n",
    "plt.annotate('cluster 1' , (2, 5.5))\n",
    "plt.annotate('cluster 2' , (4.5, 5.7))\n",
    "plt.annotate('cluster 3' , (7.5, 5))\n",
    "\n",
    "plt.legend(['agents','robots'])\n",
    "plt.savefig('kmeans-good1.png')\n",
    "plt.show()"
   ],
   "metadata": {
    "collapsed": false,
    "pycharm": {
     "name": "#%%\n"
    }
   }
  },
  {
   "cell_type": "code",
   "execution_count": null,
   "outputs": [],
   "source": [
    "robots = [(2,2), (5,1), (8,3)]\n",
    "agents = [(1,6),(2,5),(4,6),(7.5,7),(9,5),(8,7)]\n",
    "\n",
    "plt.scatter(*zip(*agents), c='red')\n",
    "plt.scatter(*zip(*robots), c='blue')\n",
    "\n",
    "plt.plot([2,2,1],[2,5,6],color='black',linestyle='dotted')\n",
    "plt.plot([5,4,],[1,6,],color='black',linestyle='dotted')\n",
    "plt.plot([8,9,8, 7.5],[3,5,7,7],color='black',linestyle='dotted')\n",
    "\n",
    "plt.annotate('cluster 1' , (2, 5.5))\n",
    "plt.annotate('cluster 2' , (4.4, 5.5))\n",
    "plt.annotate('cluster 3' , (7.5, 5))\n",
    "\n",
    "plt.legend(['agents','robots'])\n",
    "plt.savefig('kmeans-good2.png')\n",
    "plt.show()"
   ],
   "metadata": {
    "collapsed": false,
    "pycharm": {
     "name": "#%%\n"
    }
   }
  },
  {
   "cell_type": "code",
   "execution_count": null,
   "outputs": [],
   "source": [],
   "metadata": {
    "collapsed": false,
    "pycharm": {
     "name": "#%%\n"
    }
   }
  },
  {
   "cell_type": "code",
   "execution_count": null,
   "outputs": [],
   "source": [],
   "metadata": {
    "collapsed": false,
    "pycharm": {
     "name": "#%%\n"
    }
   }
  }
 ],
 "metadata": {
  "kernelspec": {
   "display_name": "Python 3",
   "language": "python",
   "name": "python3"
  },
  "language_info": {
   "codemirror_mode": {
    "name": "ipython",
    "version": 2
   },
   "file_extension": ".py",
   "mimetype": "text/x-python",
   "name": "python",
   "nbconvert_exporter": "python",
   "pygments_lexer": "ipython2",
   "version": "2.7.6"
  }
 },
 "nbformat": 4,
 "nbformat_minor": 0
}
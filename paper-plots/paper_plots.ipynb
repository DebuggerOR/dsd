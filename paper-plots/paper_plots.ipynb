{
 "cells": [
  {
   "cell_type": "code",
   "execution_count": 30,
   "metadata": {
    "collapsed": true
   },
   "outputs": [],
   "source": [
    "import matplotlib.pyplot as plt\n",
    "import pandas as pd"
   ]
  },
  {
   "cell_type": "code",
   "execution_count": 31,
   "outputs": [
    {
     "data": {
      "text/plain": "<Figure size 432x288 with 1 Axes>",
      "image/png": "[encoded data removed]"
     },
     "metadata": {
      "needs_background": "light"
     },
     "output_type": "display_data"
    }
   ],
   "source": [
    "from random import random, uniform\n",
    "\n",
    "salesman = [(2,2)]\n",
    "P = [(1,1), (3,3), (1,3), (3,2)]\n",
    "Q = [(uniform(8,10),uniform(8,10)) for _ in range(100)]\n",
    "\n",
    "plt.scatter(*zip(*salesman), c='blue')\n",
    "plt.scatter(*zip(*P), c='red')\n",
    "plt.scatter(*zip(*Q), c='black')\n",
    "plt.legend(['salesman','P','Q'])\n",
    "plt.show()"
   ],
   "metadata": {
    "collapsed": false,
    "pycharm": {
     "name": "#%%\n"
    }
   }
  },
  {
   "cell_type": "code",
   "execution_count": 32,
   "outputs": [
    {
     "data": {
      "text/plain": "                  Planner          Scenario  \\\n0              StaticLine     full-blockage   \n1           TravelingLine     full-blockage   \n2  PracticalTravelingLine     full-blockage   \n3       SeparateTraveling     full-blockage   \n4          StaticLineLack  partial-blockage   \n\n                                    Description  \n0         optimal assignment on a blocking line  \n1                       TRP based blocking line  \n2  TravelingLine considering only lowest agents  \n3                      TravelingLine in buckets  \n4             flow-based moves on a static line  ",
      "text/html": "<div>\n<style scoped>\n    .dataframe tbody tr th:only-of-type {\n        vertical-align: middle;\n    }\n\n    .dataframe tbody tr th {\n        vertical-align: top;\n    }\n\n    .dataframe thead th {\n        text-align: right;\n    }\n</style>\n<table border=\"1\" class=\"dataframe\">\n  <thead>\n    <tr style=\"text-align: right;\">\n      <th></th>\n      <th>Planner</th>\n      <th>Scenario</th>\n      <th>Description</th>\n    </tr>\n  </thead>\n  <tbody>\n    <tr>\n      <th>0</th>\n      <td>StaticLine</td>\n      <td>full-blockage</td>\n      <td>optimal assignment on a blocking line</td>\n    </tr>\n    <tr>\n      <th>1</th>\n      <td>TravelingLine</td>\n      <td>full-blockage</td>\n      <td>TRP based blocking line</td>\n    </tr>\n    <tr>\n      <th>2</th>\n      <td>PracticalTravelingLine</td>\n      <td>full-blockage</td>\n      <td>TravelingLine considering only lowest agents</td>\n    </tr>\n    <tr>\n      <th>3</th>\n      <td>SeparateTraveling</td>\n      <td>full-blockage</td>\n      <td>TravelingLine in buckets</td>\n    </tr>\n    <tr>\n      <th>4</th>\n      <td>StaticLineLack</td>\n      <td>partial-blockage</td>\n      <td>flow-based moves on a static line</td>\n    </tr>\n  </tbody>\n</table>\n</div>"
     },
     "execution_count": 32,
     "metadata": {},
     "output_type": "execute_result"
    }
   ],
   "source": [
    "solutions = pd.read_csv ('solutions.csv')\n",
    "solutions.head()"
   ],
   "metadata": {
    "collapsed": false,
    "pycharm": {
     "name": "#%%\n"
    }
   }
  },
  {
   "cell_type": "code",
   "execution_count": 34,
   "outputs": [],
   "source": [
    "import dataframe_image as dfi\n",
    "\n",
    "dfi.export(solutions, 'solutions-table.png')"
   ],
   "metadata": {
    "collapsed": false,
    "pycharm": {
     "name": "#%%\n"
    }
   }
  },
  {
   "cell_type": "code",
   "execution_count": 33,
   "outputs": [],
   "source": [],
   "metadata": {
    "collapsed": false,
    "pycharm": {
     "name": "#%%\n"
    }
   }
  }
 ],
 "metadata": {
  "kernelspec": {
   "display_name": "Python 3",
   "language": "python",
   "name": "python3"
  },
  "language_info": {
   "codemirror_mode": {
    "name": "ipython",
    "version": 2
   },
   "file_extension": ".py",
   "mimetype": "text/x-python",
   "name": "python",
   "nbconvert_exporter": "python",
   "pygments_lexer": "ipython2",
   "version": "2.7.6"
  }
 },
 "nbformat": 4,
 "nbformat_minor": 0
}
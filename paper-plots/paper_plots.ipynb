{
 "cells": [
  {
   "cell_type": "code",
   "execution_count": 152,
   "metadata": {
    "collapsed": true
   },
   "outputs": [],
   "source": [
    "import matplotlib.pyplot as plt\n",
    "import pandas as pd"
   ]
  },
  {
   "cell_type": "code",
   "execution_count": 153,
   "outputs": [
    {
     "data": {
      "text/plain": "<Figure size 432x288 with 1 Axes>",
      "image/png": "[encoded data removed]"
     },
     "metadata": {
      "needs_background": "light"
     },
     "output_type": "display_data"
    }
   ],
   "source": [
    "from random import random, uniform\n",
    "from random import randint, seed\n",
    "\n",
    "salesman = [(2,0)]\n",
    "P = [(0,1), (3,5), (1,3), (4,2)]\n",
    "Q = [(uniform(95,100),uniform(95,100)) for _ in range(40)]\n",
    "\n",
    "plt.scatter(*zip(*salesman), c='blue')\n",
    "plt.scatter(*zip(*P), c='red')\n",
    "plt.scatter(*zip(*Q), c='black')\n",
    "plt.legend(['salesman','P','Q'])\n",
    "\n",
    "plt.savefig('tsp-reduction.png')\n",
    "plt.show()"
   ],
   "metadata": {
    "collapsed": false,
    "pycharm": {
     "name": "#%%\n"
    }
   }
  },
  {
   "cell_type": "code",
   "execution_count": 154,
   "outputs": [
    {
     "data": {
      "text/plain": "                  Planner          Scenario  \\\n0              StaticLine     full-blockage   \n1           TravelingLine     full-blockage   \n2  PracticalTravelingLine     full-blockage   \n3       SeparateTraveling     full-blockage   \n4          StaticLineLack  partial-blockage   \n\n                                    Description  \n0         optimal assignment on a blocking line  \n1                       TRP based blocking line  \n2  TravelingLine considering only lowest agents  \n3                      TravelingLine in buckets  \n4             flow-based moves on a static line  ",
      "text/html": "<div>\n<style scoped>\n    .dataframe tbody tr th:only-of-type {\n        vertical-align: middle;\n    }\n\n    .dataframe tbody tr th {\n        vertical-align: top;\n    }\n\n    .dataframe thead th {\n        text-align: right;\n    }\n</style>\n<table border=\"1\" class=\"dataframe\">\n  <thead>\n    <tr style=\"text-align: right;\">\n      <th></th>\n      <th>Planner</th>\n      <th>Scenario</th>\n      <th>Description</th>\n    </tr>\n  </thead>\n  <tbody>\n    <tr>\n      <th>0</th>\n      <td>StaticLine</td>\n      <td>full-blockage</td>\n      <td>optimal assignment on a blocking line</td>\n    </tr>\n    <tr>\n      <th>1</th>\n      <td>TravelingLine</td>\n      <td>full-blockage</td>\n      <td>TRP based blocking line</td>\n    </tr>\n    <tr>\n      <th>2</th>\n      <td>PracticalTravelingLine</td>\n      <td>full-blockage</td>\n      <td>TravelingLine considering only lowest agents</td>\n    </tr>\n    <tr>\n      <th>3</th>\n      <td>SeparateTraveling</td>\n      <td>full-blockage</td>\n      <td>TravelingLine in buckets</td>\n    </tr>\n    <tr>\n      <th>4</th>\n      <td>StaticLineLack</td>\n      <td>partial-blockage</td>\n      <td>flow-based moves on a static line</td>\n    </tr>\n  </tbody>\n</table>\n</div>"
     },
     "execution_count": 154,
     "metadata": {},
     "output_type": "execute_result"
    }
   ],
   "source": [
    "solutions = pd.read_csv ('solutions.csv')\n",
    "solutions.head()"
   ],
   "metadata": {
    "collapsed": false,
    "pycharm": {
     "name": "#%%\n"
    }
   }
  },
  {
   "cell_type": "code",
   "execution_count": 155,
   "outputs": [],
   "source": [
    "import dataframe_image as dfi\n",
    "\n",
    "dfi.export(solutions, 'solutions-table.png')"
   ],
   "metadata": {
    "collapsed": false,
    "pycharm": {
     "name": "#%%\n"
    }
   }
  },
  {
   "cell_type": "code",
   "execution_count": 156,
   "outputs": [
    {
     "data": {
      "text/plain": "<Figure size 432x288 with 1 Axes>",
      "image/png": "[encoded data removed]"
     },
     "metadata": {
      "needs_background": "light"
     },
     "output_type": "display_data"
    }
   ],
   "source": [
    "seed(6)\n",
    "\n",
    "robots = [(randint(1,9),randint(1,3)) for _ in range(5)]\n",
    "agents = [(uniform(0.1,8.9),uniform(3,8.9)) for _ in range(50)]\n",
    "locations = [(x,6) for x in range(1,10,2)]\n",
    "\n",
    "plt.scatter(*zip(*agents), c='red')\n",
    "plt.scatter(*zip(*robots), c='blue')\n",
    "plt.scatter(*zip(*locations), c='black')\n",
    "\n",
    "plt.legend(['agents','robots','locations'])\n",
    "\n",
    "plt.plot([0,10],[6,6],color='black',linestyle='dashed')\n",
    "plt.plot([0,10],[9,9],color='black',linestyle='dashed')\n",
    "\n",
    "plt.annotate('h', (10, 5.9))\n",
    "plt.annotate('b', (10, 8.9))\n",
    "\n",
    "plt.savefig('static-line.png')\n",
    "plt.show()"
   ],
   "metadata": {
    "collapsed": false,
    "pycharm": {
     "name": "#%%\n"
    }
   }
  },
  {
   "cell_type": "code",
   "execution_count": 157,
   "outputs": [
    {
     "data": {
      "text/plain": "<Figure size 432x288 with 1 Axes>",
      "image/png": "[encoded data removed]"
     },
     "metadata": {
      "needs_background": "light"
     },
     "output_type": "display_data"
    }
   ],
   "source": [
    "P = [(2,1),(8,2)]\n",
    "Q = [(3,4),(3,8),(7,4),(7,8)]\n",
    "\n",
    "plt.plot([0,10],[4,4],color='black',linestyle='dashed')\n",
    "plt.plot([0,10],[8,8],color='black',linestyle='dashed')\n",
    "\n",
    "plt.scatter(*zip(*P), c='red')\n",
    "plt.scatter(*zip(*Q), c='blue')\n",
    "\n",
    "annotations1 = ['p1','p2']\n",
    "for i, label in enumerate(annotations1):\n",
    "    x,y = P[i]\n",
    "    plt.annotate(label, (x+0.1, y-0.2))\n",
    "\n",
    "annotations2 = ['q1','q1','q2','q2']\n",
    "for i, label in enumerate(annotations2):\n",
    "    x,y = Q[i]\n",
    "    plt.annotate(label, (x+0.1, y-0.2))\n",
    "\n",
    "\n",
    "plt.savefig('assignment-preservation.png')\n",
    "plt.show()"
   ],
   "metadata": {
    "collapsed": false,
    "pycharm": {
     "name": "#%%\n"
    }
   }
  },
  {
   "cell_type": "code",
   "execution_count": 158,
   "outputs": [
    {
     "data": {
      "text/plain": "<Figure size 432x288 with 1 Axes>",
      "image/png": "[encoded data removed]"
     },
     "metadata": {
      "needs_background": "light"
     },
     "output_type": "display_data"
    }
   ],
   "source": [
    "R = [(8,2),(8,8)]\n",
    "P = [(3,6),(7,6)]\n",
    "Q = [(3,4),(7,4)]\n",
    "\n",
    "plt.plot([0,10],[4,4],color='black',linestyle='dashed')\n",
    "plt.plot([0,10],[6,6],color='black',linestyle='dashed')\n",
    "\n",
    "plt.scatter(*zip(*R), c='red')\n",
    "plt.scatter(*zip(*P), c='blue')\n",
    "plt.scatter(*zip(*Q), c='blue')\n",
    "\n",
    "annotations1 = ['r1','r2']\n",
    "for i, label in enumerate(annotations1):\n",
    "    x,y = R[i]\n",
    "    plt.annotate(label, (x+0.1, y-0.2))\n",
    "\n",
    "annotations2 = ['p1','p2']\n",
    "for i, label in enumerate(annotations2):\n",
    "    x,y = P[i]\n",
    "    plt.annotate(label, (x+0.1, y-0.2))\n",
    "\n",
    "annotations3 = ['q1','q2']\n",
    "for i, label in enumerate(annotations3):\n",
    "    x,y = Q[i]\n",
    "    plt.annotate(label, (x+0.1, y-0.2))\n",
    "\n",
    "plt.annotate('h1', (10, 5.9))\n",
    "plt.annotate('h2', (10, 3.9))\n",
    "\n",
    "plt.savefig('assignment-violation.png')\n",
    "plt.show()"
   ],
   "metadata": {
    "collapsed": false,
    "pycharm": {
     "name": "#%%\n"
    }
   }
  },
  {
   "cell_type": "code",
   "execution_count": 159,
   "outputs": [
    {
     "data": {
      "text/plain": "<Figure size 432x288 with 1 Axes>",
      "image/png": "[encoded data removed]"
     },
     "metadata": {
      "needs_background": "light"
     },
     "output_type": "display_data"
    }
   ],
   "source": [
    "seed(6)\n",
    "\n",
    "robots = [(6,1),(6,3)]\n",
    "agents = [(uniform(0.1,9.9),2) for _ in range(50)]\n",
    "\n",
    "plt.xlabel('vertical')\n",
    "plt.ylabel('horizontal')\n",
    "\n",
    "plt.scatter(*zip(*agents), c='red')\n",
    "plt.scatter(*zip(*robots), c='blue')\n",
    "\n",
    "plt.legend(['agents','robots'])\n",
    "\n",
    "plt.plot([6,6],[0,4],color='black',linestyle='dashed')\n",
    "\n",
    "plt.annotate('h', (6.1, 3.9))\n",
    "\n",
    "plt.savefig('traveling-line.png')\n",
    "plt.show()"
   ],
   "metadata": {
    "collapsed": false,
    "pycharm": {
     "name": "#%%\n"
    }
   }
  },
  {
   "cell_type": "code",
   "execution_count": 165,
   "outputs": [
    {
     "data": {
      "text/plain": "<Figure size 432x288 with 1 Axes>",
      "image/png": "[encoded data removed]"
     },
     "metadata": {
      "needs_background": "light"
     },
     "output_type": "display_data"
    }
   ],
   "source": [
    "seed(6)\n",
    "\n",
    "X = [(6,1),(7,1),(8.5,1),(9,1)]\n",
    "Y = [(4,1),(3.5,1),(2,1)]\n",
    "\n",
    "plt.scatter(*zip(*X), c='red')\n",
    "plt.scatter(*zip(*Y), c='red')\n",
    "plt.scatter([5],[1], c='blue')\n",
    "\n",
    "annotations1 = ['x1','x2','x3','x4']\n",
    "for i, label in enumerate(annotations1):\n",
    "    x,y = X[i]\n",
    "    plt.annotate(label, (x+0.1, y-0.2))\n",
    "\n",
    "annotations2 = ['y1','y2','y3']\n",
    "for i, label in enumerate(annotations2):\n",
    "    x,y = Y[i]\n",
    "    plt.annotate(label, (x+0.1, y-0.2))\n",
    "\n",
    "plt.savefig('trp.png')\n",
    "plt.show()"
   ],
   "metadata": {
    "collapsed": false,
    "pycharm": {
     "name": "#%%\n"
    }
   }
  },
  {
   "cell_type": "code",
   "execution_count": 161,
   "outputs": [],
   "source": [
    "xy = pd.read_csv('xy.csv',index_col=' ')\n",
    "yx = pd.read_csv('yx.csv',index_col=' ')\n",
    "xy.head()\n",
    "\n",
    "dfi.export(xy, 'xy-table.png')\n",
    "dfi.export(yx, 'yx-table.png')"
   ],
   "metadata": {
    "collapsed": false,
    "pycharm": {
     "name": "#%%\n"
    }
   }
  },
  {
   "cell_type": "code",
   "execution_count": 162,
   "outputs": [
    {
     "data": {
      "text/plain": "<Figure size 432x288 with 1 Axes>",
      "image/png": "[encoded data removed]"
     },
     "metadata": {
      "needs_background": "light"
     },
     "output_type": "display_data"
    }
   ],
   "source": [
    "seed(6)\n",
    "\n",
    "robots = [(randint(1,9),randint(1,3)) for _ in range(5)]\n",
    "agents = [(uniform(0.1,9.9),uniform(3,9.9)) for _ in range(50)]\n",
    "locations = [(1,5),(3,8),(5,6),(7,7),(9,5)]\n",
    "\n",
    "plt.scatter(*zip(*agents), c='red')\n",
    "plt.scatter(*zip(*robots), c='blue')\n",
    "plt.scatter(*zip(*locations), c='black')\n",
    "\n",
    "plt.legend(['agents','robots','locations'])\n",
    "\n",
    "plt.plot([0,2],[5,5],color='black',linestyle='dashed')\n",
    "plt.plot([2,4],[8,8],color='black',linestyle='dashed')\n",
    "plt.plot([4,6],[6,6],color='black',linestyle='dashed')\n",
    "plt.plot([6,8],[7,7],color='black',linestyle='dashed')\n",
    "plt.plot([8,10],[5,5],color='black',linestyle='dashed')\n",
    "\n",
    "plt.annotate('B1', (1-0.1, 5.5))\n",
    "plt.annotate('B2', (3-0.1, 8.5))\n",
    "plt.annotate('B3', (5-0.1, 6.5))\n",
    "plt.annotate('B4', (7-0.1, 7.5))\n",
    "plt.annotate('B5', (9-0.1, 5.5))\n",
    "\n",
    "plt.savefig('separate-traveling.png')\n",
    "plt.show()"
   ],
   "metadata": {
    "collapsed": false,
    "pycharm": {
     "name": "#%%\n"
    }
   }
  },
  {
   "cell_type": "code",
   "execution_count": 170,
   "outputs": [
    {
     "data": {
      "text/plain": "<Figure size 432x288 with 1 Axes>",
      "image/png": "[encoded data removed]"
     },
     "metadata": {
      "needs_background": "light"
     },
     "output_type": "display_data"
    }
   ],
   "source": [
    "seed(6)\n",
    "\n",
    "robots = [(randint(1,9),randint(1,3)) for _ in range(5)]\n",
    "agents = [(uniform(0.1,8.9),uniform(3,8.9)) for _ in range(50)]\n",
    "locations = [(2,6), (5,6), (7,6)]\n",
    "\n",
    "plt.scatter(*zip(*agents), c='red')\n",
    "plt.scatter(*zip(*robots), c='blue')\n",
    "plt.scatter(*zip(*locations), c='black')\n",
    "\n",
    "plt.legend(['agents','robots','locations'])\n",
    "\n",
    "plt.plot([0,10],[6,6],color='black',linestyle='dashed')\n",
    "plt.plot([0,10],[9,9],color='black',linestyle='dashed')\n",
    "\n",
    "plt.annotate('h', (10, 5.9))\n",
    "plt.annotate('b', (10, 8.9))\n",
    "\n",
    "plt.savefig('static-lack.png')\n",
    "plt.show()"
   ],
   "metadata": {
    "collapsed": false,
    "pycharm": {
     "name": "#%%\n"
    }
   }
  },
  {
   "cell_type": "code",
   "execution_count": 166,
   "outputs": [],
   "source": [],
   "metadata": {
    "collapsed": false,
    "pycharm": {
     "name": "#%%\n"
    }
   }
  },
  {
   "cell_type": "code",
   "execution_count": null,
   "outputs": [],
   "source": [],
   "metadata": {
    "collapsed": false,
    "pycharm": {
     "name": "#%%\n"
    }
   }
  }
 ],
 "metadata": {
  "kernelspec": {
   "display_name": "Python 3",
   "language": "python",
   "name": "python3"
  },
  "language_info": {
   "codemirror_mode": {
    "name": "ipython",
    "version": 2
   },
   "file_extension": ".py",
   "mimetype": "text/x-python",
   "name": "python",
   "nbconvert_exporter": "python",
   "pygments_lexer": "ipython2",
   "version": "2.7.6"
  }
 },
 "nbformat": 4,
 "nbformat_minor": 0
}
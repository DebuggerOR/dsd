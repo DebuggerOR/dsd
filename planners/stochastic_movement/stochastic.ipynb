{
 "cells": [
  {
   "cell_type": "markdown",
   "metadata": {
    "collapsed": true,
    "pycharm": {
     "name": "#%% md\n"
    }
   },
   "source": [
    "# Stochastic Discrete Model\n",
    "## Utility Matrix Calculation and Usage"
   ]
  },
  {
   "cell_type": "code",
   "execution_count": 1,
   "outputs": [],
   "source": [
    "import copy\n",
    "from typing import List\n",
    "\n",
    "import numpy as np\n",
    "import sys\n",
    "import seaborn as sb\n",
    "import random as random\n",
    "import networkx as nx\n",
    "import matplotlib.pyplot as plt\n",
    "from environment.stochastic_environment import StochasticEnvironment\n",
    "from utils.point import Point\n",
    "from environment.robots.basic_robot import BasicRobot\n",
    "from utils.functions import show_grid\n",
    "from environment.agents.stochastic_agent import StochasticAgent"
   ],
   "metadata": {
    "collapsed": false,
    "pycharm": {
     "name": "#%%\n"
    }
   }
  },
  {
   "cell_type": "markdown",
   "source": [
    "### initial state (lowest layer of the 3d position matrix PM)"
   ],
   "metadata": {
    "collapsed": false,
    "pycharm": {
     "name": "#%% md\n"
    }
   }
  },
  {
   "cell_type": "code",
   "execution_count": 2,
   "outputs": [],
   "source": [
    "b, br = 10, 10\n",
    "advance_distribution = (0.2, 0.6, 0.2)\n",
    "\n",
    "agents = [StochasticAgent(Point(3,2),1, advance_distribution),\n",
    "          StochasticAgent(Point(5,2),1, advance_distribution),\n",
    "          StochasticAgent(Point(6,8),1, advance_distribution),\n",
    "          StochasticAgent(Point(8,4),1, advance_distribution)]\n",
    "\n",
    "robots = [BasicRobot(Point(1,1),2,1),\n",
    "          BasicRobot(Point(2,0),2,1),\n",
    "          BasicRobot(Point(4,1),2,1)]"
   ],
   "metadata": {
    "collapsed": false,
    "pycharm": {
     "name": "#%%\n"
    }
   }
  },
  {
   "cell_type": "markdown",
   "source": [
    "### calculating the position matrix PA"
   ],
   "metadata": {
    "collapsed": false,
    "pycharm": {
     "name": "#%% md\n"
    }
   }
  },
  {
   "cell_type": "code",
   "execution_count": 3,
   "outputs": [],
   "source": [
    "def generate_PA():\n",
    "     if agents is None:\n",
    "            agents = self.agents\n",
    "\n",
    "    left, up, right = agents[0].advance_distribution\n",
    "\n",
    "    # init 3d matrix of grid rows, cols and time\n",
    "    PA = np.zeros((self.top_border, self.top_border, self.right_border))\n",
    "\n",
    "    # in t=0 we have prob. 1 of being in the initial loc\n",
    "    for agent in agents:\n",
    "        PA[0][int(agent.y)][int(agent.x)] = 1\n",
    "\n",
    "    # filling the rest times by dp\n",
    "    T = int(self.top_border)\n",
    "    num_rows = int(self.top_border)\n",
    "    num_cols = int(self.right_border)\n",
    "\n",
    "    for t in range(1, T):\n",
    "        # fill the rows by dp\n",
    "        for row in range(1, num_rows):\n",
    "            # handle extreme cells\n",
    "            PA[t][row][0] = (left + up) * PA[t - 1][row - 1][0] \\\n",
    "                            + left * PA[t - 1][row - 1][1]\n",
    "            PA[t][row][int(num_cols) - 1] = (right + up) * PA[t - 1][row - 1][int(num_cols) - 1] \\\n",
    "                                            + right * PA[t - 1][row - 1][int(num_cols) - 2]\n",
    "\n",
    "            for col in range(1, int(num_cols) - 1):\n",
    "                PA[t][row][col] += left * PA[t - 1][row - 1][col + 1] \\\n",
    "                                   + up * PA[t - 1][row - 1][col] \\\n",
    "                                   + right * PA[t - 1][row - 1][col - 1]\n",
    "\n",
    "    return PA\n",
    "\n",
    "    left, up, right = advance_distribution\n",
    "    top_border, right_border = b, br\n",
    "\n",
    "    # init 3d matrix of grid rows, cols and time\n",
    "    PA = np.zeros((top_border, top_border, right_border))\n",
    "\n",
    "    # in t=0 we have prob. 1 of being in the initial loc\n",
    "    for agent in agents:\n",
    "        PA[0][int(agent.y)][int(agent.x)] = 1\n",
    "\n",
    "    # filling the rest times by dp\n",
    "    T = int(top_border)\n",
    "    num_rows = int(top_border)\n",
    "    num_cols = int(right_border)\n",
    "\n",
    "    for t in range(1, T):\n",
    "        # fill the rows by dp\n",
    "        for row in range(1, num_rows):\n",
    "            # handle extreme cells\n",
    "            PA[t][r][0] = (left + up) * PA[t - 1][r - 1][0] + left * PA[t - 1][r - 1][1]\n",
    "            PA[t][r][int(num_cols) - 1] = (right + up) * PA[t - 1][r - 1][int(num_cols) - 1] + right * PA[t - 1][r - 1][int(num_cols) - 2]\n",
    "\n",
    "            for col in range(1, int(num_cols)-1):\n",
    "                PA[t][r][col] += left * PA[t - 1][r - 1][col + 1] \\\n",
    "                                   + up * PA[t - 1][r - 1][col] \\\n",
    "                                   + right * PA[t - 1][r - 1][col - 1]\n",
    "\n",
    "    return PA"
   ],
   "metadata": {
    "collapsed": false,
    "pycharm": {
     "name": "#%%\n"
    }
   }
  },
  {
   "cell_type": "code",
   "execution_count": 4,
   "outputs": [
    {
     "ename": "NameError",
     "evalue": "name 'r' is not defined",
     "output_type": "error",
     "traceback": [
      "\u001B[1;31m---------------------------------------------------------------------------\u001B[0m",
      "\u001B[1;31mNameError\u001B[0m                                 Traceback (most recent call last)",
      "Input \u001B[1;32mIn [4]\u001B[0m, in \u001B[0;36m<module>\u001B[1;34m\u001B[0m\n\u001B[1;32m----> 1\u001B[0m PA \u001B[38;5;241m=\u001B[39m \u001B[43mgenerate_PA\u001B[49m\u001B[43m(\u001B[49m\u001B[43m)\u001B[49m\n\u001B[0;32m      2\u001B[0m show_grid(PA[\u001B[38;5;241m0\u001B[39m])\n",
      "Input \u001B[1;32mIn [3]\u001B[0m, in \u001B[0;36mgenerate_PA\u001B[1;34m()\u001B[0m\n\u001B[0;32m     17\u001B[0m \u001B[38;5;28;01mfor\u001B[39;00m t \u001B[38;5;129;01min\u001B[39;00m \u001B[38;5;28mrange\u001B[39m(\u001B[38;5;241m1\u001B[39m, T):\n\u001B[0;32m     18\u001B[0m     \u001B[38;5;66;03m# fill the rows by dp\u001B[39;00m\n\u001B[0;32m     19\u001B[0m     \u001B[38;5;28;01mfor\u001B[39;00m row \u001B[38;5;129;01min\u001B[39;00m \u001B[38;5;28mrange\u001B[39m(\u001B[38;5;241m1\u001B[39m, num_rows):\n\u001B[0;32m     20\u001B[0m         \u001B[38;5;66;03m# handle extreme cells\u001B[39;00m\n\u001B[1;32m---> 21\u001B[0m         PA[t][r][\u001B[38;5;241m0\u001B[39m] \u001B[38;5;241m=\u001B[39m (left \u001B[38;5;241m+\u001B[39m up) \u001B[38;5;241m*\u001B[39m PA[t \u001B[38;5;241m-\u001B[39m \u001B[38;5;241m1\u001B[39m][\u001B[43mr\u001B[49m \u001B[38;5;241m-\u001B[39m \u001B[38;5;241m1\u001B[39m][\u001B[38;5;241m0\u001B[39m] \u001B[38;5;241m+\u001B[39m left \u001B[38;5;241m*\u001B[39m PA[t \u001B[38;5;241m-\u001B[39m \u001B[38;5;241m1\u001B[39m][r \u001B[38;5;241m-\u001B[39m \u001B[38;5;241m1\u001B[39m][\u001B[38;5;241m1\u001B[39m]\n\u001B[0;32m     22\u001B[0m         PA[t][r][\u001B[38;5;28mint\u001B[39m(num_cols) \u001B[38;5;241m-\u001B[39m \u001B[38;5;241m1\u001B[39m] \u001B[38;5;241m=\u001B[39m (right \u001B[38;5;241m+\u001B[39m up) \u001B[38;5;241m*\u001B[39m PA[t \u001B[38;5;241m-\u001B[39m \u001B[38;5;241m1\u001B[39m][r \u001B[38;5;241m-\u001B[39m \u001B[38;5;241m1\u001B[39m][\u001B[38;5;28mint\u001B[39m(num_cols) \u001B[38;5;241m-\u001B[39m \u001B[38;5;241m1\u001B[39m] \u001B[38;5;241m+\u001B[39m right \u001B[38;5;241m*\u001B[39m PA[t \u001B[38;5;241m-\u001B[39m \u001B[38;5;241m1\u001B[39m][r \u001B[38;5;241m-\u001B[39m \u001B[38;5;241m1\u001B[39m][\u001B[38;5;28mint\u001B[39m(num_cols) \u001B[38;5;241m-\u001B[39m \u001B[38;5;241m2\u001B[39m]\n\u001B[0;32m     24\u001B[0m         \u001B[38;5;28;01mfor\u001B[39;00m col \u001B[38;5;129;01min\u001B[39;00m \u001B[38;5;28mrange\u001B[39m(\u001B[38;5;241m1\u001B[39m, \u001B[38;5;28mint\u001B[39m(num_cols)\u001B[38;5;241m-\u001B[39m\u001B[38;5;241m1\u001B[39m):\n",
      "\u001B[1;31mNameError\u001B[0m: name 'r' is not defined"
     ]
    }
   ],
   "source": [
    "PA = generate_PA()\n",
    "show_grid(PA[0])"
   ],
   "metadata": {
    "collapsed": false,
    "pycharm": {
     "name": "#%%\n"
    }
   }
  },
  {
   "cell_type": "code",
   "execution_count": null,
   "outputs": [],
   "source": [
    "show_grid(PA[1])"
   ],
   "metadata": {
    "collapsed": false,
    "pycharm": {
     "name": "#%%\n"
    }
   }
  },
  {
   "cell_type": "markdown",
   "source": [
    "### calculating the utility matrix UA"
   ],
   "metadata": {
    "collapsed": false,
    "pycharm": {
     "name": "#%% md\n"
    }
   }
  },
  {
   "cell_type": "code",
   "execution_count": null,
   "outputs": [],
   "source": [
    "def generate_UA(PA):\n",
    "    T, num_rows, num_cols = PA.shape\n",
    "    UA = np.zeros(PA.shape)\n",
    "\n",
    "    for t in range(T):\n",
    "        for r in range(num_rows):\n",
    "            for c in range(num_cols):\n",
    "                # the utility is the prevented damage for this cell multiplied by the expected agents amount\n",
    "                UA[t,r,c] = (b - r) * PA[t,r,c]\n",
    "\n",
    "    return UA"
   ],
   "metadata": {
    "collapsed": false,
    "pycharm": {
     "name": "#%%\n"
    }
   }
  },
  {
   "cell_type": "code",
   "execution_count": null,
   "outputs": [],
   "source": [
    "UA = generate_UA(PA)\n",
    "\n",
    "show_grid(UA[0])"
   ],
   "metadata": {
    "collapsed": false,
    "pycharm": {
     "name": "#%%\n"
    }
   }
  },
  {
   "cell_type": "code",
   "execution_count": null,
   "outputs": [],
   "source": [
    "show_grid(UA[2])"
   ],
   "metadata": {
    "collapsed": false,
    "pycharm": {
     "name": "#%%\n"
    }
   }
  },
  {
   "cell_type": "markdown",
   "source": [
    "### calculating the final utility matrix U"
   ],
   "metadata": {
    "collapsed": false,
    "pycharm": {
     "name": "#%% md\n"
    }
   }
  },
  {
   "cell_type": "code",
   "execution_count": null,
   "outputs": [],
   "source": [
    "def generate_U(UA):\n",
    "    T, num_rows, num_cols = PA.shape\n",
    "    U = np.zeros((T,int(num_rows/2),int(num_cols/2)))\n",
    "    T, num_rows, num_cols = U.shape\n",
    "\n",
    "    for t in range(T):\n",
    "        for r in range(num_rows):\n",
    "            for c in range(num_cols):\n",
    "                U[t][r][c] = UA[t][2*r][2*c] + UA[t][2*r+1][2*c] + UA[t][2*r][2*c+1] + UA[t][2*r+1][2*c+1]\n",
    "\n",
    "    return U"
   ],
   "metadata": {
    "collapsed": false,
    "pycharm": {
     "name": "#%%\n"
    }
   }
  },
  {
   "cell_type": "code",
   "execution_count": null,
   "outputs": [],
   "source": [
    "U = generate_U(UA)\n",
    "\n",
    "show_grid(U[0])"
   ],
   "metadata": {
    "collapsed": false,
    "pycharm": {
     "name": "#%%\n"
    }
   }
  },
  {
   "cell_type": "code",
   "execution_count": null,
   "outputs": [],
   "source": [
    "show_grid(U[2])"
   ],
   "metadata": {
    "collapsed": false,
    "pycharm": {
     "name": "#%%\n"
    }
   }
  },
  {
   "cell_type": "markdown",
   "source": [
    "## StaticLineLack\n",
    "### reachability graph on one row"
   ],
   "metadata": {
    "collapsed": false,
    "pycharm": {
     "name": "#%% md\n"
    }
   }
  },
  {
   "cell_type": "code",
   "execution_count": null,
   "outputs": [],
   "source": [
    "def flow_moves(robots: List['BasicRobot'], row: float, RUM, draw=False):\n",
    "    RUR = RUM[:,row,:]\n",
    "    T, n_cols = RUR.shape\n",
    "\n",
    "    g = nx.DiGraph()\n",
    "\n",
    "    # create robots\n",
    "    for robot in robots:\n",
    "        g.add_node(str(robot), pos=np.array([robot.x, robot.y]), color='blue')\n",
    "\n",
    "    # create utility cells\n",
    "    for t in range(T):\n",
    "        for c in range(n_cols):\n",
    "            g.add_node(f'[{t},{c}]_i', pos=np.array([c, 4 + 5 * t]), color='red')\n",
    "            g.add_node(f'[{t},{c}]_o', pos=np.array([c, 4 + 5 * t + 2]), color='red')\n",
    "            # the weight needs to be an integer\n",
    "            g.add_edge(f'[{t},{c}]_i', f'[{t},{c}]_o', weight=-int(100*RUR[t,c]), capacity=1)\n",
    "\n",
    "    # add edges between cells\n",
    "    for t in range(T-1):\n",
    "        g.add_edge(f'[{t},{0}]_o',f'[{t+1},{0}]_i', weight=0, capacity=len(robots))\n",
    "        g.add_edge(f'[{t},{0}]_o',f'[{t+1},{1}]_i', weight=0, capacity=len(robots))\n",
    "\n",
    "        g.add_edge(f'[{t},{0}]_i',f'[{t+1},{0}]_i', weight=0, capacity=len(robots))\n",
    "        g.add_edge(f'[{t},{0}]_i',f'[{t+1},{1}]_i', weight=0, capacity=len(robots))\n",
    "\n",
    "        g.add_edge(f'[{t},{n_cols-1}]_o',f'[{t+1},{n_cols-1}]_i', weight=0, capacity=len(robots))\n",
    "        g.add_edge(f'[{t},{n_cols-1}]_o',f'[{t+1},{n_cols-2}]_i', weight=0, capacity=len(robots))\n",
    "\n",
    "        g.add_edge(f'[{t},{n_cols-1}]_i',f'[{t+1},{n_cols-1}]_i', weight=0, capacity=len(robots))\n",
    "        g.add_edge(f'[{t},{n_cols-1}]_i',f'[{t+1},{n_cols-2}]_i', weight=0, capacity=len(robots))\n",
    "\n",
    "        for c in range(1,n_cols-1):\n",
    "            g.add_edge(f'[{t},{c}]_o',f'[{t+1},{c-1}]_i', weight=0, capacity=len(robots))\n",
    "            g.add_edge(f'[{t},{c}]_o',f'[{t+1},{c}]_i', weight=0, capacity=len(robots))\n",
    "            g.add_edge(f'[{t},{c}]_o',f'[{t+1},{c+1}]_i', weight=0, capacity=len(robots))\n",
    "\n",
    "            g.add_edge(f'[{t},{c}]_i',f'[{t+1},{c-1}]_i', weight=0, capacity=len(robots))\n",
    "            g.add_edge(f'[{t},{c}]_i',f'[{t+1},{c}]_i', weight=0, capacity=len(robots))\n",
    "            g.add_edge(f'[{t},{c}]_i',f'[{t+1},{c+1}]_i', weight=0, capacity=len(robots))\n",
    "\n",
    "    # for each column and robot, add edge corresponding to the arrival time\n",
    "    for robot in robots:\n",
    "        for c in range(n_cols):\n",
    "            arrival_time = int(Point(c, row).distance_to(robot.loc) / robot.fv)\n",
    "            g.add_edge(str(robot),f'[{arrival_time},{c}]_i', weight=0, capacity=1)\n",
    "\n",
    "    # add dummy source and target to use flow\n",
    "    g.add_node('s', pos=np.array([2, -2]), color='orange')\n",
    "    g.add_node('t', pos=np.array([2, 5 * T + 4]), color='orange')\n",
    "\n",
    "    for robot in robots:\n",
    "        g.add_edge('s', str(robot), weight=0, capacity=1)\n",
    "\n",
    "    for c in range(n_cols):\n",
    "        g.add_edge(f'[{T-1},{c}]_o','t', weight=0, capacity=len(robots))\n",
    "        g.add_edge(f'[{T-1},{c}]_i','t', weight=0, capacity=len(robots))\n",
    "\n",
    "    # plt.xlim([0, 20])\n",
    "    # plt.ylim([0, 20])\n",
    "    plt.figure(3,figsize=(10,14))\n",
    "    edge_labels = {k: v/100 for k, v in nx.get_edge_attributes(g,'weight').items() if v != 0}\n",
    "    pos = nx.get_node_attributes(g,'pos')\n",
    "\n",
    "    if draw:\n",
    "        nx.draw(g, pos=pos,\n",
    "                node_color=nx.get_node_attributes(g,'color').values(),\n",
    "                with_labels=True)\n",
    "        nx.draw_networkx_edge_labels(g, pos, edge_labels=edge_labels, rotate=False)\n",
    "        plt.show()\n",
    "\n",
    "    flow = nx.max_flow_min_cost(g, 's', 't')\n",
    "\n",
    "    # delete all edges without flow\n",
    "    edges_to_delete = []\n",
    "    for key1, val1 in flow.items():\n",
    "        for key2, val2 in val1.items():\n",
    "            if val2 == 0:\n",
    "                edges_to_delete.append((key1, key2))\n",
    "    for key1, key2 in edges_to_delete:\n",
    "        g.remove_edge(key1, key2)\n",
    "\n",
    "    if draw:\n",
    "        plt.figure(3,figsize=(10,14))\n",
    "        nx.draw(g, pos=pos,\n",
    "                node_color=nx.get_node_attributes(g,'color').values(),\n",
    "                with_labels=True)\n",
    "        nx.draw_networkx_edge_labels(g, pos, edge_labels=edge_labels, rotate=False)\n",
    "        plt.show()\n",
    "\n",
    "    return -sum(nx.get_edge_attributes(g,'weight').values())/100\n",
    "\n",
    "print(f'expected damage avoided is {flow_moves(robots, 4, RUM, draw=True)}')"
   ],
   "metadata": {
    "collapsed": false,
    "pycharm": {
     "name": "#%%\n"
    }
   }
  },
  {
   "cell_type": "code",
   "execution_count": null,
   "outputs": [],
   "source": [
    "T, n_rows, n_cols = RUM.shape\n",
    "scores = {row : flow_moves(robots, row, RUM) for row in range(n_rows)}\n",
    "row_opt = max(list(range(n_rows)), key=lambda row: scores[row])\n",
    "print(row_opt)\n",
    "print(scores)"
   ],
   "metadata": {
    "collapsed": false,
    "pycharm": {
     "name": "#%%\n"
    }
   }
  },
  {
   "cell_type": "code",
   "execution_count": null,
   "outputs": [],
   "source": [],
   "metadata": {
    "collapsed": false,
    "pycharm": {
     "name": "#%%\n"
    }
   }
  },
  {
   "cell_type": "code",
   "execution_count": null,
   "outputs": [],
   "source": [],
   "metadata": {
    "collapsed": false,
    "pycharm": {
     "name": "#%%\n"
    }
   }
  },
  {
   "cell_type": "code",
   "execution_count": null,
   "outputs": [],
   "source": [],
   "metadata": {
    "collapsed": false,
    "pycharm": {
     "name": "#%%\n"
    }
   }
  },
  {
   "cell_type": "code",
   "execution_count": null,
   "outputs": [],
   "source": [],
   "metadata": {
    "collapsed": false,
    "pycharm": {
     "name": "#%%\n"
    }
   }
  }
 ],
 "metadata": {
  "kernelspec": {
   "display_name": "Python 3",
   "language": "python",
   "name": "python3"
  },
  "language_info": {
   "codemirror_mode": {
    "name": "ipython",
    "version": 2
   },
   "file_extension": ".py",
   "mimetype": "text/x-python",
   "name": "python",
   "nbconvert_exporter": "python",
   "pygments_lexer": "ipython2",
   "version": "2.7.6"
  }
 },
 "nbformat": 4,
 "nbformat_minor": 0
}
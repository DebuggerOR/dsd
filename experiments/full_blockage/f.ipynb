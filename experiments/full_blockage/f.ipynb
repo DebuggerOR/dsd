{
 "cells": [
  {
   "cell_type": "markdown",
   "source": [
    "# Results of different f values"
   ],
   "metadata": {
    "collapsed": false
   }
  },
  {
   "cell_type": "code",
   "execution_count": 199,
   "outputs": [
    {
     "data": {
      "text/plain": "<Figure size 1332x756 with 0 Axes>"
     },
     "metadata": {},
     "output_type": "display_data"
    }
   ],
   "source": [
    "import matplotlib.pyplot as plt\n",
    "import pandas as pd"
   ],
   "metadata": {
    "collapsed": false,
    "pycharm": {
     "name": "#%%\n"
    }
   }
  },
  {
   "cell_type": "code",
   "execution_count": 200,
   "outputs": [
    {
     "data": {
      "text/plain": "                       planner    f  num_agents  num_robots    d  active_time  \\\n0  ClusteringAssignmentPlanner  1.1         100        10.0  5.0  1097.262344   \n1  ClusteringAssignmentPlanner  1.1         500        10.0  5.0  1420.874836   \n2  ClusteringAssignmentPlanner  1.2         100        10.0  5.0   579.207598   \n3  ClusteringAssignmentPlanner  1.3         100        10.0  5.0   402.844100   \n4  ClusteringAssignmentPlanner  1.4         100        10.0  5.0   312.700440   \n\n   planner_time         damage  num_disabled  \n0      0.259248   49690.432154         100.0  \n1      3.183511  343911.379454         500.0  \n2      0.254573   25964.655200         100.0  \n3      0.254952   17781.934185         100.0  \n4      0.259604   13714.375743         100.0  ",
      "text/html": "<div>\n<style scoped>\n    .dataframe tbody tr th:only-of-type {\n        vertical-align: middle;\n    }\n\n    .dataframe tbody tr th {\n        vertical-align: top;\n    }\n\n    .dataframe thead th {\n        text-align: right;\n    }\n</style>\n<table border=\"1\" class=\"dataframe\">\n  <thead>\n    <tr style=\"text-align: right;\">\n      <th></th>\n      <th>planner</th>\n      <th>f</th>\n      <th>num_agents</th>\n      <th>num_robots</th>\n      <th>d</th>\n      <th>active_time</th>\n      <th>planner_time</th>\n      <th>damage</th>\n      <th>num_disabled</th>\n    </tr>\n  </thead>\n  <tbody>\n    <tr>\n      <th>0</th>\n      <td>ClusteringAssignmentPlanner</td>\n      <td>1.1</td>\n      <td>100</td>\n      <td>10.0</td>\n      <td>5.0</td>\n      <td>1097.262344</td>\n      <td>0.259248</td>\n      <td>49690.432154</td>\n      <td>100.0</td>\n    </tr>\n    <tr>\n      <th>1</th>\n      <td>ClusteringAssignmentPlanner</td>\n      <td>1.1</td>\n      <td>500</td>\n      <td>10.0</td>\n      <td>5.0</td>\n      <td>1420.874836</td>\n      <td>3.183511</td>\n      <td>343911.379454</td>\n      <td>500.0</td>\n    </tr>\n    <tr>\n      <th>2</th>\n      <td>ClusteringAssignmentPlanner</td>\n      <td>1.2</td>\n      <td>100</td>\n      <td>10.0</td>\n      <td>5.0</td>\n      <td>579.207598</td>\n      <td>0.254573</td>\n      <td>25964.655200</td>\n      <td>100.0</td>\n    </tr>\n    <tr>\n      <th>3</th>\n      <td>ClusteringAssignmentPlanner</td>\n      <td>1.3</td>\n      <td>100</td>\n      <td>10.0</td>\n      <td>5.0</td>\n      <td>402.844100</td>\n      <td>0.254952</td>\n      <td>17781.934185</td>\n      <td>100.0</td>\n    </tr>\n    <tr>\n      <th>4</th>\n      <td>ClusteringAssignmentPlanner</td>\n      <td>1.4</td>\n      <td>100</td>\n      <td>10.0</td>\n      <td>5.0</td>\n      <td>312.700440</td>\n      <td>0.259604</td>\n      <td>13714.375743</td>\n      <td>100.0</td>\n    </tr>\n  </tbody>\n</table>\n</div>"
     },
     "execution_count": 200,
     "metadata": {},
     "output_type": "execute_result"
    }
   ],
   "source": [
    "results = pd.read_csv('./f_results.csv')\n",
    "results = results.drop_duplicates(subset='damage')\n",
    "results = results.groupby(['planner','f','num_agents'], as_index=False).mean()\n",
    "results.head()"
   ],
   "metadata": {
    "collapsed": false,
    "pycharm": {
     "name": "#%%\n"
    }
   }
  },
  {
   "cell_type": "code",
   "execution_count": 201,
   "outputs": [],
   "source": [
    "num_agents = 500\n",
    "\n",
    "results = results.loc[results['num_agents']==num_agents]\n",
    "\n",
    "planners_names = ['StaticLinePlanner', 'TravelingLinePlanner','SeparateTravelingPlanner','IterativeAssignmentPlanner',\n",
    "                  'ClusteringAssignmentPlanner']\n",
    "\n",
    "planners_results = [results.loc[results['planner']==name] for name in planners_names]"
   ],
   "metadata": {
    "collapsed": false,
    "pycharm": {
     "name": "#%%\n"
    }
   }
  },
  {
   "cell_type": "markdown",
   "source": [
    "## Experiments\n",
    "\n",
    "* the world is 100X300\n",
    "* agents initialized in the bottom 100X100 square\n",
    "* robots initialized somewhere under the world\n",
    "* robots num is sufficient for full-blockage\n",
    "* disablement range is 5\n",
    "* agent speed v is 1"
   ],
   "metadata": {
    "collapsed": false
   }
  },
  {
   "cell_type": "code",
   "execution_count": null,
   "outputs": [],
   "source": [
    "Y = ['damage', 'active_time', 'completion_time', 'planner_time', 'num_disabled']\n",
    "X = ['f' for y in Y]\n",
    "\n",
    "for i in range(len(Y)):\n",
    "    x = X[i]\n",
    "    y = Y[i]\n",
    "\n",
    "    title = f'{y} as function of {x} ({num_agents} agents)'\n",
    "    plt.title(title)\n",
    "\n",
    "    for r in planners_results:\n",
    "        plt.plot(list(r[x]),list(r[y]))\n",
    "\n",
    "    # plt.figure(figsize=(10, 8))\n",
    "    # plt.savefig('./plots/'+title+'.png')\n",
    "\n",
    "    plt.legend(planners_names)\n",
    "    plt.show()"
   ],
   "metadata": {
    "collapsed": false,
    "pycharm": {
     "name": "#%%\n"
    }
   }
  }
 ],
 "metadata": {
  "kernelspec": {
   "display_name": "Python 3",
   "language": "python",
   "name": "python3"
  },
  "language_info": {
   "codemirror_mode": {
    "name": "ipython",
    "version": 2
   },
   "file_extension": ".py",
   "mimetype": "text/x-python",
   "name": "python",
   "nbconvert_exporter": "python",
   "pygments_lexer": "ipython2",
   "version": "2.7.6"
  }
 },
 "nbformat": 4,
 "nbformat_minor": 0
}
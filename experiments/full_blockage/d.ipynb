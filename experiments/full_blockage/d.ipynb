{
 "cells": [
  {
   "cell_type": "markdown",
   "source": [
    "# Results of different d values"
   ],
   "metadata": {
    "collapsed": false
   }
  },
  {
   "cell_type": "code",
   "execution_count": 24,
   "outputs": [
    {
     "data": {
      "text/plain": "<Figure size 1332x756 with 0 Axes>"
     },
     "metadata": {},
     "output_type": "display_data"
    }
   ],
   "source": [
    "import matplotlib.pyplot as plt\n",
    "import pandas as pd"
   ],
   "metadata": {
    "collapsed": false,
    "pycharm": {
     "name": "#%%\n"
    }
   }
  },
  {
   "cell_type": "code",
   "execution_count": 25,
   "outputs": [
    {
     "data": {
      "text/plain": "                       planner   d  num_agents  num_robots    f  active_time  \\\n0  ClusteringAssignmentPlanner   3         100   16.966667  2.0   120.067294   \n1  ClusteringAssignmentPlanner   5         100   10.000000  2.0   138.333831   \n2  ClusteringAssignmentPlanner  10         100    5.000000  2.0   204.587301   \n3  ClusteringAssignmentPlanner  15         100    4.000000  2.0   243.387370   \n4   IterativeAssignmentPlanner   3         100   16.966667  2.0   114.139782   \n\n   planner_time        damage  num_disabled  \n0      0.326193   4806.933989         100.0  \n1      0.282724   5945.851706         100.0  \n2      0.249107   8831.056797         100.0  \n3      0.241752  10450.484588         100.0  \n4      0.135819   4102.970713         100.0  ",
      "text/html": "<div>\n<style scoped>\n    .dataframe tbody tr th:only-of-type {\n        vertical-align: middle;\n    }\n\n    .dataframe tbody tr th {\n        vertical-align: top;\n    }\n\n    .dataframe thead th {\n        text-align: right;\n    }\n</style>\n<table border=\"1\" class=\"dataframe\">\n  <thead>\n    <tr style=\"text-align: right;\">\n      <th></th>\n      <th>planner</th>\n      <th>d</th>\n      <th>num_agents</th>\n      <th>num_robots</th>\n      <th>f</th>\n      <th>active_time</th>\n      <th>planner_time</th>\n      <th>damage</th>\n      <th>num_disabled</th>\n    </tr>\n  </thead>\n  <tbody>\n    <tr>\n      <th>0</th>\n      <td>ClusteringAssignmentPlanner</td>\n      <td>3</td>\n      <td>100</td>\n      <td>16.966667</td>\n      <td>2.0</td>\n      <td>120.067294</td>\n      <td>0.326193</td>\n      <td>4806.933989</td>\n      <td>100.0</td>\n    </tr>\n    <tr>\n      <th>1</th>\n      <td>ClusteringAssignmentPlanner</td>\n      <td>5</td>\n      <td>100</td>\n      <td>10.000000</td>\n      <td>2.0</td>\n      <td>138.333831</td>\n      <td>0.282724</td>\n      <td>5945.851706</td>\n      <td>100.0</td>\n    </tr>\n    <tr>\n      <th>2</th>\n      <td>ClusteringAssignmentPlanner</td>\n      <td>10</td>\n      <td>100</td>\n      <td>5.000000</td>\n      <td>2.0</td>\n      <td>204.587301</td>\n      <td>0.249107</td>\n      <td>8831.056797</td>\n      <td>100.0</td>\n    </tr>\n    <tr>\n      <th>3</th>\n      <td>ClusteringAssignmentPlanner</td>\n      <td>15</td>\n      <td>100</td>\n      <td>4.000000</td>\n      <td>2.0</td>\n      <td>243.387370</td>\n      <td>0.241752</td>\n      <td>10450.484588</td>\n      <td>100.0</td>\n    </tr>\n    <tr>\n      <th>4</th>\n      <td>IterativeAssignmentPlanner</td>\n      <td>3</td>\n      <td>100</td>\n      <td>16.966667</td>\n      <td>2.0</td>\n      <td>114.139782</td>\n      <td>0.135819</td>\n      <td>4102.970713</td>\n      <td>100.0</td>\n    </tr>\n  </tbody>\n</table>\n</div>"
     },
     "execution_count": 25,
     "metadata": {},
     "output_type": "execute_result"
    }
   ],
   "source": [
    "results = pd.read_csv('./d_results.csv')\n",
    "results = results.drop_duplicates(subset='damage')\n",
    "results = results.groupby(['planner','d','num_agents'], as_index=False).mean()\n",
    "\n",
    "results.head(20)"
   ],
   "metadata": {
    "collapsed": false,
    "pycharm": {
     "name": "#%%\n"
    }
   }
  },
  {
   "cell_type": "code",
   "execution_count": 26,
   "outputs": [],
   "source": [
    "num_agents = 100\n",
    "\n",
    "results = results.loc[results['num_agents']==num_agents]\n",
    "\n",
    "planners_names = ['StaticLinePlanner', 'TravelingLinePlanner','SeparateTravelingPlanner','IterativeAssignmentPlanner',\n",
    "                  'KmeansAssignmentPlanner']\n",
    "\n",
    "planners_results = [results.loc[results['planner']==name] for name in planners_names]"
   ],
   "metadata": {
    "collapsed": false,
    "pycharm": {
     "name": "#%%\n"
    }
   }
  },
  {
   "cell_type": "markdown",
   "source": [
    "## Experiments\n",
    "\n",
    "* the world is 100X300\n",
    "* agents initialized in the bottom 100X100 square\n",
    "* robots initialized somewhere under the world\n",
    "* robots num is sufficient for full-blockage\n",
    "* agent speed v is 1\n",
    "* robot speed fv is 2"
   ],
   "metadata": {
    "collapsed": false
   }
  },
  {
   "cell_type": "code",
   "execution_count": null,
   "outputs": [],
   "source": [
    "Y = ['damage', 'active_time', 'completion_time', 'planner_time', 'num_disabled']\n",
    "X = ['d' for y in Y]\n",
    "\n",
    "for i in range(len(Y)):\n",
    "    x = X[i]\n",
    "    y = Y[i]\n",
    "\n",
    "    title = f'{y} as function of {x} ({num_agents} agents)'\n",
    "    plt.title(title)\n",
    "\n",
    "    for r in planners_results:\n",
    "        plt.plot(list(r[x]),list(r[y]))\n",
    "\n",
    "    # plt.figure(figsize=(10, 8))\n",
    "    # plt.savefig('./plots/'+title+'.png')\n",
    "\n",
    "    plt.legend(planners_names)\n",
    "    plt.show()\n"
   ],
   "metadata": {
    "collapsed": false,
    "pycharm": {
     "name": "#%%\n"
    }
   }
  }
 ],
 "metadata": {
  "kernelspec": {
   "display_name": "Python 3",
   "language": "python",
   "name": "python3"
  },
  "language_info": {
   "codemirror_mode": {
    "name": "ipython",
    "version": 2
   },
   "file_extension": ".py",
   "mimetype": "text/x-python",
   "name": "python",
   "nbconvert_exporter": "python",
   "pygments_lexer": "ipython2",
   "version": "2.7.6"
  }
 },
 "nbformat": 4,
 "nbformat_minor": 0
}
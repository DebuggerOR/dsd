{
 "cells": [
  {
   "cell_type": "markdown",
   "metadata": {
    "collapsed": true,
    "pycharm": {
     "name": "#%% md\n"
    }
   },
   "source": [
    "# Stochastic Analysis"
   ]
  },
  {
   "cell_type": "markdown",
   "source": [
    "## load tables"
   ],
   "metadata": {
    "collapsed": false,
    "pycharm": {
     "name": "#%% md\n"
    }
   }
  },
  {
   "cell_type": "code",
   "execution_count": 102,
   "outputs": [],
   "source": [
    "import pandas as pd\n",
    "import matplotlib.pyplot as plt\n",
    "from tqdm import tqdm"
   ],
   "metadata": {
    "collapsed": false,
    "pycharm": {
     "name": "#%%\n"
    }
   }
  },
  {
   "cell_type": "code",
   "execution_count": 103,
   "outputs": [
    {
     "data": {
      "text/plain": "                          planner  num_agents  num_robots    f    d  sigma  \\\n0  StochasticAdditive5LackPlanner          50         5.0  2.0  5.0    1.0   \n1  StochasticAdditive5LackPlanner         100         5.0  2.0  5.0    1.0   \n2  StochasticAdditive5LackPlanner         200         5.0  2.0  5.0    1.0   \n3  StochasticAdditive5LackPlanner         300         5.0  2.0  5.0    1.0   \n4  StochasticAdditive5LackPlanner         400         5.0  2.0  5.0    1.0   \n\n   active_time  planner_time        damage  num_disabled  \n0   172.800799      6.033328   7673.417064       38.6335  \n1   171.090335     29.689702  17932.195877       59.7600  \n2   140.000000      5.790841  38463.280000       72.3920  \n3   140.000000     11.316855  58835.320000      101.0730  \n4   140.000000     13.054559  80961.000000      117.0500  ",
      "text/html": "<div>\n<style scoped>\n    .dataframe tbody tr th:only-of-type {\n        vertical-align: middle;\n    }\n\n    .dataframe tbody tr th {\n        vertical-align: top;\n    }\n\n    .dataframe thead th {\n        text-align: right;\n    }\n</style>\n<table border=\"1\" class=\"dataframe\">\n  <thead>\n    <tr style=\"text-align: right;\">\n      <th></th>\n      <th>planner</th>\n      <th>num_agents</th>\n      <th>num_robots</th>\n      <th>f</th>\n      <th>d</th>\n      <th>sigma</th>\n      <th>active_time</th>\n      <th>planner_time</th>\n      <th>damage</th>\n      <th>num_disabled</th>\n    </tr>\n  </thead>\n  <tbody>\n    <tr>\n      <th>0</th>\n      <td>StochasticAdditive5LackPlanner</td>\n      <td>50</td>\n      <td>5.0</td>\n      <td>2.0</td>\n      <td>5.0</td>\n      <td>1.0</td>\n      <td>172.800799</td>\n      <td>6.033328</td>\n      <td>7673.417064</td>\n      <td>38.6335</td>\n    </tr>\n    <tr>\n      <th>1</th>\n      <td>StochasticAdditive5LackPlanner</td>\n      <td>100</td>\n      <td>5.0</td>\n      <td>2.0</td>\n      <td>5.0</td>\n      <td>1.0</td>\n      <td>171.090335</td>\n      <td>29.689702</td>\n      <td>17932.195877</td>\n      <td>59.7600</td>\n    </tr>\n    <tr>\n      <th>2</th>\n      <td>StochasticAdditive5LackPlanner</td>\n      <td>200</td>\n      <td>5.0</td>\n      <td>2.0</td>\n      <td>5.0</td>\n      <td>1.0</td>\n      <td>140.000000</td>\n      <td>5.790841</td>\n      <td>38463.280000</td>\n      <td>72.3920</td>\n    </tr>\n    <tr>\n      <th>3</th>\n      <td>StochasticAdditive5LackPlanner</td>\n      <td>300</td>\n      <td>5.0</td>\n      <td>2.0</td>\n      <td>5.0</td>\n      <td>1.0</td>\n      <td>140.000000</td>\n      <td>11.316855</td>\n      <td>58835.320000</td>\n      <td>101.0730</td>\n    </tr>\n    <tr>\n      <th>4</th>\n      <td>StochasticAdditive5LackPlanner</td>\n      <td>400</td>\n      <td>5.0</td>\n      <td>2.0</td>\n      <td>5.0</td>\n      <td>1.0</td>\n      <td>140.000000</td>\n      <td>13.054559</td>\n      <td>80961.000000</td>\n      <td>117.0500</td>\n    </tr>\n  </tbody>\n</table>\n</div>"
     },
     "execution_count": 103,
     "metadata": {},
     "output_type": "execute_result"
    }
   ],
   "source": [
    "agents_number_df = pd.read_csv('./agents_results.csv')\n",
    "agents_number_df = agents_number_df.drop_duplicates(subset='damage')\n",
    "agents_number_df = agents_number_df.loc[(agents_number_df['d'] == 5) & (agents_number_df['sigma'] == 1)]\n",
    "agents_number_df = agents_number_df.groupby(['planner', 'num_agents'], as_index=False).mean()\n",
    "agents_number_df.head()"
   ],
   "metadata": {
    "collapsed": false,
    "pycharm": {
     "name": "#%%\n"
    }
   }
  },
  {
   "cell_type": "code",
   "execution_count": 104,
   "outputs": [
    {
     "data": {
      "text/plain": "                      planner    f  num_agents  num_robots    d  sigma  \\\n0  StochasticIterativePlanner  1.2       300.0         5.0  5.0    1.0   \n1  StochasticIterativePlanner  1.3       300.0         5.0  5.0    1.0   \n2  StochasticIterativePlanner  1.4       300.0         5.0  5.0    1.0   \n3  StochasticIterativePlanner  1.5       300.0         5.0  5.0    1.0   \n4  StochasticIterativePlanner  1.6       300.0         5.0  5.0    1.0   \n\n   active_time  planner_time        damage  num_disabled  \n0   274.330333      0.920247  70427.460707       29.6010  \n1   261.857269      1.357716  67996.203832       42.3667  \n2   258.327398      1.810812  65828.579418       54.2816  \n3   247.815872      2.210782  63725.955072       65.5200  \n4   242.580723      2.532634  61870.297897       75.2575  ",
      "text/html": "<div>\n<style scoped>\n    .dataframe tbody tr th:only-of-type {\n        vertical-align: middle;\n    }\n\n    .dataframe tbody tr th {\n        vertical-align: top;\n    }\n\n    .dataframe thead th {\n        text-align: right;\n    }\n</style>\n<table border=\"1\" class=\"dataframe\">\n  <thead>\n    <tr style=\"text-align: right;\">\n      <th></th>\n      <th>planner</th>\n      <th>f</th>\n      <th>num_agents</th>\n      <th>num_robots</th>\n      <th>d</th>\n      <th>sigma</th>\n      <th>active_time</th>\n      <th>planner_time</th>\n      <th>damage</th>\n      <th>num_disabled</th>\n    </tr>\n  </thead>\n  <tbody>\n    <tr>\n      <th>0</th>\n      <td>StochasticIterativePlanner</td>\n      <td>1.2</td>\n      <td>300.0</td>\n      <td>5.0</td>\n      <td>5.0</td>\n      <td>1.0</td>\n      <td>274.330333</td>\n      <td>0.920247</td>\n      <td>70427.460707</td>\n      <td>29.6010</td>\n    </tr>\n    <tr>\n      <th>1</th>\n      <td>StochasticIterativePlanner</td>\n      <td>1.3</td>\n      <td>300.0</td>\n      <td>5.0</td>\n      <td>5.0</td>\n      <td>1.0</td>\n      <td>261.857269</td>\n      <td>1.357716</td>\n      <td>67996.203832</td>\n      <td>42.3667</td>\n    </tr>\n    <tr>\n      <th>2</th>\n      <td>StochasticIterativePlanner</td>\n      <td>1.4</td>\n      <td>300.0</td>\n      <td>5.0</td>\n      <td>5.0</td>\n      <td>1.0</td>\n      <td>258.327398</td>\n      <td>1.810812</td>\n      <td>65828.579418</td>\n      <td>54.2816</td>\n    </tr>\n    <tr>\n      <th>3</th>\n      <td>StochasticIterativePlanner</td>\n      <td>1.5</td>\n      <td>300.0</td>\n      <td>5.0</td>\n      <td>5.0</td>\n      <td>1.0</td>\n      <td>247.815872</td>\n      <td>2.210782</td>\n      <td>63725.955072</td>\n      <td>65.5200</td>\n    </tr>\n    <tr>\n      <th>4</th>\n      <td>StochasticIterativePlanner</td>\n      <td>1.6</td>\n      <td>300.0</td>\n      <td>5.0</td>\n      <td>5.0</td>\n      <td>1.0</td>\n      <td>242.580723</td>\n      <td>2.532634</td>\n      <td>61870.297897</td>\n      <td>75.2575</td>\n    </tr>\n  </tbody>\n</table>\n</div>"
     },
     "execution_count": 104,
     "metadata": {},
     "output_type": "execute_result"
    }
   ],
   "source": [
    "f_df = pd.read_csv('./f_results.csv')\n",
    "f_df = f_df.drop_duplicates(subset='damage')\n",
    "f_df = f_df.loc[(f_df['num_agents'] == 300)]\n",
    "f_df = f_df.groupby(['planner', 'f'], as_index=False).mean()\n",
    "f_df.head()"
   ],
   "metadata": {
    "collapsed": false,
    "pycharm": {
     "name": "#%%\n"
    }
   }
  },
  {
   "cell_type": "code",
   "execution_count": 105,
   "outputs": [
    {
     "data": {
      "text/plain": "                      planner  num_robots  num_agents    f    d  sigma  \\\n0  StochasticIterativePlanner           2       100.0  2.0  5.0    1.0   \n1  StochasticIterativePlanner           3       100.0  2.0  5.0    1.0   \n2  StochasticIterativePlanner           4       100.0  2.0  5.0    1.0   \n3  StochasticIterativePlanner           5       100.0  2.0  5.0    1.0   \n4  StochasticIterativePlanner           6       100.0  2.0  5.0    1.0   \n\n   active_time  planner_time        damage  num_disabled  \n0   227.262299      0.344956  19905.408983     27.402667  \n1   213.475637      0.399677  18276.187929     36.862000  \n2   203.610982      0.425191  16988.500454     44.457333  \n3   198.976387      0.423328  16446.318134     45.960667  \n4   180.787283      0.419446  15969.324642     47.288333  ",
      "text/html": "<div>\n<style scoped>\n    .dataframe tbody tr th:only-of-type {\n        vertical-align: middle;\n    }\n\n    .dataframe tbody tr th {\n        vertical-align: top;\n    }\n\n    .dataframe thead th {\n        text-align: right;\n    }\n</style>\n<table border=\"1\" class=\"dataframe\">\n  <thead>\n    <tr style=\"text-align: right;\">\n      <th></th>\n      <th>planner</th>\n      <th>num_robots</th>\n      <th>num_agents</th>\n      <th>f</th>\n      <th>d</th>\n      <th>sigma</th>\n      <th>active_time</th>\n      <th>planner_time</th>\n      <th>damage</th>\n      <th>num_disabled</th>\n    </tr>\n  </thead>\n  <tbody>\n    <tr>\n      <th>0</th>\n      <td>StochasticIterativePlanner</td>\n      <td>2</td>\n      <td>100.0</td>\n      <td>2.0</td>\n      <td>5.0</td>\n      <td>1.0</td>\n      <td>227.262299</td>\n      <td>0.344956</td>\n      <td>19905.408983</td>\n      <td>27.402667</td>\n    </tr>\n    <tr>\n      <th>1</th>\n      <td>StochasticIterativePlanner</td>\n      <td>3</td>\n      <td>100.0</td>\n      <td>2.0</td>\n      <td>5.0</td>\n      <td>1.0</td>\n      <td>213.475637</td>\n      <td>0.399677</td>\n      <td>18276.187929</td>\n      <td>36.862000</td>\n    </tr>\n    <tr>\n      <th>2</th>\n      <td>StochasticIterativePlanner</td>\n      <td>4</td>\n      <td>100.0</td>\n      <td>2.0</td>\n      <td>5.0</td>\n      <td>1.0</td>\n      <td>203.610982</td>\n      <td>0.425191</td>\n      <td>16988.500454</td>\n      <td>44.457333</td>\n    </tr>\n    <tr>\n      <th>3</th>\n      <td>StochasticIterativePlanner</td>\n      <td>5</td>\n      <td>100.0</td>\n      <td>2.0</td>\n      <td>5.0</td>\n      <td>1.0</td>\n      <td>198.976387</td>\n      <td>0.423328</td>\n      <td>16446.318134</td>\n      <td>45.960667</td>\n    </tr>\n    <tr>\n      <th>4</th>\n      <td>StochasticIterativePlanner</td>\n      <td>6</td>\n      <td>100.0</td>\n      <td>2.0</td>\n      <td>5.0</td>\n      <td>1.0</td>\n      <td>180.787283</td>\n      <td>0.419446</td>\n      <td>15969.324642</td>\n      <td>47.288333</td>\n    </tr>\n  </tbody>\n</table>\n</div>"
     },
     "execution_count": 105,
     "metadata": {},
     "output_type": "execute_result"
    }
   ],
   "source": [
    "robots_df = pd.read_csv('./robots_results.csv')\n",
    "robots_df = robots_df.drop_duplicates(subset=['planner', 'damage'])\n",
    "robots_df = robots_df.groupby(['planner', 'num_robots'], as_index=False).mean()\n",
    "robots_df.head()"
   ],
   "metadata": {
    "collapsed": false,
    "pycharm": {
     "name": "#%%\n"
    }
   }
  },
  {
   "cell_type": "markdown",
   "source": [
    "## visualizations"
   ],
   "metadata": {
    "collapsed": false,
    "pycharm": {
     "name": "#%% md\n"
    }
   }
  },
  {
   "cell_type": "code",
   "execution_count": 106,
   "outputs": [],
   "source": [
    "planners_colors = {'StochasticIterativePlanner': 'red',\n",
    "                   'StochasticStaticLackPlanner': 'blue',\n",
    "                   'StochasticAdditiveLackPlanner': 'orange',\n",
    "                   'StochasticMonotone15LackPlanner': 'green',\n",
    "                   'StochasticMonotone20LackPlanner': 'purple',\n",
    "                   'StochasticMonotone30LackPlanner': 'olive',\n",
    "                   'StochasticMonotone45LackPlanner': 'cyan'}"
   ],
   "metadata": {
    "collapsed": false,
    "pycharm": {
     "name": "#%%\n"
    }
   }
  },
  {
   "cell_type": "code",
   "execution_count": 107,
   "outputs": [],
   "source": [
    "from typing import List\n",
    "\n",
    "def visualize(X: List[str], Y: List[str], data, file_to_save: str, title: str):\n",
    "    plt.figure(figsize=(14,10))\n",
    "    plt.suptitle(title, fontsize=18)\n",
    "\n",
    "    for i in range(len(Y)):\n",
    "        x, y = X[i], Y[i]\n",
    "\n",
    "        plt.subplot(2, 2, i+1)\n",
    "        plt.xlabel(x)\n",
    "        plt.ylabel(y)\n",
    "        for j in range(len(data)):\n",
    "            r = data[j]\n",
    "            plt.plot(list(r[x]), list(r[y]), c=list(planners_colors.values())[j])\n",
    "\n",
    "        if i==1:\n",
    "            plt.legend(planners_colors.keys(), fontsize='14')\n",
    "\n",
    "    plt.savefig(file_to_save)\n",
    "    plt.show()"
   ],
   "metadata": {
    "collapsed": false,
    "pycharm": {
     "name": "#%%\n"
    }
   }
  },
  {
   "cell_type": "code",
   "execution_count": 108,
   "outputs": [
    {
     "data": {
      "text/plain": "<Figure size 1008x720 with 4 Axes>",
      "image/png": "[encoded data removed]"
     },
     "metadata": {
      "needs_background": "light"
     },
     "output_type": "display_data"
    }
   ],
   "source": [
    "Y = ['damage', 'active_time', 'planner_time', 'num_disabled']\n",
    "X = ['num_agents' for _ in Y]\n",
    "\n",
    "agents_results = [agents_number_df.loc[agents_number_df['planner'] == name] for name in planners_colors.keys()]\n",
    "title = 'per num agents results'\n",
    "file_to_save = './plots/stochastic_num_agents.png'\n",
    "\n",
    "visualize(X, Y, agents_results, file_to_save, title)"
   ],
   "metadata": {
    "collapsed": false,
    "pycharm": {
     "name": "#%%\n"
    }
   }
  },
  {
   "cell_type": "code",
   "execution_count": 109,
   "outputs": [
    {
     "data": {
      "text/plain": "<Figure size 1008x720 with 4 Axes>",
      "image/png": "[encoded data removed]"
     },
     "metadata": {
      "needs_background": "light"
     },
     "output_type": "display_data"
    }
   ],
   "source": [
    "Y = ['damage', 'active_time', 'planner_time', 'num_disabled']\n",
    "X = ['f' for _ in Y]\n",
    "\n",
    "f_results = [f_df.loc[f_df['planner'] == name] for name in planners_colors.keys()]\n",
    "title = 'per f results'\n",
    "file_to_save = './plots/stochastic_f.png'\n",
    "\n",
    "visualize(X, Y, f_results, file_to_save, title)"
   ],
   "metadata": {
    "collapsed": false,
    "pycharm": {
     "name": "#%%\n"
    }
   }
  },
  {
   "cell_type": "code",
   "execution_count": 110,
   "outputs": [
    {
     "data": {
      "text/plain": "<Figure size 1008x720 with 4 Axes>",
      "image/png": "[encoded data removed]"
     },
     "metadata": {
      "needs_background": "light"
     },
     "output_type": "display_data"
    }
   ],
   "source": [
    "Y = ['damage', 'active_time', 'planner_time', 'num_disabled']\n",
    "X = ['num_robots' for _ in Y]\n",
    "\n",
    "robots_results = [robots_df.loc[robots_df['planner'] == name] for name in planners_colors.keys()]\n",
    "title = 'per num robots results'\n",
    "file_to_save = './plots/stochastic_num_robots.png'\n",
    "\n",
    "visualize(X, Y, robots_results, file_to_save, title)"
   ],
   "metadata": {
    "collapsed": false,
    "pycharm": {
     "name": "#%%\n"
    }
   }
  },
  {
   "cell_type": "markdown",
   "source": [
    "## run experiments"
   ],
   "metadata": {
    "collapsed": false,
    "pycharm": {
     "name": "#%% md\n"
    }
   }
  },
  {
   "cell_type": "markdown",
   "source": [
    "### config file"
   ],
   "metadata": {
    "collapsed": false,
    "pycharm": {
     "name": "#%% md\n"
    }
   }
  },
  {
   "cell_type": "code",
   "execution_count": 96,
   "outputs": [
    {
     "data": {
      "text/plain": "{'x_size': 100,\n 'y_size_init': 100,\n 'y_size': 300,\n 'x_buffer': 10,\n 'y_buffer': 10,\n 'num_robots': 5,\n 'num_agents': 100,\n 'agent_speed': 1,\n 'robot_speed': 2,\n 'disablement_range': 5,\n 'sigma': 1}"
     },
     "execution_count": 96,
     "metadata": {},
     "output_type": "execute_result"
    }
   ],
   "source": [
    "import json\n",
    "with open('config.json') as json_file:\n",
    "    config = json.load(json_file)\n",
    "config"
   ],
   "metadata": {
    "collapsed": false,
    "pycharm": {
     "name": "#%%\n"
    }
   }
  },
  {
   "cell_type": "code",
   "execution_count": 97,
   "outputs": [],
   "source": [
    "import math\n",
    "import time\n",
    "from random import seed\n",
    "\n",
    "from planners.stochastic.baseline.stochastic_iterative_planner import StochasticIterativePlanner\n",
    "from planners.stochastic.partial_blockage.stochastic_additive_lack_planner import StochasticAdditiveLackPlanner\n",
    "from planners.stochastic.partial_blockage.stochastic_monotone_lack_planner import StochasticMonotoneLackPlanner\n",
    "from world.agents.stochastic_agent import StochasticAgent\n",
    "from world.robots.timing_robot import TimingRobot\n",
    "from world.stochastic_environment import StochasticEnvironment\n",
    "from planners.planner import Planner\n",
    "from planners.stochastic.partial_blockage.stochastic_static_lack_planner import StochasticStaticLackPlanner\n",
    "from utils.functions import *"
   ],
   "metadata": {
    "collapsed": false,
    "pycharm": {
     "name": "#%%\n"
    }
   }
  },
  {
   "cell_type": "code",
   "execution_count": 98,
   "outputs": [],
   "source": [
    "def run(planner: Planner, file_name: str):\n",
    "    agents = [StochasticAgent(loc=sample_point(config['x_buffer'], config['x_buffer'] + config['x_size'],\n",
    "                                               config['y_buffer'], config['y_buffer'] + config['y_size_init'], True),\n",
    "                              v=config['agent_speed'], sigma=config['sigma']) for _ in range(config['num_agents'])]\n",
    "\n",
    "    robots = [BasicRobot(sample_point(0, config['x_size'] + 2 * config['x_buffer'], 0, config['y_buffer'], True),\n",
    "                         config['robot_speed'], config['disablement_range']) for _ in range(config['num_robots'])]\n",
    "\n",
    "    env = StochasticEnvironment(agents=agents, robots=robots, top_border=config['y_size'] + config['y_buffer'],\n",
    "                                right_border=config['x_size'] + config['x_buffer'], left_border=config['x_buffer'])\n",
    "\n",
    "    before = time.time()\n",
    "    _, active_time, expected_damage, expected_num_disabled = planner.plan(env)\n",
    "    planning_time = time.time() - before\n",
    "\n",
    "    write_report(planner=str(planner),\n",
    "                 num_agents=config['num_agents'],\n",
    "                 num_robots=config['num_robots'],\n",
    "                 f=config['robot_speed'] / config['agent_speed'],\n",
    "                 d=config['disablement_range'],\n",
    "                 active_or_copmletion_time=active_time,\n",
    "                 planner_time=planning_time,\n",
    "                 damage=expected_damage,\n",
    "                 num_disabled=expected_num_disabled,\n",
    "                 file_name=file_name,\n",
    "                 is_active_time=True,\n",
    "                 sigma=config['sigma'])"
   ],
   "metadata": {
    "collapsed": false,
    "pycharm": {
     "name": "#%%\n"
    }
   }
  },
  {
   "cell_type": "code",
   "execution_count": 99,
   "outputs": [
    {
     "name": "stderr",
     "output_type": "stream",
     "text": [
      "  0%|          | 0/11 [00:00<?, ?it/s]"
     ]
    },
    {
     "name": "stdout",
     "output_type": "stream",
     "text": [
      "*** *** v=50 *** ***\n",
      "running StochasticMonotone45LackPlanner with seed 0..\n",
      "running StochasticMonotone45LackPlanner with seed 1..\n",
      "running StochasticMonotone45LackPlanner with seed 2..\n",
      "running StochasticMonotone45LackPlanner with seed 3..\n",
      "running StochasticMonotone45LackPlanner with seed 4..\n"
     ]
    },
    {
     "name": "stderr",
     "output_type": "stream",
     "text": [
      "  9%|▉         | 1/11 [00:02<00:22,  2.22s/it]"
     ]
    },
    {
     "name": "stdout",
     "output_type": "stream",
     "text": [
      "*** *** v=100 *** ***\n",
      "running StochasticMonotone45LackPlanner with seed 0..\n",
      "running StochasticMonotone45LackPlanner with seed 1..\n",
      "running StochasticMonotone45LackPlanner with seed 2..\n",
      "running StochasticMonotone45LackPlanner with seed 3..\n",
      "running StochasticMonotone45LackPlanner with seed 4..\n"
     ]
    },
    {
     "name": "stderr",
     "output_type": "stream",
     "text": [
      " 18%|█▊        | 2/11 [00:09<00:44,  4.99s/it]"
     ]
    },
    {
     "name": "stdout",
     "output_type": "stream",
     "text": [
      "*** *** v=200 *** ***\n",
      "running StochasticMonotone45LackPlanner with seed 0..\n",
      "running StochasticMonotone45LackPlanner with seed 1..\n",
      "running StochasticMonotone45LackPlanner with seed 2..\n",
      "running StochasticMonotone45LackPlanner with seed 3..\n",
      "running StochasticMonotone45LackPlanner with seed 4..\n"
     ]
    },
    {
     "name": "stderr",
     "output_type": "stream",
     "text": [
      " 27%|██▋       | 3/11 [00:35<01:56, 14.52s/it]"
     ]
    },
    {
     "name": "stdout",
     "output_type": "stream",
     "text": [
      "*** *** v=300 *** ***\n",
      "running StochasticMonotone45LackPlanner with seed 0..\n",
      "running StochasticMonotone45LackPlanner with seed 1..\n",
      "running StochasticMonotone45LackPlanner with seed 2..\n",
      "running StochasticMonotone45LackPlanner with seed 3..\n",
      "running StochasticMonotone45LackPlanner with seed 4..\n"
     ]
    },
    {
     "name": "stderr",
     "output_type": "stream",
     "text": [
      " 36%|███▋      | 4/11 [01:33<03:42, 31.82s/it]"
     ]
    },
    {
     "name": "stdout",
     "output_type": "stream",
     "text": [
      "*** *** v=400 *** ***\n",
      "running StochasticMonotone45LackPlanner with seed 0..\n",
      "running StochasticMonotone45LackPlanner with seed 1..\n",
      "running StochasticMonotone45LackPlanner with seed 2..\n",
      "running StochasticMonotone45LackPlanner with seed 3..\n",
      "running StochasticMonotone45LackPlanner with seed 4..\n"
     ]
    },
    {
     "name": "stderr",
     "output_type": "stream",
     "text": [
      " 45%|████▌     | 5/11 [03:13<05:37, 56.33s/it]"
     ]
    },
    {
     "name": "stdout",
     "output_type": "stream",
     "text": [
      "*** *** v=500 *** ***\n",
      "running StochasticMonotone45LackPlanner with seed 0..\n",
      "running StochasticMonotone45LackPlanner with seed 1..\n",
      "running StochasticMonotone45LackPlanner with seed 2..\n",
      "running StochasticMonotone45LackPlanner with seed 3..\n",
      "running StochasticMonotone45LackPlanner with seed 4..\n"
     ]
    },
    {
     "name": "stderr",
     "output_type": "stream",
     "text": [
      " 55%|█████▍    | 6/11 [05:49<07:31, 90.37s/it]"
     ]
    },
    {
     "name": "stdout",
     "output_type": "stream",
     "text": [
      "*** *** v=600 *** ***\n",
      "running StochasticMonotone45LackPlanner with seed 0..\n",
      "running StochasticMonotone45LackPlanner with seed 1..\n",
      "running StochasticMonotone45LackPlanner with seed 2..\n",
      "running StochasticMonotone45LackPlanner with seed 3..\n",
      "running StochasticMonotone45LackPlanner with seed 4..\n"
     ]
    },
    {
     "name": "stderr",
     "output_type": "stream",
     "text": [
      " 64%|██████▎   | 7/11 [09:34<08:57, 134.50s/it]"
     ]
    },
    {
     "name": "stdout",
     "output_type": "stream",
     "text": [
      "*** *** v=700 *** ***\n",
      "running StochasticMonotone45LackPlanner with seed 0..\n",
      "running StochasticMonotone45LackPlanner with seed 1..\n",
      "running StochasticMonotone45LackPlanner with seed 2..\n",
      "running StochasticMonotone45LackPlanner with seed 3..\n",
      "running StochasticMonotone45LackPlanner with seed 4..\n"
     ]
    },
    {
     "name": "stderr",
     "output_type": "stream",
     "text": [
      " 73%|███████▎  | 8/11 [14:28<09:15, 185.25s/it]"
     ]
    },
    {
     "name": "stdout",
     "output_type": "stream",
     "text": [
      "*** *** v=800 *** ***\n",
      "running StochasticMonotone45LackPlanner with seed 0..\n",
      "running StochasticMonotone45LackPlanner with seed 1..\n",
      "running StochasticMonotone45LackPlanner with seed 2..\n",
      "running StochasticMonotone45LackPlanner with seed 3..\n",
      "running StochasticMonotone45LackPlanner with seed 4..\n"
     ]
    },
    {
     "name": "stderr",
     "output_type": "stream",
     "text": [
      " 82%|████████▏ | 9/11 [20:44<08:09, 244.82s/it]"
     ]
    },
    {
     "name": "stdout",
     "output_type": "stream",
     "text": [
      "*** *** v=900 *** ***\n",
      "running StochasticMonotone45LackPlanner with seed 0..\n",
      "running StochasticMonotone45LackPlanner with seed 1..\n",
      "running StochasticMonotone45LackPlanner with seed 2..\n",
      "running StochasticMonotone45LackPlanner with seed 3..\n",
      "running StochasticMonotone45LackPlanner with seed 4..\n"
     ]
    },
    {
     "name": "stderr",
     "output_type": "stream",
     "text": [
      " 91%|█████████ | 10/11 [28:47<05:18, 318.42s/it]"
     ]
    },
    {
     "name": "stdout",
     "output_type": "stream",
     "text": [
      "*** *** v=1000 *** ***\n",
      "running StochasticMonotone45LackPlanner with seed 0..\n",
      "running StochasticMonotone45LackPlanner with seed 1..\n",
      "running StochasticMonotone45LackPlanner with seed 2..\n",
      "running StochasticMonotone45LackPlanner with seed 3..\n",
      "running StochasticMonotone45LackPlanner with seed 4..\n"
     ]
    },
    {
     "name": "stderr",
     "output_type": "stream",
     "text": [
      "100%|██████████| 11/11 [38:35<00:00, 210.52s/it]\n",
      "  0%|          | 0/11 [00:00<?, ?it/s]"
     ]
    },
    {
     "name": "stdout",
     "output_type": "stream",
     "text": [
      "*** *** v=50 *** ***\n",
      "running StochasticMonotone30LackPlanner with seed 0..\n",
      "running StochasticMonotone30LackPlanner with seed 1..\n",
      "running StochasticMonotone30LackPlanner with seed 2..\n",
      "running StochasticMonotone30LackPlanner with seed 3..\n",
      "running StochasticMonotone30LackPlanner with seed 4..\n"
     ]
    },
    {
     "name": "stderr",
     "output_type": "stream",
     "text": [
      "  9%|▉         | 1/11 [00:01<00:17,  1.80s/it]"
     ]
    },
    {
     "name": "stdout",
     "output_type": "stream",
     "text": [
      "*** *** v=100 *** ***\n",
      "running StochasticMonotone30LackPlanner with seed 0..\n",
      "running StochasticMonotone30LackPlanner with seed 1..\n",
      "running StochasticMonotone30LackPlanner with seed 2..\n",
      "running StochasticMonotone30LackPlanner with seed 3..\n",
      "running StochasticMonotone30LackPlanner with seed 4..\n"
     ]
    },
    {
     "name": "stderr",
     "output_type": "stream",
     "text": [
      " 18%|█▊        | 2/11 [00:06<00:33,  3.71s/it]"
     ]
    },
    {
     "name": "stdout",
     "output_type": "stream",
     "text": [
      "*** *** v=200 *** ***\n",
      "running StochasticMonotone30LackPlanner with seed 0..\n",
      "running StochasticMonotone30LackPlanner with seed 1..\n",
      "running StochasticMonotone30LackPlanner with seed 2..\n",
      "running StochasticMonotone30LackPlanner with seed 3..\n",
      "running StochasticMonotone30LackPlanner with seed 4..\n"
     ]
    },
    {
     "name": "stderr",
     "output_type": "stream",
     "text": [
      " 27%|██▋       | 3/11 [00:27<01:30, 11.33s/it]"
     ]
    },
    {
     "name": "stdout",
     "output_type": "stream",
     "text": [
      "*** *** v=300 *** ***\n",
      "running StochasticMonotone30LackPlanner with seed 0..\n",
      "running StochasticMonotone30LackPlanner with seed 1..\n",
      "running StochasticMonotone30LackPlanner with seed 2..\n",
      "running StochasticMonotone30LackPlanner with seed 3..\n",
      "running StochasticMonotone30LackPlanner with seed 4..\n"
     ]
    },
    {
     "name": "stderr",
     "output_type": "stream",
     "text": [
      " 36%|███▋      | 4/11 [01:11<02:50, 24.37s/it]"
     ]
    },
    {
     "name": "stdout",
     "output_type": "stream",
     "text": [
      "*** *** v=400 *** ***\n",
      "running StochasticMonotone30LackPlanner with seed 0..\n",
      "running StochasticMonotone30LackPlanner with seed 1..\n",
      "running StochasticMonotone30LackPlanner with seed 2..\n",
      "running StochasticMonotone30LackPlanner with seed 3..\n",
      "running StochasticMonotone30LackPlanner with seed 4..\n"
     ]
    },
    {
     "name": "stderr",
     "output_type": "stream",
     "text": [
      " 45%|████▌     | 5/11 [02:27<04:17, 42.93s/it]"
     ]
    },
    {
     "name": "stdout",
     "output_type": "stream",
     "text": [
      "*** *** v=500 *** ***\n",
      "running StochasticMonotone30LackPlanner with seed 0..\n",
      "running StochasticMonotone30LackPlanner with seed 1..\n",
      "running StochasticMonotone30LackPlanner with seed 2..\n",
      "running StochasticMonotone30LackPlanner with seed 3..\n",
      "running StochasticMonotone30LackPlanner with seed 4..\n"
     ]
    },
    {
     "name": "stderr",
     "output_type": "stream",
     "text": [
      " 55%|█████▍    | 6/11 [04:25<05:41, 68.34s/it]"
     ]
    },
    {
     "name": "stdout",
     "output_type": "stream",
     "text": [
      "*** *** v=600 *** ***\n",
      "running StochasticMonotone30LackPlanner with seed 0..\n",
      "running StochasticMonotone30LackPlanner with seed 1..\n",
      "running StochasticMonotone30LackPlanner with seed 2..\n",
      "running StochasticMonotone30LackPlanner with seed 3..\n",
      "running StochasticMonotone30LackPlanner with seed 4..\n"
     ]
    },
    {
     "name": "stderr",
     "output_type": "stream",
     "text": [
      " 64%|██████▎   | 7/11 [07:10<06:40, 100.02s/it]"
     ]
    },
    {
     "name": "stdout",
     "output_type": "stream",
     "text": [
      "*** *** v=700 *** ***\n",
      "running StochasticMonotone30LackPlanner with seed 0..\n",
      "running StochasticMonotone30LackPlanner with seed 1..\n",
      "running StochasticMonotone30LackPlanner with seed 2..\n",
      "running StochasticMonotone30LackPlanner with seed 3..\n",
      "running StochasticMonotone30LackPlanner with seed 4..\n"
     ]
    },
    {
     "name": "stderr",
     "output_type": "stream",
     "text": [
      " 73%|███████▎  | 8/11 [10:59<07:03, 141.26s/it]"
     ]
    },
    {
     "name": "stdout",
     "output_type": "stream",
     "text": [
      "*** *** v=800 *** ***\n",
      "running StochasticMonotone30LackPlanner with seed 0..\n",
      "running StochasticMonotone30LackPlanner with seed 1..\n",
      "running StochasticMonotone30LackPlanner with seed 2..\n",
      "running StochasticMonotone30LackPlanner with seed 3..\n",
      "running StochasticMonotone30LackPlanner with seed 4..\n"
     ]
    },
    {
     "name": "stderr",
     "output_type": "stream",
     "text": [
      " 82%|████████▏ | 9/11 [15:54<06:18, 189.26s/it]"
     ]
    },
    {
     "name": "stdout",
     "output_type": "stream",
     "text": [
      "*** *** v=900 *** ***\n",
      "running StochasticMonotone30LackPlanner with seed 0..\n",
      "running StochasticMonotone30LackPlanner with seed 1..\n",
      "running StochasticMonotone30LackPlanner with seed 2..\n",
      "running StochasticMonotone30LackPlanner with seed 3..\n",
      "running StochasticMonotone30LackPlanner with seed 4..\n"
     ]
    },
    {
     "name": "stderr",
     "output_type": "stream",
     "text": [
      " 91%|█████████ | 10/11 [22:03<04:04, 244.61s/it]"
     ]
    },
    {
     "name": "stdout",
     "output_type": "stream",
     "text": [
      "*** *** v=1000 *** ***\n",
      "running StochasticMonotone30LackPlanner with seed 0..\n",
      "running StochasticMonotone30LackPlanner with seed 1..\n",
      "running StochasticMonotone30LackPlanner with seed 2..\n",
      "running StochasticMonotone30LackPlanner with seed 3..\n",
      "running StochasticMonotone30LackPlanner with seed 4..\n"
     ]
    },
    {
     "name": "stderr",
     "output_type": "stream",
     "text": [
      "100%|██████████| 11/11 [29:39<00:00, 161.81s/it]\n",
      "  0%|          | 0/11 [00:00<?, ?it/s]"
     ]
    },
    {
     "name": "stdout",
     "output_type": "stream",
     "text": [
      "*** *** v=50 *** ***\n",
      "running StochasticMonotone20LackPlanner with seed 0..\n",
      "running StochasticMonotone20LackPlanner with seed 1..\n",
      "running StochasticMonotone20LackPlanner with seed 2..\n",
      "running StochasticMonotone20LackPlanner with seed 3..\n",
      "running StochasticMonotone20LackPlanner with seed 4..\n"
     ]
    },
    {
     "name": "stderr",
     "output_type": "stream",
     "text": [
      "  9%|▉         | 1/11 [00:01<00:11,  1.19s/it]"
     ]
    },
    {
     "name": "stdout",
     "output_type": "stream",
     "text": [
      "*** *** v=100 *** ***\n",
      "running StochasticMonotone20LackPlanner with seed 0..\n",
      "running StochasticMonotone20LackPlanner with seed 1..\n",
      "running StochasticMonotone20LackPlanner with seed 2..\n",
      "running StochasticMonotone20LackPlanner with seed 3..\n",
      "running StochasticMonotone20LackPlanner with seed 4..\n"
     ]
    },
    {
     "name": "stderr",
     "output_type": "stream",
     "text": [
      " 18%|█▊        | 2/11 [00:05<00:26,  2.97s/it]"
     ]
    },
    {
     "name": "stdout",
     "output_type": "stream",
     "text": [
      "*** *** v=200 *** ***\n",
      "running StochasticMonotone20LackPlanner with seed 0..\n",
      "running StochasticMonotone20LackPlanner with seed 1..\n",
      "running StochasticMonotone20LackPlanner with seed 2..\n",
      "running StochasticMonotone20LackPlanner with seed 3..\n",
      "running StochasticMonotone20LackPlanner with seed 4..\n"
     ]
    },
    {
     "name": "stderr",
     "output_type": "stream",
     "text": [
      " 27%|██▋       | 3/11 [00:21<01:13,  9.15s/it]"
     ]
    },
    {
     "name": "stdout",
     "output_type": "stream",
     "text": [
      "*** *** v=300 *** ***\n",
      "running StochasticMonotone20LackPlanner with seed 0..\n",
      "running StochasticMonotone20LackPlanner with seed 1..\n",
      "running StochasticMonotone20LackPlanner with seed 2..\n",
      "running StochasticMonotone20LackPlanner with seed 3..\n",
      "running StochasticMonotone20LackPlanner with seed 4..\n"
     ]
    },
    {
     "name": "stderr",
     "output_type": "stream",
     "text": [
      " 36%|███▋      | 4/11 [00:55<02:11, 18.77s/it]"
     ]
    },
    {
     "name": "stdout",
     "output_type": "stream",
     "text": [
      "*** *** v=400 *** ***\n",
      "running StochasticMonotone20LackPlanner with seed 0..\n",
      "running StochasticMonotone20LackPlanner with seed 1..\n",
      "running StochasticMonotone20LackPlanner with seed 2..\n",
      "running StochasticMonotone20LackPlanner with seed 3..\n",
      "running StochasticMonotone20LackPlanner with seed 4..\n"
     ]
    },
    {
     "name": "stderr",
     "output_type": "stream",
     "text": [
      " 45%|████▌     | 5/11 [01:54<03:18, 33.16s/it]"
     ]
    },
    {
     "name": "stdout",
     "output_type": "stream",
     "text": [
      "*** *** v=500 *** ***\n",
      "running StochasticMonotone20LackPlanner with seed 0..\n",
      "running StochasticMonotone20LackPlanner with seed 1..\n",
      "running StochasticMonotone20LackPlanner with seed 2..\n",
      "running StochasticMonotone20LackPlanner with seed 3..\n",
      "running StochasticMonotone20LackPlanner with seed 4..\n"
     ]
    },
    {
     "name": "stderr",
     "output_type": "stream",
     "text": [
      " 55%|█████▍    | 6/11 [03:23<04:21, 52.20s/it]"
     ]
    },
    {
     "name": "stdout",
     "output_type": "stream",
     "text": [
      "*** *** v=600 *** ***\n",
      "running StochasticMonotone20LackPlanner with seed 0..\n",
      "running StochasticMonotone20LackPlanner with seed 1..\n",
      "running StochasticMonotone20LackPlanner with seed 2..\n",
      "running StochasticMonotone20LackPlanner with seed 3..\n",
      "running StochasticMonotone20LackPlanner with seed 4..\n"
     ]
    },
    {
     "name": "stderr",
     "output_type": "stream",
     "text": [
      " 64%|██████▎   | 7/11 [05:32<05:09, 77.31s/it]"
     ]
    },
    {
     "name": "stdout",
     "output_type": "stream",
     "text": [
      "*** *** v=700 *** ***\n",
      "running StochasticMonotone20LackPlanner with seed 0..\n",
      "running StochasticMonotone20LackPlanner with seed 1..\n",
      "running StochasticMonotone20LackPlanner with seed 2..\n",
      "running StochasticMonotone20LackPlanner with seed 3..\n",
      "running StochasticMonotone20LackPlanner with seed 4..\n"
     ]
    },
    {
     "name": "stderr",
     "output_type": "stream",
     "text": [
      " 73%|███████▎  | 8/11 [08:25<05:23, 107.91s/it]"
     ]
    },
    {
     "name": "stdout",
     "output_type": "stream",
     "text": [
      "*** *** v=800 *** ***\n",
      "running StochasticMonotone20LackPlanner with seed 0..\n",
      "running StochasticMonotone20LackPlanner with seed 1..\n",
      "running StochasticMonotone20LackPlanner with seed 2..\n",
      "running StochasticMonotone20LackPlanner with seed 3..\n",
      "running StochasticMonotone20LackPlanner with seed 4..\n"
     ]
    },
    {
     "name": "stderr",
     "output_type": "stream",
     "text": [
      " 82%|████████▏ | 9/11 [12:10<04:48, 144.46s/it]"
     ]
    },
    {
     "name": "stdout",
     "output_type": "stream",
     "text": [
      "*** *** v=900 *** ***\n",
      "running StochasticMonotone20LackPlanner with seed 0..\n",
      "running StochasticMonotone20LackPlanner with seed 1..\n",
      "running StochasticMonotone20LackPlanner with seed 2..\n",
      "running StochasticMonotone20LackPlanner with seed 3..\n",
      "running StochasticMonotone20LackPlanner with seed 4..\n"
     ]
    },
    {
     "name": "stderr",
     "output_type": "stream",
     "text": [
      " 91%|█████████ | 10/11 [16:46<03:05, 185.15s/it]"
     ]
    },
    {
     "name": "stdout",
     "output_type": "stream",
     "text": [
      "*** *** v=1000 *** ***\n",
      "running StochasticMonotone20LackPlanner with seed 0..\n",
      "running StochasticMonotone20LackPlanner with seed 1..\n",
      "running StochasticMonotone20LackPlanner with seed 2..\n",
      "running StochasticMonotone20LackPlanner with seed 3..\n",
      "running StochasticMonotone20LackPlanner with seed 4..\n"
     ]
    },
    {
     "name": "stderr",
     "output_type": "stream",
     "text": [
      "100%|██████████| 11/11 [22:27<00:00, 122.47s/it]\n",
      "  0%|          | 0/11 [00:00<?, ?it/s]"
     ]
    },
    {
     "name": "stdout",
     "output_type": "stream",
     "text": [
      "*** *** v=50 *** ***\n",
      "running StochasticMonotone15LackPlanner with seed 0..\n",
      "running StochasticMonotone15LackPlanner with seed 1..\n",
      "running StochasticMonotone15LackPlanner with seed 2..\n",
      "running StochasticMonotone15LackPlanner with seed 3..\n"
     ]
    },
    {
     "name": "stderr",
     "output_type": "stream",
     "text": [
      "  9%|▉         | 1/11 [00:01<00:12,  1.28s/it]"
     ]
    },
    {
     "name": "stdout",
     "output_type": "stream",
     "text": [
      "running StochasticMonotone15LackPlanner with seed 4..\n",
      "*** *** v=100 *** ***\n",
      "running StochasticMonotone15LackPlanner with seed 0..\n",
      "running StochasticMonotone15LackPlanner with seed 1..\n",
      "running StochasticMonotone15LackPlanner with seed 2..\n",
      "running StochasticMonotone15LackPlanner with seed 3..\n",
      "running StochasticMonotone15LackPlanner with seed 4..\n"
     ]
    },
    {
     "name": "stderr",
     "output_type": "stream",
     "text": [
      " 18%|█▊        | 2/11 [00:04<00:24,  2.68s/it]"
     ]
    },
    {
     "name": "stdout",
     "output_type": "stream",
     "text": [
      "*** *** v=200 *** ***\n",
      "running StochasticMonotone15LackPlanner with seed 0..\n",
      "running StochasticMonotone15LackPlanner with seed 1..\n",
      "running StochasticMonotone15LackPlanner with seed 2..\n",
      "running StochasticMonotone15LackPlanner with seed 3..\n",
      "running StochasticMonotone15LackPlanner with seed 4..\n"
     ]
    },
    {
     "name": "stderr",
     "output_type": "stream",
     "text": [
      " 27%|██▋       | 3/11 [00:18<00:59,  7.49s/it]"
     ]
    },
    {
     "name": "stdout",
     "output_type": "stream",
     "text": [
      "*** *** v=300 *** ***\n",
      "running StochasticMonotone15LackPlanner with seed 0..\n",
      "running StochasticMonotone15LackPlanner with seed 1..\n",
      "running StochasticMonotone15LackPlanner with seed 2..\n",
      "running StochasticMonotone15LackPlanner with seed 3..\n",
      "running StochasticMonotone15LackPlanner with seed 4..\n"
     ]
    },
    {
     "name": "stderr",
     "output_type": "stream",
     "text": [
      " 36%|███▋      | 4/11 [00:46<01:49, 15.61s/it]"
     ]
    },
    {
     "name": "stdout",
     "output_type": "stream",
     "text": [
      "*** *** v=400 *** ***\n",
      "running StochasticMonotone15LackPlanner with seed 0..\n",
      "running StochasticMonotone15LackPlanner with seed 1..\n",
      "running StochasticMonotone15LackPlanner with seed 2..\n",
      "running StochasticMonotone15LackPlanner with seed 3..\n",
      "running StochasticMonotone15LackPlanner with seed 4..\n"
     ]
    },
    {
     "name": "stderr",
     "output_type": "stream",
     "text": [
      " 45%|████▌     | 5/11 [01:35<02:46, 27.74s/it]"
     ]
    },
    {
     "name": "stdout",
     "output_type": "stream",
     "text": [
      "*** *** v=500 *** ***\n",
      "running StochasticMonotone15LackPlanner with seed 0..\n",
      "running StochasticMonotone15LackPlanner with seed 1..\n",
      "running StochasticMonotone15LackPlanner with seed 2..\n",
      "running StochasticMonotone15LackPlanner with seed 3..\n",
      "running StochasticMonotone15LackPlanner with seed 4..\n"
     ]
    },
    {
     "name": "stderr",
     "output_type": "stream",
     "text": [
      " 55%|█████▍    | 6/11 [02:48<03:36, 43.30s/it]"
     ]
    },
    {
     "name": "stdout",
     "output_type": "stream",
     "text": [
      "*** *** v=600 *** ***\n",
      "running StochasticMonotone15LackPlanner with seed 0..\n",
      "running StochasticMonotone15LackPlanner with seed 1..\n",
      "running StochasticMonotone15LackPlanner with seed 2..\n",
      "running StochasticMonotone15LackPlanner with seed 3..\n",
      "running StochasticMonotone15LackPlanner with seed 4..\n"
     ]
    },
    {
     "name": "stderr",
     "output_type": "stream",
     "text": [
      " 64%|██████▎   | 7/11 [04:37<04:18, 64.63s/it]"
     ]
    },
    {
     "name": "stdout",
     "output_type": "stream",
     "text": [
      "*** *** v=700 *** ***\n",
      "running StochasticMonotone15LackPlanner with seed 0..\n",
      "running StochasticMonotone15LackPlanner with seed 1..\n",
      "running StochasticMonotone15LackPlanner with seed 2..\n",
      "running StochasticMonotone15LackPlanner with seed 3..\n",
      "running StochasticMonotone15LackPlanner with seed 4..\n"
     ]
    },
    {
     "name": "stderr",
     "output_type": "stream",
     "text": [
      " 73%|███████▎  | 8/11 [07:00<04:28, 89.60s/it]"
     ]
    },
    {
     "name": "stdout",
     "output_type": "stream",
     "text": [
      "*** *** v=800 *** ***\n",
      "running StochasticMonotone15LackPlanner with seed 0..\n",
      "running StochasticMonotone15LackPlanner with seed 1..\n",
      "running StochasticMonotone15LackPlanner with seed 2..\n",
      "running StochasticMonotone15LackPlanner with seed 3..\n",
      "running StochasticMonotone15LackPlanner with seed 4..\n"
     ]
    },
    {
     "name": "stderr",
     "output_type": "stream",
     "text": [
      " 82%|████████▏ | 9/11 [10:05<03:58, 119.38s/it]"
     ]
    },
    {
     "name": "stdout",
     "output_type": "stream",
     "text": [
      "*** *** v=900 *** ***\n",
      "running StochasticMonotone15LackPlanner with seed 0..\n",
      "running StochasticMonotone15LackPlanner with seed 1..\n",
      "running StochasticMonotone15LackPlanner with seed 2..\n",
      "running StochasticMonotone15LackPlanner with seed 3..\n",
      "running StochasticMonotone15LackPlanner with seed 4..\n"
     ]
    },
    {
     "name": "stderr",
     "output_type": "stream",
     "text": [
      " 91%|█████████ | 10/11 [14:00<02:35, 155.06s/it]"
     ]
    },
    {
     "name": "stdout",
     "output_type": "stream",
     "text": [
      "*** *** v=1000 *** ***\n",
      "running StochasticMonotone15LackPlanner with seed 0..\n",
      "running StochasticMonotone15LackPlanner with seed 1..\n",
      "running StochasticMonotone15LackPlanner with seed 2..\n",
      "running StochasticMonotone15LackPlanner with seed 3..\n",
      "running StochasticMonotone15LackPlanner with seed 4..\n"
     ]
    },
    {
     "name": "stderr",
     "output_type": "stream",
     "text": [
      "100%|██████████| 11/11 [18:40<00:00, 101.85s/it]\n"
     ]
    }
   ],
   "source": [
    "planners = [StochasticMonotoneLackPlanner()] #, StochasticStaticLackPlanner(), StochasticAdditiveLackPlanner()]\n",
    "\n",
    "for planner in planners:\n",
    "    for alpha in [math.pi / 4, math.pi / 6, math.pi / 9, math.pi / 12]:\n",
    "        planner.alpha = alpha\n",
    "        for v in tqdm([50, 100, 200, 300, 400, 500, 600, 700, 800, 900, 1000]):\n",
    "            print(f'*** *** v={v} *** ***')\n",
    "            for s in range(5):\n",
    "                seed(s)\n",
    "\n",
    "                config['num_agents'] = v\n",
    "                print(f'running {str(planner)} with seed {s}..')\n",
    "                run(planner, 'agents_results.csv')"
   ],
   "metadata": {
    "collapsed": false,
    "pycharm": {
     "name": "#%%\n"
    }
   }
  },
  {
   "cell_type": "code",
   "execution_count": 100,
   "outputs": [
    {
     "name": "stderr",
     "output_type": "stream",
     "text": [
      "  0%|          | 0/15 [00:00<?, ?it/s]"
     ]
    },
    {
     "name": "stdout",
     "output_type": "stream",
     "text": [
      "*** *** v=1.1 *** ***\n",
      "running StochasticMonotone60LackPlanner with seed 0..\n",
      "running StochasticMonotone60LackPlanner with seed 1..\n",
      "running StochasticMonotone60LackPlanner with seed 2..\n",
      "running StochasticMonotone60LackPlanner with seed 3..\n",
      "running StochasticMonotone60LackPlanner with seed 4..\n",
      "*** *** v=1.2 *** ***\n",
      "running StochasticMonotone60LackPlanner with seed 0..\n",
      "running StochasticMonotone60LackPlanner with seed 1..\n",
      "running StochasticMonotone60LackPlanner with seed 2..\n",
      "running StochasticMonotone60LackPlanner with seed 3..\n",
      "running StochasticMonotone60LackPlanner with seed 4..\n",
      "*** *** v=1.3 *** ***\n",
      "running StochasticMonotone60LackPlanner with seed 0..\n",
      "running StochasticMonotone60LackPlanner with seed 1..\n",
      "running StochasticMonotone60LackPlanner with seed 2..\n",
      "running StochasticMonotone60LackPlanner with seed 3..\n",
      "running StochasticMonotone60LackPlanner with seed 4..\n",
      "*** *** v=1.4 *** ***\n",
      "running StochasticMonotone60LackPlanner with seed 0..\n",
      "running StochasticMonotone60LackPlanner with seed 1..\n",
      "running StochasticMonotone60LackPlanner with seed 2..\n",
      "running StochasticMonotone60LackPlanner with seed 3..\n",
      "running StochasticMonotone60LackPlanner with seed 4..\n",
      "*** *** v=1.5 *** ***\n",
      "running StochasticMonotone60LackPlanner with seed 0..\n",
      "running StochasticMonotone60LackPlanner with seed 1..\n",
      "running StochasticMonotone60LackPlanner with seed 2..\n",
      "running StochasticMonotone60LackPlanner with seed 3..\n",
      "running StochasticMonotone60LackPlanner with seed 4..\n",
      "*** *** v=1.6 *** ***\n",
      "running StochasticMonotone60LackPlanner with seed 0..\n",
      "running StochasticMonotone60LackPlanner with seed 1..\n",
      "running StochasticMonotone60LackPlanner with seed 2..\n",
      "running StochasticMonotone60LackPlanner with seed 3..\n",
      "running StochasticMonotone60LackPlanner with seed 4..\n",
      "*** *** v=1.7 *** ***\n",
      "running StochasticMonotone60LackPlanner with seed 0..\n",
      "running StochasticMonotone60LackPlanner with seed 1..\n",
      "running StochasticMonotone60LackPlanner with seed 2..\n",
      "running StochasticMonotone60LackPlanner with seed 3..\n",
      "running StochasticMonotone60LackPlanner with seed 4..\n",
      "*** *** v=1.8 *** ***\n",
      "running StochasticMonotone60LackPlanner with seed 0..\n",
      "running StochasticMonotone60LackPlanner with seed 1..\n",
      "running StochasticMonotone60LackPlanner with seed 2..\n",
      "running StochasticMonotone60LackPlanner with seed 3..\n",
      "running StochasticMonotone60LackPlanner with seed 4..\n",
      "*** *** v=1.9 *** ***\n",
      "running StochasticMonotone60LackPlanner with seed 0..\n",
      "running StochasticMonotone60LackPlanner with seed 1..\n",
      "running StochasticMonotone60LackPlanner with seed 2..\n",
      "running StochasticMonotone60LackPlanner with seed 3..\n",
      "running StochasticMonotone60LackPlanner with seed 4..\n",
      "*** *** v=2 *** ***\n",
      "running StochasticMonotone60LackPlanner with seed 0..\n",
      "running StochasticMonotone60LackPlanner with seed 1..\n",
      "running StochasticMonotone60LackPlanner with seed 2..\n",
      "running StochasticMonotone60LackPlanner with seed 3..\n",
      "running StochasticMonotone60LackPlanner with seed 4..\n"
     ]
    },
    {
     "name": "stderr",
     "output_type": "stream",
     "text": [
      " 67%|██████▋   | 10/15 [01:02<00:31,  6.24s/it]"
     ]
    },
    {
     "name": "stdout",
     "output_type": "stream",
     "text": [
      "*** *** v=2.1 *** ***\n",
      "running StochasticMonotone60LackPlanner with seed 0..\n",
      "running StochasticMonotone60LackPlanner with seed 1..\n",
      "running StochasticMonotone60LackPlanner with seed 2..\n",
      "running StochasticMonotone60LackPlanner with seed 3..\n",
      "running StochasticMonotone60LackPlanner with seed 4..\n"
     ]
    },
    {
     "name": "stderr",
     "output_type": "stream",
     "text": [
      " 73%|███████▎  | 11/15 [02:06<00:53, 13.50s/it]"
     ]
    },
    {
     "name": "stdout",
     "output_type": "stream",
     "text": [
      "*** *** v=2.2 *** ***\n",
      "running StochasticMonotone60LackPlanner with seed 0..\n",
      "running StochasticMonotone60LackPlanner with seed 1..\n",
      "running StochasticMonotone60LackPlanner with seed 2..\n",
      "running StochasticMonotone60LackPlanner with seed 3..\n",
      "running StochasticMonotone60LackPlanner with seed 4..\n"
     ]
    },
    {
     "name": "stderr",
     "output_type": "stream",
     "text": [
      " 80%|████████  | 12/15 [03:10<01:03, 21.16s/it]"
     ]
    },
    {
     "name": "stdout",
     "output_type": "stream",
     "text": [
      "*** *** v=2.3 *** ***\n",
      "running StochasticMonotone60LackPlanner with seed 0..\n",
      "running StochasticMonotone60LackPlanner with seed 1..\n",
      "running StochasticMonotone60LackPlanner with seed 2..\n",
      "running StochasticMonotone60LackPlanner with seed 3..\n",
      "running StochasticMonotone60LackPlanner with seed 4..\n"
     ]
    },
    {
     "name": "stderr",
     "output_type": "stream",
     "text": [
      " 87%|████████▋ | 13/15 [04:14<00:57, 28.69s/it]"
     ]
    },
    {
     "name": "stdout",
     "output_type": "stream",
     "text": [
      "*** *** v=2.4 *** ***\n",
      "running StochasticMonotone60LackPlanner with seed 0..\n",
      "running StochasticMonotone60LackPlanner with seed 1..\n",
      "running StochasticMonotone60LackPlanner with seed 2..\n",
      "running StochasticMonotone60LackPlanner with seed 3..\n",
      "running StochasticMonotone60LackPlanner with seed 4..\n"
     ]
    },
    {
     "name": "stderr",
     "output_type": "stream",
     "text": [
      " 93%|█████████▎| 14/15 [05:16<00:35, 35.47s/it]"
     ]
    },
    {
     "name": "stdout",
     "output_type": "stream",
     "text": [
      "*** *** v=2.5 *** ***\n",
      "running StochasticMonotone60LackPlanner with seed 0..\n",
      "running StochasticMonotone60LackPlanner with seed 1..\n",
      "running StochasticMonotone60LackPlanner with seed 2..\n",
      "running StochasticMonotone60LackPlanner with seed 3..\n",
      "running StochasticMonotone60LackPlanner with seed 4..\n"
     ]
    },
    {
     "name": "stderr",
     "output_type": "stream",
     "text": [
      "100%|██████████| 15/15 [06:19<00:00, 25.27s/it]\n",
      "  0%|          | 0/15 [00:00<?, ?it/s]"
     ]
    },
    {
     "name": "stdout",
     "output_type": "stream",
     "text": [
      "*** *** v=1.1 *** ***\n",
      "running StochasticMonotone45LackPlanner with seed 0..\n",
      "running StochasticMonotone45LackPlanner with seed 1..\n",
      "running StochasticMonotone45LackPlanner with seed 2..\n",
      "running StochasticMonotone45LackPlanner with seed 3..\n",
      "running StochasticMonotone45LackPlanner with seed 4..\n",
      "*** *** v=1.2 *** ***\n",
      "running StochasticMonotone45LackPlanner with seed 0..\n",
      "running StochasticMonotone45LackPlanner with seed 1..\n",
      "running StochasticMonotone45LackPlanner with seed 2..\n",
      "running StochasticMonotone45LackPlanner with seed 3..\n",
      "running StochasticMonotone45LackPlanner with seed 4..\n",
      "*** *** v=1.3 *** ***\n",
      "running StochasticMonotone45LackPlanner with seed 0..\n",
      "running StochasticMonotone45LackPlanner with seed 1..\n",
      "running StochasticMonotone45LackPlanner with seed 2..\n",
      "running StochasticMonotone45LackPlanner with seed 3..\n",
      "running StochasticMonotone45LackPlanner with seed 4..\n",
      "*** *** v=1.4 *** ***\n",
      "running StochasticMonotone45LackPlanner with seed 0..\n",
      "running StochasticMonotone45LackPlanner with seed 1..\n",
      "running StochasticMonotone45LackPlanner with seed 2..\n",
      "running StochasticMonotone45LackPlanner with seed 3..\n",
      "running StochasticMonotone45LackPlanner with seed 4..\n",
      "*** *** v=1.5 *** ***\n",
      "running StochasticMonotone45LackPlanner with seed 0..\n",
      "running StochasticMonotone45LackPlanner with seed 1..\n",
      "running StochasticMonotone45LackPlanner with seed 2..\n",
      "running StochasticMonotone45LackPlanner with seed 3..\n",
      "running StochasticMonotone45LackPlanner with seed 4..\n"
     ]
    },
    {
     "name": "stderr",
     "output_type": "stream",
     "text": [
      " 33%|███▎      | 5/15 [01:03<02:06, 12.66s/it]"
     ]
    },
    {
     "name": "stdout",
     "output_type": "stream",
     "text": [
      "*** *** v=1.6 *** ***\n",
      "running StochasticMonotone45LackPlanner with seed 0..\n",
      "running StochasticMonotone45LackPlanner with seed 1..\n",
      "running StochasticMonotone45LackPlanner with seed 2..\n",
      "running StochasticMonotone45LackPlanner with seed 3..\n",
      "running StochasticMonotone45LackPlanner with seed 4..\n"
     ]
    },
    {
     "name": "stderr",
     "output_type": "stream",
     "text": [
      " 40%|████      | 6/15 [02:05<03:33, 23.72s/it]"
     ]
    },
    {
     "name": "stdout",
     "output_type": "stream",
     "text": [
      "*** *** v=1.7 *** ***\n",
      "running StochasticMonotone45LackPlanner with seed 0..\n",
      "running StochasticMonotone45LackPlanner with seed 1..\n",
      "running StochasticMonotone45LackPlanner with seed 2..\n",
      "running StochasticMonotone45LackPlanner with seed 3..\n",
      "running StochasticMonotone45LackPlanner with seed 4..\n"
     ]
    },
    {
     "name": "stderr",
     "output_type": "stream",
     "text": [
      " 47%|████▋     | 7/15 [03:05<04:20, 32.52s/it]"
     ]
    },
    {
     "name": "stdout",
     "output_type": "stream",
     "text": [
      "*** *** v=1.8 *** ***\n",
      "running StochasticMonotone45LackPlanner with seed 0..\n",
      "running StochasticMonotone45LackPlanner with seed 1..\n",
      "running StochasticMonotone45LackPlanner with seed 2..\n",
      "running StochasticMonotone45LackPlanner with seed 3..\n",
      "running StochasticMonotone45LackPlanner with seed 4..\n"
     ]
    },
    {
     "name": "stderr",
     "output_type": "stream",
     "text": [
      " 53%|█████▎    | 8/15 [04:05<04:36, 39.47s/it]"
     ]
    },
    {
     "name": "stdout",
     "output_type": "stream",
     "text": [
      "*** *** v=1.9 *** ***\n",
      "running StochasticMonotone45LackPlanner with seed 0..\n",
      "running StochasticMonotone45LackPlanner with seed 1..\n",
      "running StochasticMonotone45LackPlanner with seed 2..\n",
      "running StochasticMonotone45LackPlanner with seed 3..\n",
      "running StochasticMonotone45LackPlanner with seed 4..\n"
     ]
    },
    {
     "name": "stderr",
     "output_type": "stream",
     "text": [
      " 60%|██████    | 9/15 [05:04<04:28, 44.73s/it]"
     ]
    },
    {
     "name": "stdout",
     "output_type": "stream",
     "text": [
      "*** *** v=2 *** ***\n",
      "running StochasticMonotone45LackPlanner with seed 0..\n",
      "running StochasticMonotone45LackPlanner with seed 1..\n",
      "running StochasticMonotone45LackPlanner with seed 2..\n",
      "running StochasticMonotone45LackPlanner with seed 3..\n",
      "running StochasticMonotone45LackPlanner with seed 4..\n"
     ]
    },
    {
     "name": "stderr",
     "output_type": "stream",
     "text": [
      " 67%|██████▋   | 10/15 [06:01<04:00, 48.14s/it]"
     ]
    },
    {
     "name": "stdout",
     "output_type": "stream",
     "text": [
      "*** *** v=2.1 *** ***\n",
      "running StochasticMonotone45LackPlanner with seed 0..\n",
      "running StochasticMonotone45LackPlanner with seed 1..\n",
      "running StochasticMonotone45LackPlanner with seed 2..\n",
      "running StochasticMonotone45LackPlanner with seed 3..\n",
      "running StochasticMonotone45LackPlanner with seed 4..\n"
     ]
    },
    {
     "name": "stderr",
     "output_type": "stream",
     "text": [
      " 73%|███████▎  | 11/15 [06:56<03:20, 50.10s/it]"
     ]
    },
    {
     "name": "stdout",
     "output_type": "stream",
     "text": [
      "*** *** v=2.2 *** ***\n",
      "running StochasticMonotone45LackPlanner with seed 0..\n",
      "running StochasticMonotone45LackPlanner with seed 1..\n",
      "running StochasticMonotone45LackPlanner with seed 2..\n",
      "running StochasticMonotone45LackPlanner with seed 3..\n",
      "running StochasticMonotone45LackPlanner with seed 4..\n"
     ]
    },
    {
     "name": "stderr",
     "output_type": "stream",
     "text": [
      " 80%|████████  | 12/15 [07:51<02:34, 51.41s/it]"
     ]
    },
    {
     "name": "stdout",
     "output_type": "stream",
     "text": [
      "*** *** v=2.3 *** ***\n",
      "running StochasticMonotone45LackPlanner with seed 0..\n",
      "running StochasticMonotone45LackPlanner with seed 1..\n",
      "running StochasticMonotone45LackPlanner with seed 2..\n",
      "running StochasticMonotone45LackPlanner with seed 3..\n",
      "running StochasticMonotone45LackPlanner with seed 4..\n"
     ]
    },
    {
     "name": "stderr",
     "output_type": "stream",
     "text": [
      " 87%|████████▋ | 13/15 [08:45<01:44, 52.30s/it]"
     ]
    },
    {
     "name": "stdout",
     "output_type": "stream",
     "text": [
      "*** *** v=2.4 *** ***\n",
      "running StochasticMonotone45LackPlanner with seed 0..\n",
      "running StochasticMonotone45LackPlanner with seed 1..\n",
      "running StochasticMonotone45LackPlanner with seed 2..\n",
      "running StochasticMonotone45LackPlanner with seed 3..\n",
      "running StochasticMonotone45LackPlanner with seed 4..\n"
     ]
    },
    {
     "name": "stderr",
     "output_type": "stream",
     "text": [
      " 93%|█████████▎| 14/15 [09:40<00:52, 52.84s/it]"
     ]
    },
    {
     "name": "stdout",
     "output_type": "stream",
     "text": [
      "*** *** v=2.5 *** ***\n",
      "running StochasticMonotone45LackPlanner with seed 0..\n",
      "running StochasticMonotone45LackPlanner with seed 1..\n",
      "running StochasticMonotone45LackPlanner with seed 2..\n",
      "running StochasticMonotone45LackPlanner with seed 3..\n",
      "running StochasticMonotone45LackPlanner with seed 4..\n"
     ]
    },
    {
     "name": "stderr",
     "output_type": "stream",
     "text": [
      "100%|██████████| 15/15 [10:33<00:00, 42.22s/it]\n",
      "  0%|          | 0/15 [00:00<?, ?it/s]"
     ]
    },
    {
     "name": "stdout",
     "output_type": "stream",
     "text": [
      "*** *** v=1.1 *** ***\n",
      "running StochasticMonotone30LackPlanner with seed 0..\n",
      "running StochasticMonotone30LackPlanner with seed 1..\n",
      "running StochasticMonotone30LackPlanner with seed 2..\n",
      "running StochasticMonotone30LackPlanner with seed 3..\n",
      "running StochasticMonotone30LackPlanner with seed 4..\n",
      "*** *** v=1.2 *** ***\n",
      "running StochasticMonotone30LackPlanner with seed 0..\n",
      "running StochasticMonotone30LackPlanner with seed 1..\n",
      "running StochasticMonotone30LackPlanner with seed 2..\n",
      "running StochasticMonotone30LackPlanner with seed 3..\n",
      "running StochasticMonotone30LackPlanner with seed 4..\n"
     ]
    },
    {
     "name": "stderr",
     "output_type": "stream",
     "text": [
      " 13%|█▎        | 2/15 [01:03<06:55, 31.99s/it]"
     ]
    },
    {
     "name": "stdout",
     "output_type": "stream",
     "text": [
      "*** *** v=1.3 *** ***\n",
      "running StochasticMonotone30LackPlanner with seed 0..\n",
      "running StochasticMonotone30LackPlanner with seed 1..\n",
      "running StochasticMonotone30LackPlanner with seed 2..\n",
      "running StochasticMonotone30LackPlanner with seed 3..\n",
      "running StochasticMonotone30LackPlanner with seed 4..\n"
     ]
    },
    {
     "name": "stderr",
     "output_type": "stream",
     "text": [
      " 20%|██        | 3/15 [02:03<08:41, 43.49s/it]"
     ]
    },
    {
     "name": "stdout",
     "output_type": "stream",
     "text": [
      "*** *** v=1.4 *** ***\n",
      "running StochasticMonotone30LackPlanner with seed 0..\n",
      "running StochasticMonotone30LackPlanner with seed 1..\n",
      "running StochasticMonotone30LackPlanner with seed 2..\n",
      "running StochasticMonotone30LackPlanner with seed 3..\n",
      "running StochasticMonotone30LackPlanner with seed 4..\n"
     ]
    },
    {
     "name": "stderr",
     "output_type": "stream",
     "text": [
      " 27%|██▋       | 4/15 [02:59<08:50, 48.27s/it]"
     ]
    },
    {
     "name": "stdout",
     "output_type": "stream",
     "text": [
      "*** *** v=1.5 *** ***\n",
      "running StochasticMonotone30LackPlanner with seed 0..\n",
      "running StochasticMonotone30LackPlanner with seed 1..\n",
      "running StochasticMonotone30LackPlanner with seed 2..\n",
      "running StochasticMonotone30LackPlanner with seed 3..\n",
      "running StochasticMonotone30LackPlanner with seed 4..\n"
     ]
    },
    {
     "name": "stderr",
     "output_type": "stream",
     "text": [
      " 33%|███▎      | 5/15 [03:53<08:21, 50.11s/it]"
     ]
    },
    {
     "name": "stdout",
     "output_type": "stream",
     "text": [
      "*** *** v=1.6 *** ***\n",
      "running StochasticMonotone30LackPlanner with seed 0..\n",
      "running StochasticMonotone30LackPlanner with seed 1..\n",
      "running StochasticMonotone30LackPlanner with seed 2..\n",
      "running StochasticMonotone30LackPlanner with seed 3..\n",
      "running StochasticMonotone30LackPlanner with seed 4..\n"
     ]
    },
    {
     "name": "stderr",
     "output_type": "stream",
     "text": [
      " 40%|████      | 6/15 [04:44<07:35, 50.58s/it]"
     ]
    },
    {
     "name": "stdout",
     "output_type": "stream",
     "text": [
      "*** *** v=1.7 *** ***\n",
      "running StochasticMonotone30LackPlanner with seed 0..\n",
      "running StochasticMonotone30LackPlanner with seed 1..\n",
      "running StochasticMonotone30LackPlanner with seed 2..\n",
      "running StochasticMonotone30LackPlanner with seed 3..\n",
      "running StochasticMonotone30LackPlanner with seed 4..\n"
     ]
    },
    {
     "name": "stderr",
     "output_type": "stream",
     "text": [
      " 47%|████▋     | 7/15 [05:33<06:40, 50.00s/it]"
     ]
    },
    {
     "name": "stdout",
     "output_type": "stream",
     "text": [
      "*** *** v=1.8 *** ***\n",
      "running StochasticMonotone30LackPlanner with seed 0..\n",
      "running StochasticMonotone30LackPlanner with seed 1..\n",
      "running StochasticMonotone30LackPlanner with seed 2..\n",
      "running StochasticMonotone30LackPlanner with seed 3..\n",
      "running StochasticMonotone30LackPlanner with seed 4..\n"
     ]
    },
    {
     "name": "stderr",
     "output_type": "stream",
     "text": [
      " 53%|█████▎    | 8/15 [06:22<05:46, 49.54s/it]"
     ]
    },
    {
     "name": "stdout",
     "output_type": "stream",
     "text": [
      "*** *** v=1.9 *** ***\n",
      "running StochasticMonotone30LackPlanner with seed 0..\n",
      "running StochasticMonotone30LackPlanner with seed 1..\n",
      "running StochasticMonotone30LackPlanner with seed 2..\n",
      "running StochasticMonotone30LackPlanner with seed 3..\n",
      "running StochasticMonotone30LackPlanner with seed 4..\n"
     ]
    },
    {
     "name": "stderr",
     "output_type": "stream",
     "text": [
      " 60%|██████    | 9/15 [07:08<04:50, 48.41s/it]"
     ]
    },
    {
     "name": "stdout",
     "output_type": "stream",
     "text": [
      "*** *** v=2 *** ***\n",
      "running StochasticMonotone30LackPlanner with seed 0..\n",
      "running StochasticMonotone30LackPlanner with seed 1..\n",
      "running StochasticMonotone30LackPlanner with seed 2..\n",
      "running StochasticMonotone30LackPlanner with seed 3..\n",
      "running StochasticMonotone30LackPlanner with seed 4..\n"
     ]
    },
    {
     "name": "stderr",
     "output_type": "stream",
     "text": [
      " 67%|██████▋   | 10/15 [07:52<03:56, 47.28s/it]"
     ]
    },
    {
     "name": "stdout",
     "output_type": "stream",
     "text": [
      "*** *** v=2.1 *** ***\n",
      "running StochasticMonotone30LackPlanner with seed 0..\n",
      "running StochasticMonotone30LackPlanner with seed 1..\n",
      "running StochasticMonotone30LackPlanner with seed 2..\n",
      "running StochasticMonotone30LackPlanner with seed 3..\n",
      "running StochasticMonotone30LackPlanner with seed 4..\n"
     ]
    },
    {
     "name": "stderr",
     "output_type": "stream",
     "text": [
      " 73%|███████▎  | 11/15 [08:35<03:03, 45.96s/it]"
     ]
    },
    {
     "name": "stdout",
     "output_type": "stream",
     "text": [
      "*** *** v=2.2 *** ***\n",
      "running StochasticMonotone30LackPlanner with seed 0..\n",
      "running StochasticMonotone30LackPlanner with seed 1..\n",
      "running StochasticMonotone30LackPlanner with seed 2..\n",
      "running StochasticMonotone30LackPlanner with seed 3..\n",
      "running StochasticMonotone30LackPlanner with seed 4..\n"
     ]
    },
    {
     "name": "stderr",
     "output_type": "stream",
     "text": [
      " 80%|████████  | 12/15 [09:17<02:13, 44.61s/it]"
     ]
    },
    {
     "name": "stdout",
     "output_type": "stream",
     "text": [
      "*** *** v=2.3 *** ***\n",
      "running StochasticMonotone30LackPlanner with seed 0..\n",
      "running StochasticMonotone30LackPlanner with seed 1..\n",
      "running StochasticMonotone30LackPlanner with seed 2..\n",
      "running StochasticMonotone30LackPlanner with seed 3..\n",
      "running StochasticMonotone30LackPlanner with seed 4..\n"
     ]
    },
    {
     "name": "stderr",
     "output_type": "stream",
     "text": [
      " 87%|████████▋ | 13/15 [09:59<01:27, 43.87s/it]"
     ]
    },
    {
     "name": "stdout",
     "output_type": "stream",
     "text": [
      "*** *** v=2.4 *** ***\n",
      "running StochasticMonotone30LackPlanner with seed 0..\n",
      "running StochasticMonotone30LackPlanner with seed 1..\n",
      "running StochasticMonotone30LackPlanner with seed 2..\n",
      "running StochasticMonotone30LackPlanner with seed 3..\n",
      "running StochasticMonotone30LackPlanner with seed 4..\n"
     ]
    },
    {
     "name": "stderr",
     "output_type": "stream",
     "text": [
      " 93%|█████████▎| 14/15 [10:39<00:42, 42.84s/it]"
     ]
    },
    {
     "name": "stdout",
     "output_type": "stream",
     "text": [
      "*** *** v=2.5 *** ***\n",
      "running StochasticMonotone30LackPlanner with seed 0..\n",
      "running StochasticMonotone30LackPlanner with seed 1..\n",
      "running StochasticMonotone30LackPlanner with seed 2..\n",
      "running StochasticMonotone30LackPlanner with seed 3..\n",
      "running StochasticMonotone30LackPlanner with seed 4..\n"
     ]
    },
    {
     "name": "stderr",
     "output_type": "stream",
     "text": [
      "100%|██████████| 15/15 [11:20<00:00, 45.38s/it]\n",
      "  0%|          | 0/15 [00:00<?, ?it/s]"
     ]
    },
    {
     "name": "stdout",
     "output_type": "stream",
     "text": [
      "*** *** v=1.1 *** ***\n",
      "running StochasticMonotone20LackPlanner with seed 0..\n",
      "running StochasticMonotone20LackPlanner with seed 1..\n",
      "running StochasticMonotone20LackPlanner with seed 2..\n",
      "running StochasticMonotone20LackPlanner with seed 3..\n",
      "running StochasticMonotone20LackPlanner with seed 4..\n"
     ]
    },
    {
     "name": "stderr",
     "output_type": "stream",
     "text": [
      "  7%|▋         | 1/15 [01:02<14:32, 62.32s/it]"
     ]
    },
    {
     "name": "stdout",
     "output_type": "stream",
     "text": [
      "*** *** v=1.2 *** ***\n",
      "running StochasticMonotone20LackPlanner with seed 0..\n",
      "running StochasticMonotone20LackPlanner with seed 1..\n",
      "running StochasticMonotone20LackPlanner with seed 2..\n",
      "running StochasticMonotone20LackPlanner with seed 3..\n",
      "running StochasticMonotone20LackPlanner with seed 4..\n"
     ]
    },
    {
     "name": "stderr",
     "output_type": "stream",
     "text": [
      " 13%|█▎        | 2/15 [01:57<12:32, 57.88s/it]"
     ]
    },
    {
     "name": "stdout",
     "output_type": "stream",
     "text": [
      "*** *** v=1.3 *** ***\n",
      "running StochasticMonotone20LackPlanner with seed 0..\n",
      "running StochasticMonotone20LackPlanner with seed 1..\n",
      "running StochasticMonotone20LackPlanner with seed 2..\n",
      "running StochasticMonotone20LackPlanner with seed 3..\n",
      "running StochasticMonotone20LackPlanner with seed 4..\n"
     ]
    },
    {
     "name": "stderr",
     "output_type": "stream",
     "text": [
      " 20%|██        | 3/15 [02:47<10:52, 54.39s/it]"
     ]
    },
    {
     "name": "stdout",
     "output_type": "stream",
     "text": [
      "*** *** v=1.4 *** ***\n",
      "running StochasticMonotone20LackPlanner with seed 0..\n",
      "running StochasticMonotone20LackPlanner with seed 1..\n",
      "running StochasticMonotone20LackPlanner with seed 2..\n",
      "running StochasticMonotone20LackPlanner with seed 3..\n",
      "running StochasticMonotone20LackPlanner with seed 4..\n"
     ]
    },
    {
     "name": "stderr",
     "output_type": "stream",
     "text": [
      " 27%|██▋       | 4/15 [03:34<09:26, 51.46s/it]"
     ]
    },
    {
     "name": "stdout",
     "output_type": "stream",
     "text": [
      "*** *** v=1.5 *** ***\n",
      "running StochasticMonotone20LackPlanner with seed 0..\n",
      "running StochasticMonotone20LackPlanner with seed 1..\n",
      "running StochasticMonotone20LackPlanner with seed 2..\n",
      "running StochasticMonotone20LackPlanner with seed 3..\n",
      "running StochasticMonotone20LackPlanner with seed 4..\n"
     ]
    },
    {
     "name": "stderr",
     "output_type": "stream",
     "text": [
      " 33%|███▎      | 5/15 [04:19<08:12, 49.22s/it]"
     ]
    },
    {
     "name": "stdout",
     "output_type": "stream",
     "text": [
      "*** *** v=1.6 *** ***\n",
      "running StochasticMonotone20LackPlanner with seed 0..\n",
      "running StochasticMonotone20LackPlanner with seed 1..\n",
      "running StochasticMonotone20LackPlanner with seed 2..\n",
      "running StochasticMonotone20LackPlanner with seed 3..\n",
      "running StochasticMonotone20LackPlanner with seed 4..\n"
     ]
    },
    {
     "name": "stderr",
     "output_type": "stream",
     "text": [
      " 40%|████      | 6/15 [04:59<06:55, 46.22s/it]"
     ]
    },
    {
     "name": "stdout",
     "output_type": "stream",
     "text": [
      "*** *** v=1.7 *** ***\n",
      "running StochasticMonotone20LackPlanner with seed 0..\n",
      "running StochasticMonotone20LackPlanner with seed 1..\n",
      "running StochasticMonotone20LackPlanner with seed 2..\n",
      "running StochasticMonotone20LackPlanner with seed 3..\n",
      "running StochasticMonotone20LackPlanner with seed 4..\n"
     ]
    },
    {
     "name": "stderr",
     "output_type": "stream",
     "text": [
      " 47%|████▋     | 7/15 [05:37<05:47, 43.46s/it]"
     ]
    },
    {
     "name": "stdout",
     "output_type": "stream",
     "text": [
      "*** *** v=1.8 *** ***\n",
      "running StochasticMonotone20LackPlanner with seed 0..\n",
      "running StochasticMonotone20LackPlanner with seed 1..\n",
      "running StochasticMonotone20LackPlanner with seed 2..\n",
      "running StochasticMonotone20LackPlanner with seed 3..\n",
      "running StochasticMonotone20LackPlanner with seed 4..\n"
     ]
    },
    {
     "name": "stderr",
     "output_type": "stream",
     "text": [
      " 53%|█████▎    | 8/15 [06:13<04:48, 41.15s/it]"
     ]
    },
    {
     "name": "stdout",
     "output_type": "stream",
     "text": [
      "*** *** v=1.9 *** ***\n",
      "running StochasticMonotone20LackPlanner with seed 0..\n",
      "running StochasticMonotone20LackPlanner with seed 1..\n",
      "running StochasticMonotone20LackPlanner with seed 2..\n",
      "running StochasticMonotone20LackPlanner with seed 3..\n",
      "running StochasticMonotone20LackPlanner with seed 4..\n"
     ]
    },
    {
     "name": "stderr",
     "output_type": "stream",
     "text": [
      " 60%|██████    | 9/15 [06:48<03:54, 39.01s/it]"
     ]
    },
    {
     "name": "stdout",
     "output_type": "stream",
     "text": [
      "*** *** v=2 *** ***\n",
      "running StochasticMonotone20LackPlanner with seed 0..\n",
      "running StochasticMonotone20LackPlanner with seed 1..\n",
      "running StochasticMonotone20LackPlanner with seed 2..\n",
      "running StochasticMonotone20LackPlanner with seed 3..\n",
      "running StochasticMonotone20LackPlanner with seed 4..\n"
     ]
    },
    {
     "name": "stderr",
     "output_type": "stream",
     "text": [
      " 67%|██████▋   | 10/15 [07:21<03:06, 37.23s/it]"
     ]
    },
    {
     "name": "stdout",
     "output_type": "stream",
     "text": [
      "*** *** v=2.1 *** ***\n",
      "running StochasticMonotone20LackPlanner with seed 0..\n",
      "running StochasticMonotone20LackPlanner with seed 1..\n",
      "running StochasticMonotone20LackPlanner with seed 2..\n",
      "running StochasticMonotone20LackPlanner with seed 3..\n",
      "running StochasticMonotone20LackPlanner with seed 4..\n"
     ]
    },
    {
     "name": "stderr",
     "output_type": "stream",
     "text": [
      " 73%|███████▎  | 11/15 [07:54<02:23, 35.92s/it]"
     ]
    },
    {
     "name": "stdout",
     "output_type": "stream",
     "text": [
      "*** *** v=2.2 *** ***\n",
      "running StochasticMonotone20LackPlanner with seed 0..\n",
      "running StochasticMonotone20LackPlanner with seed 1..\n",
      "running StochasticMonotone20LackPlanner with seed 2..\n",
      "running StochasticMonotone20LackPlanner with seed 3..\n",
      "running StochasticMonotone20LackPlanner with seed 4..\n"
     ]
    },
    {
     "name": "stderr",
     "output_type": "stream",
     "text": [
      " 80%|████████  | 12/15 [08:26<01:43, 34.62s/it]"
     ]
    },
    {
     "name": "stdout",
     "output_type": "stream",
     "text": [
      "*** *** v=2.3 *** ***\n",
      "running StochasticMonotone20LackPlanner with seed 0..\n",
      "running StochasticMonotone20LackPlanner with seed 1..\n",
      "running StochasticMonotone20LackPlanner with seed 2..\n",
      "running StochasticMonotone20LackPlanner with seed 3..\n",
      "running StochasticMonotone20LackPlanner with seed 4..\n"
     ]
    },
    {
     "name": "stderr",
     "output_type": "stream",
     "text": [
      " 87%|████████▋ | 13/15 [08:56<01:06, 33.39s/it]"
     ]
    },
    {
     "name": "stdout",
     "output_type": "stream",
     "text": [
      "*** *** v=2.4 *** ***\n",
      "running StochasticMonotone20LackPlanner with seed 0..\n",
      "running StochasticMonotone20LackPlanner with seed 1..\n",
      "running StochasticMonotone20LackPlanner with seed 2..\n",
      "running StochasticMonotone20LackPlanner with seed 3..\n",
      "running StochasticMonotone20LackPlanner with seed 4..\n"
     ]
    },
    {
     "name": "stderr",
     "output_type": "stream",
     "text": [
      " 93%|█████████▎| 14/15 [09:27<00:32, 32.59s/it]"
     ]
    },
    {
     "name": "stdout",
     "output_type": "stream",
     "text": [
      "*** *** v=2.5 *** ***\n",
      "running StochasticMonotone20LackPlanner with seed 0..\n",
      "running StochasticMonotone20LackPlanner with seed 1..\n",
      "running StochasticMonotone20LackPlanner with seed 2..\n",
      "running StochasticMonotone20LackPlanner with seed 3..\n",
      "running StochasticMonotone20LackPlanner with seed 4..\n"
     ]
    },
    {
     "name": "stderr",
     "output_type": "stream",
     "text": [
      "100%|██████████| 15/15 [09:56<00:00, 39.79s/it]\n",
      "  0%|          | 0/15 [00:00<?, ?it/s]"
     ]
    },
    {
     "name": "stdout",
     "output_type": "stream",
     "text": [
      "*** *** v=1.1 *** ***\n",
      "running StochasticMonotone15LackPlanner with seed 0..\n",
      "running StochasticMonotone15LackPlanner with seed 1..\n",
      "running StochasticMonotone15LackPlanner with seed 2..\n",
      "running StochasticMonotone15LackPlanner with seed 3..\n",
      "running StochasticMonotone15LackPlanner with seed 4..\n"
     ]
    },
    {
     "name": "stderr",
     "output_type": "stream",
     "text": [
      "  7%|▋         | 1/15 [00:58<13:39, 58.54s/it]"
     ]
    },
    {
     "name": "stdout",
     "output_type": "stream",
     "text": [
      "*** *** v=1.2 *** ***\n",
      "running StochasticMonotone15LackPlanner with seed 0..\n",
      "running StochasticMonotone15LackPlanner with seed 1..\n",
      "running StochasticMonotone15LackPlanner with seed 2..\n",
      "running StochasticMonotone15LackPlanner with seed 3..\n",
      "running StochasticMonotone15LackPlanner with seed 4..\n"
     ]
    },
    {
     "name": "stderr",
     "output_type": "stream",
     "text": [
      " 13%|█▎        | 2/15 [01:48<11:35, 53.48s/it]"
     ]
    },
    {
     "name": "stdout",
     "output_type": "stream",
     "text": [
      "*** *** v=1.3 *** ***\n",
      "running StochasticMonotone15LackPlanner with seed 0..\n",
      "running StochasticMonotone15LackPlanner with seed 1..\n",
      "running StochasticMonotone15LackPlanner with seed 2..\n",
      "running StochasticMonotone15LackPlanner with seed 3..\n",
      "running StochasticMonotone15LackPlanner with seed 4..\n"
     ]
    },
    {
     "name": "stderr",
     "output_type": "stream",
     "text": [
      " 20%|██        | 3/15 [02:32<09:47, 48.95s/it]"
     ]
    },
    {
     "name": "stdout",
     "output_type": "stream",
     "text": [
      "*** *** v=1.4 *** ***\n",
      "running StochasticMonotone15LackPlanner with seed 0..\n",
      "running StochasticMonotone15LackPlanner with seed 1..\n",
      "running StochasticMonotone15LackPlanner with seed 2..\n",
      "running StochasticMonotone15LackPlanner with seed 3..\n",
      "running StochasticMonotone15LackPlanner with seed 4..\n"
     ]
    },
    {
     "name": "stderr",
     "output_type": "stream",
     "text": [
      " 27%|██▋       | 4/15 [03:10<08:14, 44.92s/it]"
     ]
    },
    {
     "name": "stdout",
     "output_type": "stream",
     "text": [
      "*** *** v=1.5 *** ***\n",
      "running StochasticMonotone15LackPlanner with seed 0..\n",
      "running StochasticMonotone15LackPlanner with seed 1..\n",
      "running StochasticMonotone15LackPlanner with seed 2..\n",
      "running StochasticMonotone15LackPlanner with seed 3..\n",
      "running StochasticMonotone15LackPlanner with seed 4..\n"
     ]
    },
    {
     "name": "stderr",
     "output_type": "stream",
     "text": [
      " 33%|███▎      | 5/15 [03:45<06:52, 41.29s/it]"
     ]
    },
    {
     "name": "stdout",
     "output_type": "stream",
     "text": [
      "*** *** v=1.6 *** ***\n",
      "running StochasticMonotone15LackPlanner with seed 0..\n",
      "running StochasticMonotone15LackPlanner with seed 1..\n",
      "running StochasticMonotone15LackPlanner with seed 2..\n",
      "running StochasticMonotone15LackPlanner with seed 3..\n",
      "running StochasticMonotone15LackPlanner with seed 4..\n"
     ]
    },
    {
     "name": "stderr",
     "output_type": "stream",
     "text": [
      " 40%|████      | 6/15 [04:18<05:46, 38.49s/it]"
     ]
    },
    {
     "name": "stdout",
     "output_type": "stream",
     "text": [
      "*** *** v=1.7 *** ***\n",
      "running StochasticMonotone15LackPlanner with seed 0..\n",
      "running StochasticMonotone15LackPlanner with seed 1..\n",
      "running StochasticMonotone15LackPlanner with seed 2..\n",
      "running StochasticMonotone15LackPlanner with seed 3..\n",
      "running StochasticMonotone15LackPlanner with seed 4..\n"
     ]
    },
    {
     "name": "stderr",
     "output_type": "stream",
     "text": [
      " 47%|████▋     | 7/15 [04:52<04:55, 36.98s/it]"
     ]
    },
    {
     "name": "stdout",
     "output_type": "stream",
     "text": [
      "*** *** v=1.8 *** ***\n",
      "running StochasticMonotone15LackPlanner with seed 0..\n",
      "running StochasticMonotone15LackPlanner with seed 1..\n",
      "running StochasticMonotone15LackPlanner with seed 2..\n",
      "running StochasticMonotone15LackPlanner with seed 3..\n",
      "running StochasticMonotone15LackPlanner with seed 4..\n"
     ]
    },
    {
     "name": "stderr",
     "output_type": "stream",
     "text": [
      " 53%|█████▎    | 8/15 [05:22<04:02, 34.67s/it]"
     ]
    },
    {
     "name": "stdout",
     "output_type": "stream",
     "text": [
      "*** *** v=1.9 *** ***\n",
      "running StochasticMonotone15LackPlanner with seed 0..\n",
      "running StochasticMonotone15LackPlanner with seed 1..\n",
      "running StochasticMonotone15LackPlanner with seed 2..\n",
      "running StochasticMonotone15LackPlanner with seed 3..\n",
      "running StochasticMonotone15LackPlanner with seed 4..\n"
     ]
    },
    {
     "name": "stderr",
     "output_type": "stream",
     "text": [
      " 60%|██████    | 9/15 [05:50<03:16, 32.79s/it]"
     ]
    },
    {
     "name": "stdout",
     "output_type": "stream",
     "text": [
      "*** *** v=2 *** ***\n",
      "running StochasticMonotone15LackPlanner with seed 0..\n",
      "running StochasticMonotone15LackPlanner with seed 1..\n",
      "running StochasticMonotone15LackPlanner with seed 2..\n",
      "running StochasticMonotone15LackPlanner with seed 3..\n",
      "running StochasticMonotone15LackPlanner with seed 4..\n"
     ]
    },
    {
     "name": "stderr",
     "output_type": "stream",
     "text": [
      " 67%|██████▋   | 10/15 [06:18<02:35, 31.16s/it]"
     ]
    },
    {
     "name": "stdout",
     "output_type": "stream",
     "text": [
      "*** *** v=2.1 *** ***\n",
      "running StochasticMonotone15LackPlanner with seed 0..\n",
      "running StochasticMonotone15LackPlanner with seed 1..\n",
      "running StochasticMonotone15LackPlanner with seed 2..\n",
      "running StochasticMonotone15LackPlanner with seed 3..\n",
      "running StochasticMonotone15LackPlanner with seed 4..\n"
     ]
    },
    {
     "name": "stderr",
     "output_type": "stream",
     "text": [
      " 73%|███████▎  | 11/15 [06:45<01:59, 29.93s/it]"
     ]
    },
    {
     "name": "stdout",
     "output_type": "stream",
     "text": [
      "*** *** v=2.2 *** ***\n",
      "running StochasticMonotone15LackPlanner with seed 0..\n",
      "running StochasticMonotone15LackPlanner with seed 1..\n",
      "running StochasticMonotone15LackPlanner with seed 2..\n",
      "running StochasticMonotone15LackPlanner with seed 3..\n",
      "running StochasticMonotone15LackPlanner with seed 4..\n"
     ]
    },
    {
     "name": "stderr",
     "output_type": "stream",
     "text": [
      " 80%|████████  | 12/15 [07:11<01:26, 28.70s/it]"
     ]
    },
    {
     "name": "stdout",
     "output_type": "stream",
     "text": [
      "*** *** v=2.3 *** ***\n",
      "running StochasticMonotone15LackPlanner with seed 0..\n",
      "running StochasticMonotone15LackPlanner with seed 1..\n",
      "running StochasticMonotone15LackPlanner with seed 2..\n",
      "running StochasticMonotone15LackPlanner with seed 3..\n",
      "running StochasticMonotone15LackPlanner with seed 4..\n"
     ]
    },
    {
     "name": "stderr",
     "output_type": "stream",
     "text": [
      " 87%|████████▋ | 13/15 [07:37<00:55, 27.85s/it]"
     ]
    },
    {
     "name": "stdout",
     "output_type": "stream",
     "text": [
      "*** *** v=2.4 *** ***\n",
      "running StochasticMonotone15LackPlanner with seed 0..\n",
      "running StochasticMonotone15LackPlanner with seed 1..\n",
      "running StochasticMonotone15LackPlanner with seed 2..\n",
      "running StochasticMonotone15LackPlanner with seed 3..\n",
      "running StochasticMonotone15LackPlanner with seed 4..\n"
     ]
    },
    {
     "name": "stderr",
     "output_type": "stream",
     "text": [
      " 93%|█████████▎| 14/15 [08:03<00:27, 27.22s/it]"
     ]
    },
    {
     "name": "stdout",
     "output_type": "stream",
     "text": [
      "*** *** v=2.5 *** ***\n",
      "running StochasticMonotone15LackPlanner with seed 0..\n",
      "running StochasticMonotone15LackPlanner with seed 1..\n",
      "running StochasticMonotone15LackPlanner with seed 2..\n",
      "running StochasticMonotone15LackPlanner with seed 3..\n",
      "running StochasticMonotone15LackPlanner with seed 4..\n"
     ]
    },
    {
     "name": "stderr",
     "output_type": "stream",
     "text": [
      "100%|██████████| 15/15 [08:28<00:00, 33.90s/it]\n"
     ]
    }
   ],
   "source": [
    "# planners = [StochasticMonotoneLackPlanner(), StochasticIterativePlanner(), StochasticStaticLackPlanner(),\n",
    "#             StochasticAdditiveLackPlanner()]\n",
    "planners = [StochasticMonotoneLackPlanner()]\n",
    "\n",
    "config['num_agents'] = 300\n",
    "\n",
    "for planner in planners:\n",
    "    for alpha in [math.pi / 3, math.pi / 4, math.pi / 6, math.pi / 9, math.pi / 12]:\n",
    "        planner.alpha = alpha\n",
    "        for v in tqdm([1.1, 1.2, 1.3, 1.4, 1.5, 1.6, 1.7, 1.8, 1.9, 2, 2.1, 2.2, 2.3, 2.4, 2.5]):\n",
    "            print(f'*** *** v={v} *** ***')\n",
    "            for s in range(5):\n",
    "                seed(s)\n",
    "\n",
    "                config['robot_speed'] = v\n",
    "                print(f'running {str(planner)} with seed {s}..')\n",
    "                try:\n",
    "                    run(planner, 'f_results.csv')\n",
    "                except:\n",
    "                    pass"
   ],
   "metadata": {
    "collapsed": false,
    "pycharm": {
     "name": "#%%\n"
    }
   }
  },
  {
   "cell_type": "code",
   "execution_count": 101,
   "outputs": [
    {
     "name": "stderr",
     "output_type": "stream",
     "text": [
      "  0%|          | 0/7 [00:00<?, ?it/s]"
     ]
    },
    {
     "name": "stdout",
     "output_type": "stream",
     "text": [
      "*** *** v=2 *** ***\n",
      "running StochasticMonotone45LackPlanner with seed 0..\n",
      "running StochasticMonotone45LackPlanner with seed 1..\n",
      "running StochasticMonotone45LackPlanner with seed 2..\n",
      "running StochasticMonotone45LackPlanner with seed 3..\n",
      "running StochasticMonotone45LackPlanner with seed 4..\n"
     ]
    },
    {
     "name": "stderr",
     "output_type": "stream",
     "text": [
      " 14%|█▍        | 1/7 [00:50<05:04, 50.71s/it]"
     ]
    },
    {
     "name": "stdout",
     "output_type": "stream",
     "text": [
      "*** *** v=3 *** ***\n",
      "running StochasticMonotone45LackPlanner with seed 0..\n",
      "running StochasticMonotone45LackPlanner with seed 1..\n",
      "running StochasticMonotone45LackPlanner with seed 2..\n",
      "running StochasticMonotone45LackPlanner with seed 3..\n",
      "running StochasticMonotone45LackPlanner with seed 4..\n"
     ]
    },
    {
     "name": "stderr",
     "output_type": "stream",
     "text": [
      " 29%|██▊       | 2/7 [01:41<04:13, 50.77s/it]"
     ]
    },
    {
     "name": "stdout",
     "output_type": "stream",
     "text": [
      "*** *** v=4 *** ***\n",
      "running StochasticMonotone45LackPlanner with seed 0..\n",
      "running StochasticMonotone45LackPlanner with seed 1..\n",
      "running StochasticMonotone45LackPlanner with seed 2..\n",
      "running StochasticMonotone45LackPlanner with seed 3..\n",
      "running StochasticMonotone45LackPlanner with seed 4..\n"
     ]
    },
    {
     "name": "stderr",
     "output_type": "stream",
     "text": [
      " 43%|████▎     | 3/7 [02:32<03:24, 51.08s/it]"
     ]
    },
    {
     "name": "stdout",
     "output_type": "stream",
     "text": [
      "*** *** v=5 *** ***\n",
      "running StochasticMonotone45LackPlanner with seed 0..\n",
      "running StochasticMonotone45LackPlanner with seed 1..\n",
      "running StochasticMonotone45LackPlanner with seed 2..\n",
      "running StochasticMonotone45LackPlanner with seed 3..\n",
      "running StochasticMonotone45LackPlanner with seed 4..\n"
     ]
    },
    {
     "name": "stderr",
     "output_type": "stream",
     "text": [
      " 57%|█████▋    | 4/7 [03:25<02:34, 51.47s/it]"
     ]
    },
    {
     "name": "stdout",
     "output_type": "stream",
     "text": [
      "*** *** v=6 *** ***\n",
      "running StochasticMonotone45LackPlanner with seed 0..\n",
      "running StochasticMonotone45LackPlanner with seed 1..\n",
      "running StochasticMonotone45LackPlanner with seed 2..\n",
      "running StochasticMonotone45LackPlanner with seed 3..\n",
      "running StochasticMonotone45LackPlanner with seed 4..\n"
     ]
    },
    {
     "name": "stderr",
     "output_type": "stream",
     "text": [
      " 71%|███████▏  | 5/7 [04:17<01:43, 51.91s/it]"
     ]
    },
    {
     "name": "stdout",
     "output_type": "stream",
     "text": [
      "*** *** v=7 *** ***\n",
      "running StochasticMonotone45LackPlanner with seed 0..\n",
      "running StochasticMonotone45LackPlanner with seed 1..\n",
      "running StochasticMonotone45LackPlanner with seed 2..\n",
      "running StochasticMonotone45LackPlanner with seed 3..\n",
      "running StochasticMonotone45LackPlanner with seed 4..\n"
     ]
    },
    {
     "name": "stderr",
     "output_type": "stream",
     "text": [
      " 86%|████████▌ | 6/7 [05:10<00:52, 52.37s/it]"
     ]
    },
    {
     "name": "stdout",
     "output_type": "stream",
     "text": [
      "*** *** v=8 *** ***\n",
      "running StochasticMonotone45LackPlanner with seed 0..\n",
      "running StochasticMonotone45LackPlanner with seed 1..\n",
      "running StochasticMonotone45LackPlanner with seed 2..\n",
      "running StochasticMonotone45LackPlanner with seed 3..\n",
      "running StochasticMonotone45LackPlanner with seed 4..\n"
     ]
    },
    {
     "name": "stderr",
     "output_type": "stream",
     "text": [
      "100%|██████████| 7/7 [06:05<00:00, 52.15s/it]\n",
      "  0%|          | 0/7 [00:00<?, ?it/s]"
     ]
    },
    {
     "name": "stdout",
     "output_type": "stream",
     "text": [
      "*** *** v=2 *** ***\n",
      "running StochasticMonotone30LackPlanner with seed 0..\n",
      "running StochasticMonotone30LackPlanner with seed 1..\n",
      "running StochasticMonotone30LackPlanner with seed 2..\n",
      "running StochasticMonotone30LackPlanner with seed 3..\n",
      "running StochasticMonotone30LackPlanner with seed 4..\n"
     ]
    },
    {
     "name": "stderr",
     "output_type": "stream",
     "text": [
      " 14%|█▍        | 1/7 [00:38<03:53, 38.84s/it]"
     ]
    },
    {
     "name": "stdout",
     "output_type": "stream",
     "text": [
      "*** *** v=3 *** ***\n",
      "running StochasticMonotone30LackPlanner with seed 0..\n",
      "running StochasticMonotone30LackPlanner with seed 1..\n",
      "running StochasticMonotone30LackPlanner with seed 2..\n",
      "running StochasticMonotone30LackPlanner with seed 3..\n",
      "running StochasticMonotone30LackPlanner with seed 4..\n"
     ]
    },
    {
     "name": "stderr",
     "output_type": "stream",
     "text": [
      " 29%|██▊       | 2/7 [01:17<03:14, 38.82s/it]"
     ]
    },
    {
     "name": "stdout",
     "output_type": "stream",
     "text": [
      "*** *** v=4 *** ***\n",
      "running StochasticMonotone30LackPlanner with seed 0..\n",
      "running StochasticMonotone30LackPlanner with seed 1..\n",
      "running StochasticMonotone30LackPlanner with seed 2..\n",
      "running StochasticMonotone30LackPlanner with seed 3..\n",
      "running StochasticMonotone30LackPlanner with seed 4..\n"
     ]
    },
    {
     "name": "stderr",
     "output_type": "stream",
     "text": [
      " 43%|████▎     | 3/7 [01:57<02:36, 39.24s/it]"
     ]
    },
    {
     "name": "stdout",
     "output_type": "stream",
     "text": [
      "*** *** v=5 *** ***\n",
      "running StochasticMonotone30LackPlanner with seed 0..\n",
      "running StochasticMonotone30LackPlanner with seed 1..\n",
      "running StochasticMonotone30LackPlanner with seed 2..\n",
      "running StochasticMonotone30LackPlanner with seed 3..\n",
      "running StochasticMonotone30LackPlanner with seed 4..\n"
     ]
    },
    {
     "name": "stderr",
     "output_type": "stream",
     "text": [
      " 57%|█████▋    | 4/7 [02:37<01:58, 39.53s/it]"
     ]
    },
    {
     "name": "stdout",
     "output_type": "stream",
     "text": [
      "*** *** v=6 *** ***\n",
      "running StochasticMonotone30LackPlanner with seed 0..\n",
      "running StochasticMonotone30LackPlanner with seed 1..\n",
      "running StochasticMonotone30LackPlanner with seed 2..\n",
      "running StochasticMonotone30LackPlanner with seed 3..\n",
      "running StochasticMonotone30LackPlanner with seed 4..\n"
     ]
    },
    {
     "name": "stderr",
     "output_type": "stream",
     "text": [
      " 71%|███████▏  | 5/7 [03:17<01:19, 39.84s/it]"
     ]
    },
    {
     "name": "stdout",
     "output_type": "stream",
     "text": [
      "*** *** v=7 *** ***\n",
      "running StochasticMonotone30LackPlanner with seed 0..\n",
      "running StochasticMonotone30LackPlanner with seed 1..\n",
      "running StochasticMonotone30LackPlanner with seed 2..\n",
      "running StochasticMonotone30LackPlanner with seed 3..\n",
      "running StochasticMonotone30LackPlanner with seed 4..\n"
     ]
    },
    {
     "name": "stderr",
     "output_type": "stream",
     "text": [
      " 86%|████████▌ | 6/7 [03:58<00:40, 40.26s/it]"
     ]
    },
    {
     "name": "stdout",
     "output_type": "stream",
     "text": [
      "*** *** v=8 *** ***\n",
      "running StochasticMonotone30LackPlanner with seed 0..\n",
      "running StochasticMonotone30LackPlanner with seed 1..\n",
      "running StochasticMonotone30LackPlanner with seed 2..\n",
      "running StochasticMonotone30LackPlanner with seed 3..\n",
      "running StochasticMonotone30LackPlanner with seed 4..\n"
     ]
    },
    {
     "name": "stderr",
     "output_type": "stream",
     "text": [
      "100%|██████████| 7/7 [04:40<00:00, 40.06s/it]\n",
      "  0%|          | 0/7 [00:00<?, ?it/s]"
     ]
    },
    {
     "name": "stdout",
     "output_type": "stream",
     "text": [
      "*** *** v=2 *** ***\n",
      "running StochasticMonotone20LackPlanner with seed 0..\n",
      "running StochasticMonotone20LackPlanner with seed 1..\n",
      "running StochasticMonotone20LackPlanner with seed 2..\n",
      "running StochasticMonotone20LackPlanner with seed 3..\n",
      "running StochasticMonotone20LackPlanner with seed 4..\n"
     ]
    },
    {
     "name": "stderr",
     "output_type": "stream",
     "text": [
      " 14%|█▍        | 1/7 [00:28<02:53, 28.96s/it]"
     ]
    },
    {
     "name": "stdout",
     "output_type": "stream",
     "text": [
      "*** *** v=3 *** ***\n",
      "running StochasticMonotone20LackPlanner with seed 0..\n",
      "running StochasticMonotone20LackPlanner with seed 1..\n",
      "running StochasticMonotone20LackPlanner with seed 2..\n",
      "running StochasticMonotone20LackPlanner with seed 3..\n",
      "running StochasticMonotone20LackPlanner with seed 4..\n"
     ]
    },
    {
     "name": "stderr",
     "output_type": "stream",
     "text": [
      " 29%|██▊       | 2/7 [00:58<02:25, 29.09s/it]"
     ]
    },
    {
     "name": "stdout",
     "output_type": "stream",
     "text": [
      "*** *** v=4 *** ***\n",
      "running StochasticMonotone20LackPlanner with seed 0..\n",
      "running StochasticMonotone20LackPlanner with seed 1..\n",
      "running StochasticMonotone20LackPlanner with seed 2..\n",
      "running StochasticMonotone20LackPlanner with seed 3..\n",
      "running StochasticMonotone20LackPlanner with seed 4..\n"
     ]
    },
    {
     "name": "stderr",
     "output_type": "stream",
     "text": [
      " 43%|████▎     | 3/7 [01:27<01:57, 29.34s/it]"
     ]
    },
    {
     "name": "stdout",
     "output_type": "stream",
     "text": [
      "*** *** v=5 *** ***\n",
      "running StochasticMonotone20LackPlanner with seed 0..\n",
      "running StochasticMonotone20LackPlanner with seed 1..\n",
      "running StochasticMonotone20LackPlanner with seed 2..\n",
      "running StochasticMonotone20LackPlanner with seed 3..\n",
      "running StochasticMonotone20LackPlanner with seed 4..\n"
     ]
    },
    {
     "name": "stderr",
     "output_type": "stream",
     "text": [
      " 57%|█████▋    | 4/7 [01:57<01:28, 29.57s/it]"
     ]
    },
    {
     "name": "stdout",
     "output_type": "stream",
     "text": [
      "*** *** v=6 *** ***\n",
      "running StochasticMonotone20LackPlanner with seed 0..\n",
      "running StochasticMonotone20LackPlanner with seed 1..\n",
      "running StochasticMonotone20LackPlanner with seed 2..\n",
      "running StochasticMonotone20LackPlanner with seed 3..\n",
      "running StochasticMonotone20LackPlanner with seed 4..\n"
     ]
    },
    {
     "name": "stderr",
     "output_type": "stream",
     "text": [
      " 71%|███████▏  | 5/7 [02:27<00:59, 29.61s/it]"
     ]
    },
    {
     "name": "stdout",
     "output_type": "stream",
     "text": [
      "*** *** v=7 *** ***\n",
      "running StochasticMonotone20LackPlanner with seed 0..\n",
      "running StochasticMonotone20LackPlanner with seed 1..\n",
      "running StochasticMonotone20LackPlanner with seed 2..\n",
      "running StochasticMonotone20LackPlanner with seed 3..\n",
      "running StochasticMonotone20LackPlanner with seed 4..\n"
     ]
    },
    {
     "name": "stderr",
     "output_type": "stream",
     "text": [
      " 86%|████████▌ | 6/7 [02:58<00:29, 30.00s/it]"
     ]
    },
    {
     "name": "stdout",
     "output_type": "stream",
     "text": [
      "*** *** v=8 *** ***\n",
      "running StochasticMonotone20LackPlanner with seed 0..\n",
      "running StochasticMonotone20LackPlanner with seed 1..\n",
      "running StochasticMonotone20LackPlanner with seed 2..\n",
      "running StochasticMonotone20LackPlanner with seed 3..\n",
      "running StochasticMonotone20LackPlanner with seed 4..\n"
     ]
    },
    {
     "name": "stderr",
     "output_type": "stream",
     "text": [
      "100%|██████████| 7/7 [03:29<00:00, 29.91s/it]\n",
      "  0%|          | 0/7 [00:00<?, ?it/s]"
     ]
    },
    {
     "name": "stdout",
     "output_type": "stream",
     "text": [
      "*** *** v=2 *** ***\n",
      "running StochasticMonotone15LackPlanner with seed 0..\n",
      "running StochasticMonotone15LackPlanner with seed 1..\n",
      "running StochasticMonotone15LackPlanner with seed 2..\n",
      "running StochasticMonotone15LackPlanner with seed 3..\n",
      "running StochasticMonotone15LackPlanner with seed 4..\n"
     ]
    },
    {
     "name": "stderr",
     "output_type": "stream",
     "text": [
      " 14%|█▍        | 1/7 [00:24<02:25, 24.23s/it]"
     ]
    },
    {
     "name": "stdout",
     "output_type": "stream",
     "text": [
      "*** *** v=3 *** ***\n",
      "running StochasticMonotone15LackPlanner with seed 0..\n",
      "running StochasticMonotone15LackPlanner with seed 1..\n",
      "running StochasticMonotone15LackPlanner with seed 2..\n",
      "running StochasticMonotone15LackPlanner with seed 3..\n",
      "running StochasticMonotone15LackPlanner with seed 4..\n"
     ]
    },
    {
     "name": "stderr",
     "output_type": "stream",
     "text": [
      " 29%|██▊       | 2/7 [00:48<02:01, 24.22s/it]"
     ]
    },
    {
     "name": "stdout",
     "output_type": "stream",
     "text": [
      "*** *** v=4 *** ***\n",
      "running StochasticMonotone15LackPlanner with seed 0..\n",
      "running StochasticMonotone15LackPlanner with seed 1..\n",
      "running StochasticMonotone15LackPlanner with seed 2..\n",
      "running StochasticMonotone15LackPlanner with seed 3..\n",
      "running StochasticMonotone15LackPlanner with seed 4..\n"
     ]
    },
    {
     "name": "stderr",
     "output_type": "stream",
     "text": [
      " 43%|████▎     | 3/7 [01:13<01:37, 24.41s/it]"
     ]
    },
    {
     "name": "stdout",
     "output_type": "stream",
     "text": [
      "*** *** v=5 *** ***\n",
      "running StochasticMonotone15LackPlanner with seed 0..\n",
      "running StochasticMonotone15LackPlanner with seed 1..\n",
      "running StochasticMonotone15LackPlanner with seed 2..\n",
      "running StochasticMonotone15LackPlanner with seed 3..\n",
      "running StochasticMonotone15LackPlanner with seed 4..\n"
     ]
    },
    {
     "name": "stderr",
     "output_type": "stream",
     "text": [
      " 57%|█████▋    | 4/7 [01:39<01:15, 25.24s/it]"
     ]
    },
    {
     "name": "stdout",
     "output_type": "stream",
     "text": [
      "*** *** v=6 *** ***\n",
      "running StochasticMonotone15LackPlanner with seed 0..\n",
      "running StochasticMonotone15LackPlanner with seed 1..\n",
      "running StochasticMonotone15LackPlanner with seed 2..\n",
      "running StochasticMonotone15LackPlanner with seed 3..\n",
      "running StochasticMonotone15LackPlanner with seed 4..\n"
     ]
    },
    {
     "name": "stderr",
     "output_type": "stream",
     "text": [
      " 71%|███████▏  | 5/7 [02:05<00:50, 25.32s/it]"
     ]
    },
    {
     "name": "stdout",
     "output_type": "stream",
     "text": [
      "*** *** v=7 *** ***\n",
      "running StochasticMonotone15LackPlanner with seed 0..\n",
      "running StochasticMonotone15LackPlanner with seed 1..\n",
      "running StochasticMonotone15LackPlanner with seed 2..\n",
      "running StochasticMonotone15LackPlanner with seed 3..\n",
      "running StochasticMonotone15LackPlanner with seed 4..\n"
     ]
    },
    {
     "name": "stderr",
     "output_type": "stream",
     "text": [
      " 86%|████████▌ | 6/7 [02:30<00:25, 25.31s/it]"
     ]
    },
    {
     "name": "stdout",
     "output_type": "stream",
     "text": [
      "*** *** v=8 *** ***\n",
      "running StochasticMonotone15LackPlanner with seed 0..\n",
      "running StochasticMonotone15LackPlanner with seed 1..\n",
      "running StochasticMonotone15LackPlanner with seed 2..\n",
      "running StochasticMonotone15LackPlanner with seed 3..\n",
      "running StochasticMonotone15LackPlanner with seed 4..\n"
     ]
    },
    {
     "name": "stderr",
     "output_type": "stream",
     "text": [
      "100%|██████████| 7/7 [02:57<00:00, 25.30s/it]\n"
     ]
    }
   ],
   "source": [
    "planners = [StochasticMonotoneLackPlanner()]\n",
    "\n",
    "for planner in planners:\n",
    "    for alpha in [math.pi / 4, math.pi / 6, math.pi / 9, math.pi / 12]:\n",
    "        planner.alpha = alpha\n",
    "\n",
    "        for v in tqdm([2, 3, 4, 5, 6, 7, 8]):\n",
    "            print(f'*** *** v={v} *** ***')\n",
    "            for s in range(5):\n",
    "                seed(s)\n",
    "\n",
    "                config['num_robots'] = v\n",
    "                print(f'running {str(planner)} with seed {s}..')\n",
    "                run(planner, 'robots_results.csv')"
   ],
   "metadata": {
    "collapsed": false,
    "pycharm": {
     "name": "#%%\n"
    }
   }
  },
  {
   "cell_type": "code",
   "execution_count": 101,
   "outputs": [],
   "source": [],
   "metadata": {
    "collapsed": false,
    "pycharm": {
     "name": "#%%\n"
    }
   }
  }
 ],
 "metadata": {
  "kernelspec": {
   "display_name": "Python 3",
   "language": "python",
   "name": "python3"
  },
  "language_info": {
   "codemirror_mode": {
    "name": "ipython",
    "version": 2
   },
   "file_extension": ".py",
   "mimetype": "text/x-python",
   "name": "python",
   "nbconvert_exporter": "python",
   "pygments_lexer": "ipython2",
   "version": "2.7.6"
  }
 },
 "nbformat": 4,
 "nbformat_minor": 0
}